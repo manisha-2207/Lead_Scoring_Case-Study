{
 "cells": [
  {
   "cell_type": "markdown",
   "id": "5e9316a0",
   "metadata": {},
   "source": [
    "### Read and Understand the data"
   ]
  },
  {
   "cell_type": "code",
   "execution_count": 1,
   "id": "eb23864a",
   "metadata": {},
   "outputs": [],
   "source": [
    "# Supress warnings\n",
    "import warnings\n",
    "warnings.filterwarnings('ignore')"
   ]
  },
  {
   "cell_type": "code",
   "execution_count": 2,
   "id": "4da1dfa6",
   "metadata": {},
   "outputs": [],
   "source": [
    "# Import all the libraries\n",
    "import pandas as pd\n",
    "import numpy as np\n",
    "import seaborn as sns\n",
    "import matplotlib.pyplot as plt\n",
    "%matplotlib inline"
   ]
  },
  {
   "cell_type": "code",
   "execution_count": 3,
   "id": "409229e3",
   "metadata": {},
   "outputs": [
    {
     "data": {
      "text/html": [
       "<div>\n",
       "<style scoped>\n",
       "    .dataframe tbody tr th:only-of-type {\n",
       "        vertical-align: middle;\n",
       "    }\n",
       "\n",
       "    .dataframe tbody tr th {\n",
       "        vertical-align: top;\n",
       "    }\n",
       "\n",
       "    .dataframe thead th {\n",
       "        text-align: right;\n",
       "    }\n",
       "</style>\n",
       "<table border=\"1\" class=\"dataframe\">\n",
       "  <thead>\n",
       "    <tr style=\"text-align: right;\">\n",
       "      <th></th>\n",
       "      <th>Prospect ID</th>\n",
       "      <th>Lead Number</th>\n",
       "      <th>Lead Origin</th>\n",
       "      <th>Lead Source</th>\n",
       "      <th>Do Not Email</th>\n",
       "      <th>Do Not Call</th>\n",
       "      <th>Converted</th>\n",
       "      <th>TotalVisits</th>\n",
       "      <th>Total Time Spent on Website</th>\n",
       "      <th>Page Views Per Visit</th>\n",
       "      <th>...</th>\n",
       "      <th>Get updates on DM Content</th>\n",
       "      <th>Lead Profile</th>\n",
       "      <th>City</th>\n",
       "      <th>Asymmetrique Activity Index</th>\n",
       "      <th>Asymmetrique Profile Index</th>\n",
       "      <th>Asymmetrique Activity Score</th>\n",
       "      <th>Asymmetrique Profile Score</th>\n",
       "      <th>I agree to pay the amount through cheque</th>\n",
       "      <th>A free copy of Mastering The Interview</th>\n",
       "      <th>Last Notable Activity</th>\n",
       "    </tr>\n",
       "  </thead>\n",
       "  <tbody>\n",
       "    <tr>\n",
       "      <th>0</th>\n",
       "      <td>7927b2df-8bba-4d29-b9a2-b6e0beafe620</td>\n",
       "      <td>660737</td>\n",
       "      <td>API</td>\n",
       "      <td>Olark Chat</td>\n",
       "      <td>No</td>\n",
       "      <td>No</td>\n",
       "      <td>0</td>\n",
       "      <td>0.0</td>\n",
       "      <td>0</td>\n",
       "      <td>0.0</td>\n",
       "      <td>...</td>\n",
       "      <td>No</td>\n",
       "      <td>Select</td>\n",
       "      <td>Select</td>\n",
       "      <td>02.Medium</td>\n",
       "      <td>02.Medium</td>\n",
       "      <td>15.0</td>\n",
       "      <td>15.0</td>\n",
       "      <td>No</td>\n",
       "      <td>No</td>\n",
       "      <td>Modified</td>\n",
       "    </tr>\n",
       "    <tr>\n",
       "      <th>1</th>\n",
       "      <td>2a272436-5132-4136-86fa-dcc88c88f482</td>\n",
       "      <td>660728</td>\n",
       "      <td>API</td>\n",
       "      <td>Organic Search</td>\n",
       "      <td>No</td>\n",
       "      <td>No</td>\n",
       "      <td>0</td>\n",
       "      <td>5.0</td>\n",
       "      <td>674</td>\n",
       "      <td>2.5</td>\n",
       "      <td>...</td>\n",
       "      <td>No</td>\n",
       "      <td>Select</td>\n",
       "      <td>Select</td>\n",
       "      <td>02.Medium</td>\n",
       "      <td>02.Medium</td>\n",
       "      <td>15.0</td>\n",
       "      <td>15.0</td>\n",
       "      <td>No</td>\n",
       "      <td>No</td>\n",
       "      <td>Email Opened</td>\n",
       "    </tr>\n",
       "    <tr>\n",
       "      <th>2</th>\n",
       "      <td>8cc8c611-a219-4f35-ad23-fdfd2656bd8a</td>\n",
       "      <td>660727</td>\n",
       "      <td>Landing Page Submission</td>\n",
       "      <td>Direct Traffic</td>\n",
       "      <td>No</td>\n",
       "      <td>No</td>\n",
       "      <td>1</td>\n",
       "      <td>2.0</td>\n",
       "      <td>1532</td>\n",
       "      <td>2.0</td>\n",
       "      <td>...</td>\n",
       "      <td>No</td>\n",
       "      <td>Potential Lead</td>\n",
       "      <td>Mumbai</td>\n",
       "      <td>02.Medium</td>\n",
       "      <td>01.High</td>\n",
       "      <td>14.0</td>\n",
       "      <td>20.0</td>\n",
       "      <td>No</td>\n",
       "      <td>Yes</td>\n",
       "      <td>Email Opened</td>\n",
       "    </tr>\n",
       "    <tr>\n",
       "      <th>3</th>\n",
       "      <td>0cc2df48-7cf4-4e39-9de9-19797f9b38cc</td>\n",
       "      <td>660719</td>\n",
       "      <td>Landing Page Submission</td>\n",
       "      <td>Direct Traffic</td>\n",
       "      <td>No</td>\n",
       "      <td>No</td>\n",
       "      <td>0</td>\n",
       "      <td>1.0</td>\n",
       "      <td>305</td>\n",
       "      <td>1.0</td>\n",
       "      <td>...</td>\n",
       "      <td>No</td>\n",
       "      <td>Select</td>\n",
       "      <td>Mumbai</td>\n",
       "      <td>02.Medium</td>\n",
       "      <td>01.High</td>\n",
       "      <td>13.0</td>\n",
       "      <td>17.0</td>\n",
       "      <td>No</td>\n",
       "      <td>No</td>\n",
       "      <td>Modified</td>\n",
       "    </tr>\n",
       "    <tr>\n",
       "      <th>4</th>\n",
       "      <td>3256f628-e534-4826-9d63-4a8b88782852</td>\n",
       "      <td>660681</td>\n",
       "      <td>Landing Page Submission</td>\n",
       "      <td>Google</td>\n",
       "      <td>No</td>\n",
       "      <td>No</td>\n",
       "      <td>1</td>\n",
       "      <td>2.0</td>\n",
       "      <td>1428</td>\n",
       "      <td>1.0</td>\n",
       "      <td>...</td>\n",
       "      <td>No</td>\n",
       "      <td>Select</td>\n",
       "      <td>Mumbai</td>\n",
       "      <td>02.Medium</td>\n",
       "      <td>01.High</td>\n",
       "      <td>15.0</td>\n",
       "      <td>18.0</td>\n",
       "      <td>No</td>\n",
       "      <td>No</td>\n",
       "      <td>Modified</td>\n",
       "    </tr>\n",
       "  </tbody>\n",
       "</table>\n",
       "<p>5 rows × 37 columns</p>\n",
       "</div>"
      ],
      "text/plain": [
       "                            Prospect ID  Lead Number              Lead Origin  \\\n",
       "0  7927b2df-8bba-4d29-b9a2-b6e0beafe620       660737                      API   \n",
       "1  2a272436-5132-4136-86fa-dcc88c88f482       660728                      API   \n",
       "2  8cc8c611-a219-4f35-ad23-fdfd2656bd8a       660727  Landing Page Submission   \n",
       "3  0cc2df48-7cf4-4e39-9de9-19797f9b38cc       660719  Landing Page Submission   \n",
       "4  3256f628-e534-4826-9d63-4a8b88782852       660681  Landing Page Submission   \n",
       "\n",
       "      Lead Source Do Not Email Do Not Call  Converted  TotalVisits  \\\n",
       "0      Olark Chat           No          No          0          0.0   \n",
       "1  Organic Search           No          No          0          5.0   \n",
       "2  Direct Traffic           No          No          1          2.0   \n",
       "3  Direct Traffic           No          No          0          1.0   \n",
       "4          Google           No          No          1          2.0   \n",
       "\n",
       "   Total Time Spent on Website  Page Views Per Visit  ...  \\\n",
       "0                            0                   0.0  ...   \n",
       "1                          674                   2.5  ...   \n",
       "2                         1532                   2.0  ...   \n",
       "3                          305                   1.0  ...   \n",
       "4                         1428                   1.0  ...   \n",
       "\n",
       "  Get updates on DM Content    Lead Profile    City  \\\n",
       "0                        No          Select  Select   \n",
       "1                        No          Select  Select   \n",
       "2                        No  Potential Lead  Mumbai   \n",
       "3                        No          Select  Mumbai   \n",
       "4                        No          Select  Mumbai   \n",
       "\n",
       "  Asymmetrique Activity Index Asymmetrique Profile Index  \\\n",
       "0                   02.Medium                  02.Medium   \n",
       "1                   02.Medium                  02.Medium   \n",
       "2                   02.Medium                    01.High   \n",
       "3                   02.Medium                    01.High   \n",
       "4                   02.Medium                    01.High   \n",
       "\n",
       "  Asymmetrique Activity Score Asymmetrique Profile Score  \\\n",
       "0                        15.0                       15.0   \n",
       "1                        15.0                       15.0   \n",
       "2                        14.0                       20.0   \n",
       "3                        13.0                       17.0   \n",
       "4                        15.0                       18.0   \n",
       "\n",
       "  I agree to pay the amount through cheque  \\\n",
       "0                                       No   \n",
       "1                                       No   \n",
       "2                                       No   \n",
       "3                                       No   \n",
       "4                                       No   \n",
       "\n",
       "  A free copy of Mastering The Interview Last Notable Activity  \n",
       "0                                     No              Modified  \n",
       "1                                     No          Email Opened  \n",
       "2                                    Yes          Email Opened  \n",
       "3                                     No              Modified  \n",
       "4                                     No              Modified  \n",
       "\n",
       "[5 rows x 37 columns]"
      ]
     },
     "execution_count": 3,
     "metadata": {},
     "output_type": "execute_result"
    }
   ],
   "source": [
    "# Read the dataset from csv file \n",
    "leads = pd.read_csv('Leads.csv')\n",
    "leads.head()"
   ]
  },
  {
   "cell_type": "code",
   "execution_count": 4,
   "id": "9b5b4641",
   "metadata": {},
   "outputs": [
    {
     "data": {
      "text/plain": [
       "(9240, 37)"
      ]
     },
     "execution_count": 4,
     "metadata": {},
     "output_type": "execute_result"
    }
   ],
   "source": [
    "# Let's look at the no. of rows and columns in the dataset \n",
    "leads.shape"
   ]
  },
  {
   "cell_type": "code",
   "execution_count": 5,
   "id": "e33bc3e1",
   "metadata": {},
   "outputs": [
    {
     "name": "stdout",
     "output_type": "stream",
     "text": [
      "<class 'pandas.core.frame.DataFrame'>\n",
      "RangeIndex: 9240 entries, 0 to 9239\n",
      "Data columns (total 37 columns):\n",
      " #   Column                                         Non-Null Count  Dtype  \n",
      "---  ------                                         --------------  -----  \n",
      " 0   Prospect ID                                    9240 non-null   object \n",
      " 1   Lead Number                                    9240 non-null   int64  \n",
      " 2   Lead Origin                                    9240 non-null   object \n",
      " 3   Lead Source                                    9204 non-null   object \n",
      " 4   Do Not Email                                   9240 non-null   object \n",
      " 5   Do Not Call                                    9240 non-null   object \n",
      " 6   Converted                                      9240 non-null   int64  \n",
      " 7   TotalVisits                                    9103 non-null   float64\n",
      " 8   Total Time Spent on Website                    9240 non-null   int64  \n",
      " 9   Page Views Per Visit                           9103 non-null   float64\n",
      " 10  Last Activity                                  9137 non-null   object \n",
      " 11  Country                                        6779 non-null   object \n",
      " 12  Specialization                                 7802 non-null   object \n",
      " 13  How did you hear about X Education             7033 non-null   object \n",
      " 14  What is your current occupation                6550 non-null   object \n",
      " 15  What matters most to you in choosing a course  6531 non-null   object \n",
      " 16  Search                                         9240 non-null   object \n",
      " 17  Magazine                                       9240 non-null   object \n",
      " 18  Newspaper Article                              9240 non-null   object \n",
      " 19  X Education Forums                             9240 non-null   object \n",
      " 20  Newspaper                                      9240 non-null   object \n",
      " 21  Digital Advertisement                          9240 non-null   object \n",
      " 22  Through Recommendations                        9240 non-null   object \n",
      " 23  Receive More Updates About Our Courses         9240 non-null   object \n",
      " 24  Tags                                           5887 non-null   object \n",
      " 25  Lead Quality                                   4473 non-null   object \n",
      " 26  Update me on Supply Chain Content              9240 non-null   object \n",
      " 27  Get updates on DM Content                      9240 non-null   object \n",
      " 28  Lead Profile                                   6531 non-null   object \n",
      " 29  City                                           7820 non-null   object \n",
      " 30  Asymmetrique Activity Index                    5022 non-null   object \n",
      " 31  Asymmetrique Profile Index                     5022 non-null   object \n",
      " 32  Asymmetrique Activity Score                    5022 non-null   float64\n",
      " 33  Asymmetrique Profile Score                     5022 non-null   float64\n",
      " 34  I agree to pay the amount through cheque       9240 non-null   object \n",
      " 35  A free copy of Mastering The Interview         9240 non-null   object \n",
      " 36  Last Notable Activity                          9240 non-null   object \n",
      "dtypes: float64(4), int64(3), object(30)\n",
      "memory usage: 2.6+ MB\n"
     ]
    }
   ],
   "source": [
    "# Get the info about columns\n",
    "leads.info()"
   ]
  },
  {
   "cell_type": "markdown",
   "id": "336947e8",
   "metadata": {},
   "source": [
    "Total 7 numeric columns and 30 categorical columns. None of the columns have inconsistent datatype, hence no conversion is required."
   ]
  },
  {
   "cell_type": "code",
   "execution_count": 6,
   "id": "c67cea06",
   "metadata": {},
   "outputs": [
    {
     "data": {
      "text/html": [
       "<div>\n",
       "<style scoped>\n",
       "    .dataframe tbody tr th:only-of-type {\n",
       "        vertical-align: middle;\n",
       "    }\n",
       "\n",
       "    .dataframe tbody tr th {\n",
       "        vertical-align: top;\n",
       "    }\n",
       "\n",
       "    .dataframe thead th {\n",
       "        text-align: right;\n",
       "    }\n",
       "</style>\n",
       "<table border=\"1\" class=\"dataframe\">\n",
       "  <thead>\n",
       "    <tr style=\"text-align: right;\">\n",
       "      <th></th>\n",
       "      <th>Lead Number</th>\n",
       "      <th>Converted</th>\n",
       "      <th>TotalVisits</th>\n",
       "      <th>Total Time Spent on Website</th>\n",
       "      <th>Page Views Per Visit</th>\n",
       "      <th>Asymmetrique Activity Score</th>\n",
       "      <th>Asymmetrique Profile Score</th>\n",
       "    </tr>\n",
       "  </thead>\n",
       "  <tbody>\n",
       "    <tr>\n",
       "      <th>count</th>\n",
       "      <td>9240.000000</td>\n",
       "      <td>9240.000000</td>\n",
       "      <td>9103.000000</td>\n",
       "      <td>9240.000000</td>\n",
       "      <td>9103.000000</td>\n",
       "      <td>5022.000000</td>\n",
       "      <td>5022.000000</td>\n",
       "    </tr>\n",
       "    <tr>\n",
       "      <th>mean</th>\n",
       "      <td>617188.435606</td>\n",
       "      <td>0.385390</td>\n",
       "      <td>3.445238</td>\n",
       "      <td>487.698268</td>\n",
       "      <td>2.362820</td>\n",
       "      <td>14.306252</td>\n",
       "      <td>16.344883</td>\n",
       "    </tr>\n",
       "    <tr>\n",
       "      <th>std</th>\n",
       "      <td>23405.995698</td>\n",
       "      <td>0.486714</td>\n",
       "      <td>4.854853</td>\n",
       "      <td>548.021466</td>\n",
       "      <td>2.161418</td>\n",
       "      <td>1.386694</td>\n",
       "      <td>1.811395</td>\n",
       "    </tr>\n",
       "    <tr>\n",
       "      <th>min</th>\n",
       "      <td>579533.000000</td>\n",
       "      <td>0.000000</td>\n",
       "      <td>0.000000</td>\n",
       "      <td>0.000000</td>\n",
       "      <td>0.000000</td>\n",
       "      <td>7.000000</td>\n",
       "      <td>11.000000</td>\n",
       "    </tr>\n",
       "    <tr>\n",
       "      <th>25%</th>\n",
       "      <td>596484.500000</td>\n",
       "      <td>0.000000</td>\n",
       "      <td>1.000000</td>\n",
       "      <td>12.000000</td>\n",
       "      <td>1.000000</td>\n",
       "      <td>14.000000</td>\n",
       "      <td>15.000000</td>\n",
       "    </tr>\n",
       "    <tr>\n",
       "      <th>50%</th>\n",
       "      <td>615479.000000</td>\n",
       "      <td>0.000000</td>\n",
       "      <td>3.000000</td>\n",
       "      <td>248.000000</td>\n",
       "      <td>2.000000</td>\n",
       "      <td>14.000000</td>\n",
       "      <td>16.000000</td>\n",
       "    </tr>\n",
       "    <tr>\n",
       "      <th>75%</th>\n",
       "      <td>637387.250000</td>\n",
       "      <td>1.000000</td>\n",
       "      <td>5.000000</td>\n",
       "      <td>936.000000</td>\n",
       "      <td>3.000000</td>\n",
       "      <td>15.000000</td>\n",
       "      <td>18.000000</td>\n",
       "    </tr>\n",
       "    <tr>\n",
       "      <th>max</th>\n",
       "      <td>660737.000000</td>\n",
       "      <td>1.000000</td>\n",
       "      <td>251.000000</td>\n",
       "      <td>2272.000000</td>\n",
       "      <td>55.000000</td>\n",
       "      <td>18.000000</td>\n",
       "      <td>20.000000</td>\n",
       "    </tr>\n",
       "  </tbody>\n",
       "</table>\n",
       "</div>"
      ],
      "text/plain": [
       "         Lead Number    Converted  TotalVisits  Total Time Spent on Website  \\\n",
       "count    9240.000000  9240.000000  9103.000000                  9240.000000   \n",
       "mean   617188.435606     0.385390     3.445238                   487.698268   \n",
       "std     23405.995698     0.486714     4.854853                   548.021466   \n",
       "min    579533.000000     0.000000     0.000000                     0.000000   \n",
       "25%    596484.500000     0.000000     1.000000                    12.000000   \n",
       "50%    615479.000000     0.000000     3.000000                   248.000000   \n",
       "75%    637387.250000     1.000000     5.000000                   936.000000   \n",
       "max    660737.000000     1.000000   251.000000                  2272.000000   \n",
       "\n",
       "       Page Views Per Visit  Asymmetrique Activity Score  \\\n",
       "count           9103.000000                  5022.000000   \n",
       "mean               2.362820                    14.306252   \n",
       "std                2.161418                     1.386694   \n",
       "min                0.000000                     7.000000   \n",
       "25%                1.000000                    14.000000   \n",
       "50%                2.000000                    14.000000   \n",
       "75%                3.000000                    15.000000   \n",
       "max               55.000000                    18.000000   \n",
       "\n",
       "       Asymmetrique Profile Score  \n",
       "count                 5022.000000  \n",
       "mean                    16.344883  \n",
       "std                      1.811395  \n",
       "min                     11.000000  \n",
       "25%                     15.000000  \n",
       "50%                     16.000000  \n",
       "75%                     18.000000  \n",
       "max                     20.000000  "
      ]
     },
     "execution_count": 6,
     "metadata": {},
     "output_type": "execute_result"
    }
   ],
   "source": [
    "# Check the details of numerical data \n",
    "leads.describe()"
   ]
  },
  {
   "cell_type": "markdown",
   "id": "cbdc5015",
   "metadata": {},
   "source": [
    "From above observation we can see that the column 'TotalVisits','Total Time Spent on Website','Page Views Per Visit' having outliers, because there is significant difference between min and max values. So we will verify it later by using EDA."
   ]
  },
  {
   "cell_type": "markdown",
   "id": "ecec4256",
   "metadata": {},
   "source": [
    "### Data Quality Check & Cleaning "
   ]
  },
  {
   "cell_type": "code",
   "execution_count": 7,
   "id": "0edf9c4d",
   "metadata": {},
   "outputs": [],
   "source": [
    "# Checking for duplicates and dropping the entire duplicate row if any\n",
    "leads.drop_duplicates(subset=None, inplace=True)"
   ]
  },
  {
   "cell_type": "code",
   "execution_count": 8,
   "id": "95a1aa51",
   "metadata": {},
   "outputs": [
    {
     "data": {
      "text/plain": [
       "(9240, 37)"
      ]
     },
     "execution_count": 8,
     "metadata": {},
     "output_type": "execute_result"
    }
   ],
   "source": [
    "leads.shape"
   ]
  },
  {
   "cell_type": "markdown",
   "id": "cf326aee",
   "metadata": {},
   "source": [
    "Since the shape before and after dropping the duplicates is same hence it seems no duplicates value in the dataset."
   ]
  },
  {
   "cell_type": "markdown",
   "id": "b0838812",
   "metadata": {},
   "source": [
    "There are some categorical variables have a values called 'Select'. It means that the customer had not selected any option while filling the form. So its better to impute these values with null values."
   ]
  },
  {
   "cell_type": "code",
   "execution_count": 9,
   "id": "37eaa954",
   "metadata": {},
   "outputs": [],
   "source": [
    "# Imputing 'Select' values with NaN.\n",
    "leads = leads.replace('Select', np.nan)"
   ]
  },
  {
   "cell_type": "code",
   "execution_count": 10,
   "id": "ea2a0285",
   "metadata": {},
   "outputs": [
    {
     "data": {
      "text/plain": [
       "Prospect ID                                       0.00\n",
       "Lead Number                                       0.00\n",
       "Lead Origin                                       0.00\n",
       "Lead Source                                       0.39\n",
       "Do Not Email                                      0.00\n",
       "Do Not Call                                       0.00\n",
       "Converted                                         0.00\n",
       "TotalVisits                                       1.48\n",
       "Total Time Spent on Website                       0.00\n",
       "Page Views Per Visit                              1.48\n",
       "Last Activity                                     1.11\n",
       "Country                                          26.63\n",
       "Specialization                                   36.58\n",
       "How did you hear about X Education               78.46\n",
       "What is your current occupation                  29.11\n",
       "What matters most to you in choosing a course    29.32\n",
       "Search                                            0.00\n",
       "Magazine                                          0.00\n",
       "Newspaper Article                                 0.00\n",
       "X Education Forums                                0.00\n",
       "Newspaper                                         0.00\n",
       "Digital Advertisement                             0.00\n",
       "Through Recommendations                           0.00\n",
       "Receive More Updates About Our Courses            0.00\n",
       "Tags                                             36.29\n",
       "Lead Quality                                     51.59\n",
       "Update me on Supply Chain Content                 0.00\n",
       "Get updates on DM Content                         0.00\n",
       "Lead Profile                                     74.19\n",
       "City                                             39.71\n",
       "Asymmetrique Activity Index                      45.65\n",
       "Asymmetrique Profile Index                       45.65\n",
       "Asymmetrique Activity Score                      45.65\n",
       "Asymmetrique Profile Score                       45.65\n",
       "I agree to pay the amount through cheque          0.00\n",
       "A free copy of Mastering The Interview            0.00\n",
       "Last Notable Activity                             0.00\n",
       "dtype: float64"
      ]
     },
     "execution_count": 10,
     "metadata": {},
     "output_type": "execute_result"
    }
   ],
   "source": [
    "# Checking the null percentage in each column \n",
    "round(100*(leads.isnull().sum()/len(leads.index)),2)"
   ]
  },
  {
   "cell_type": "markdown",
   "id": "361dcfae",
   "metadata": {},
   "source": [
    "We can see that there are highest percentage of missing values in some column. We can drop the columns with missing values greater than 30% ."
   ]
  },
  {
   "cell_type": "code",
   "execution_count": 11,
   "id": "de996f89",
   "metadata": {},
   "outputs": [],
   "source": [
    "# Now let's drop those columns which have more than 30% null values\n",
    "leads = leads.drop(['Specialization', 'How did you hear about X Education', 'Tags', 'Lead Quality','Lead Profile','City', \n",
    "                    'Asymmetrique Activity Index', 'Asymmetrique Profile Index','Asymmetrique Activity Score', \n",
    "                    'Asymmetrique Profile Score'], axis=1)"
   ]
  },
  {
   "cell_type": "code",
   "execution_count": 12,
   "id": "ae2ad930",
   "metadata": {},
   "outputs": [
    {
     "data": {
      "text/plain": [
       "(9240, 27)"
      ]
     },
     "execution_count": 12,
     "metadata": {},
     "output_type": "execute_result"
    }
   ],
   "source": [
    "leads.shape"
   ]
  },
  {
   "cell_type": "code",
   "execution_count": 13,
   "id": "f101c7f6",
   "metadata": {},
   "outputs": [
    {
     "data": {
      "text/plain": [
       "Prospect ID                                       0.00\n",
       "Lead Number                                       0.00\n",
       "Lead Origin                                       0.00\n",
       "Lead Source                                       0.39\n",
       "Do Not Email                                      0.00\n",
       "Do Not Call                                       0.00\n",
       "Converted                                         0.00\n",
       "TotalVisits                                       1.48\n",
       "Total Time Spent on Website                       0.00\n",
       "Page Views Per Visit                              1.48\n",
       "Last Activity                                     1.11\n",
       "Country                                          26.63\n",
       "What is your current occupation                  29.11\n",
       "What matters most to you in choosing a course    29.32\n",
       "Search                                            0.00\n",
       "Magazine                                          0.00\n",
       "Newspaper Article                                 0.00\n",
       "X Education Forums                                0.00\n",
       "Newspaper                                         0.00\n",
       "Digital Advertisement                             0.00\n",
       "Through Recommendations                           0.00\n",
       "Receive More Updates About Our Courses            0.00\n",
       "Update me on Supply Chain Content                 0.00\n",
       "Get updates on DM Content                         0.00\n",
       "I agree to pay the amount through cheque          0.00\n",
       "A free copy of Mastering The Interview            0.00\n",
       "Last Notable Activity                             0.00\n",
       "dtype: float64"
      ]
     },
     "execution_count": 13,
     "metadata": {},
     "output_type": "execute_result"
    }
   ],
   "source": [
    "# Again cheking null percentage after removing the column \n",
    "round(100*(leads.isnull().sum()/len(leads.index)), 2)"
   ]
  },
  {
   "cell_type": "markdown",
   "id": "65a7429c",
   "metadata": {},
   "source": [
    "Lead Source, TotalVisits, Page Views Per Visit, Last Activity, Country, What is your current occupation, What matters most to you in choosing a course, these all columns also have null values but less than 30%.\n",
    "\n",
    "So let's see whether we need to impute values in above columns or drop the columns."
   ]
  },
  {
   "cell_type": "code",
   "execution_count": 14,
   "id": "5b76a6ae",
   "metadata": {},
   "outputs": [
    {
     "data": {
      "text/plain": [
       "India                   6492\n",
       "United States             69\n",
       "United Arab Emirates      53\n",
       "Singapore                 24\n",
       "Saudi Arabia              21\n",
       "United Kingdom            15\n",
       "Australia                 13\n",
       "Qatar                     10\n",
       "Hong Kong                  7\n",
       "Bahrain                    7\n",
       "Oman                       6\n",
       "France                     6\n",
       "unknown                    5\n",
       "South Africa               4\n",
       "Nigeria                    4\n",
       "Germany                    4\n",
       "Kuwait                     4\n",
       "Canada                     4\n",
       "Sweden                     3\n",
       "China                      2\n",
       "Asia/Pacific Region        2\n",
       "Uganda                     2\n",
       "Bangladesh                 2\n",
       "Italy                      2\n",
       "Belgium                    2\n",
       "Netherlands                2\n",
       "Ghana                      2\n",
       "Philippines                2\n",
       "Russia                     1\n",
       "Switzerland                1\n",
       "Vietnam                    1\n",
       "Denmark                    1\n",
       "Tanzania                   1\n",
       "Liberia                    1\n",
       "Malaysia                   1\n",
       "Kenya                      1\n",
       "Sri Lanka                  1\n",
       "Indonesia                  1\n",
       "Name: Country, dtype: int64"
      ]
     },
     "execution_count": 14,
     "metadata": {},
     "output_type": "execute_result"
    }
   ],
   "source": [
    "# Let's check the value counts in Country column\n",
    "leads.Country.value_counts()"
   ]
  },
  {
   "cell_type": "code",
   "execution_count": 15,
   "id": "73b24982",
   "metadata": {},
   "outputs": [
    {
     "name": "stdout",
     "output_type": "stream",
     "text": [
      "70.26\n"
     ]
    }
   ],
   "source": [
    "country_perc = round(100*(len(leads[leads['Country'] == 'India'])/len(leads['Country'])),2)\n",
    "print(country_perc)"
   ]
  },
  {
   "cell_type": "markdown",
   "id": "bf280f28",
   "metadata": {},
   "source": [
    "As Country column has 27% null values and 'India' occurs 70% times in this column  so better to drop it because data is skewed here."
   ]
  },
  {
   "cell_type": "code",
   "execution_count": 16,
   "id": "2ee85731",
   "metadata": {},
   "outputs": [],
   "source": [
    "leads=leads.drop(['Country'], axis=1)"
   ]
  },
  {
   "cell_type": "code",
   "execution_count": 17,
   "id": "f6d4f219",
   "metadata": {},
   "outputs": [
    {
     "data": {
      "text/plain": [
       "Google               2868\n",
       "Direct Traffic       2543\n",
       "Olark Chat           1755\n",
       "Organic Search       1154\n",
       "Reference             534\n",
       "Welingak Website      142\n",
       "Referral Sites        125\n",
       "Facebook               55\n",
       "bing                    6\n",
       "google                  5\n",
       "Click2call              4\n",
       "Press_Release           2\n",
       "Social Media            2\n",
       "Live Chat               2\n",
       "youtubechannel          1\n",
       "testone                 1\n",
       "Pay per Click Ads       1\n",
       "welearnblog_Home        1\n",
       "WeLearn                 1\n",
       "blog                    1\n",
       "NC_EDM                  1\n",
       "Name: Lead Source, dtype: int64"
      ]
     },
     "execution_count": 17,
     "metadata": {},
     "output_type": "execute_result"
    }
   ],
   "source": [
    "# Let's check the value counts in Lead Source column\n",
    "leads['Lead Source'].value_counts()"
   ]
  },
  {
   "cell_type": "markdown",
   "id": "648f0278",
   "metadata": {},
   "source": [
    "As we can see above Google appears twice in different cases. Hence we will convert all values with same case i.e. 'Google'.\n",
    "\n",
    "As Google has major chunk of data so we can impute all null values with Google."
   ]
  },
  {
   "cell_type": "code",
   "execution_count": 18,
   "id": "61f3fe98",
   "metadata": {},
   "outputs": [],
   "source": [
    "leads['Lead Source'] = leads['Lead Source'].replace('google', 'Google')\n",
    "leads['Lead Source'] = leads['Lead Source'].replace(np.nan, 'Google')"
   ]
  },
  {
   "cell_type": "code",
   "execution_count": 19,
   "id": "4ede3952",
   "metadata": {
    "scrolled": true
   },
   "outputs": [
    {
     "data": {
      "text/plain": [
       "0.0      2189\n",
       "2.0      1680\n",
       "3.0      1306\n",
       "4.0      1120\n",
       "5.0       783\n",
       "6.0       466\n",
       "1.0       395\n",
       "7.0       309\n",
       "8.0       224\n",
       "9.0       164\n",
       "10.0      114\n",
       "11.0       86\n",
       "13.0       48\n",
       "12.0       45\n",
       "14.0       36\n",
       "16.0       21\n",
       "15.0       18\n",
       "17.0       16\n",
       "18.0       15\n",
       "20.0       12\n",
       "19.0        9\n",
       "21.0        6\n",
       "23.0        6\n",
       "24.0        5\n",
       "25.0        5\n",
       "27.0        5\n",
       "22.0        3\n",
       "29.0        2\n",
       "28.0        2\n",
       "26.0        2\n",
       "141.0       1\n",
       "55.0        1\n",
       "30.0        1\n",
       "43.0        1\n",
       "74.0        1\n",
       "41.0        1\n",
       "54.0        1\n",
       "115.0       1\n",
       "251.0       1\n",
       "32.0        1\n",
       "42.0        1\n",
       "Name: TotalVisits, dtype: int64"
      ]
     },
     "execution_count": 19,
     "metadata": {},
     "output_type": "execute_result"
    }
   ],
   "source": [
    "# Let's check the value counts in TotalVisits column\n",
    "leads['TotalVisits'].value_counts()"
   ]
  },
  {
   "cell_type": "code",
   "execution_count": 20,
   "id": "1fc3ffd2",
   "metadata": {},
   "outputs": [
    {
     "data": {
      "text/plain": [
       "3.0"
      ]
     },
     "execution_count": 20,
     "metadata": {},
     "output_type": "execute_result"
    }
   ],
   "source": [
    "# Let's check the median of the above column\n",
    "leads['TotalVisits'].median()"
   ]
  },
  {
   "cell_type": "code",
   "execution_count": 21,
   "id": "f29937f3",
   "metadata": {},
   "outputs": [],
   "source": [
    "# We will impute the null values by 3 which is median in TotalVisits column\n",
    "leads['TotalVisits'] = leads['TotalVisits'].replace(np.nan, leads['TotalVisits'].median())"
   ]
  },
  {
   "cell_type": "code",
   "execution_count": 22,
   "id": "d063c82f",
   "metadata": {},
   "outputs": [
    {
     "data": {
      "text/plain": [
       "0.00    2189\n",
       "2.00    1795\n",
       "3.00    1196\n",
       "4.00     896\n",
       "1.00     651\n",
       "        ... \n",
       "3.43       1\n",
       "2.56       1\n",
       "6.33       1\n",
       "1.64       1\n",
       "2.08       1\n",
       "Name: Page Views Per Visit, Length: 114, dtype: int64"
      ]
     },
     "execution_count": 22,
     "metadata": {},
     "output_type": "execute_result"
    }
   ],
   "source": [
    "# Let's check the value counts for 'Page Views Per Visit' column \n",
    "leads['Page Views Per Visit'].value_counts()"
   ]
  },
  {
   "cell_type": "code",
   "execution_count": 23,
   "id": "97e5dcc3",
   "metadata": {},
   "outputs": [
    {
     "data": {
      "text/plain": [
       "2.0"
      ]
     },
     "execution_count": 23,
     "metadata": {},
     "output_type": "execute_result"
    }
   ],
   "source": [
    "leads['Page Views Per Visit'].median()"
   ]
  },
  {
   "cell_type": "code",
   "execution_count": 24,
   "id": "1cae4812",
   "metadata": {},
   "outputs": [],
   "source": [
    "leads['Page Views Per Visit'] = leads['Page Views Per Visit'].replace(np.nan, leads['Page Views Per Visit'].median())"
   ]
  },
  {
   "cell_type": "code",
   "execution_count": 25,
   "id": "889765a7",
   "metadata": {},
   "outputs": [
    {
     "data": {
      "text/plain": [
       "Email Opened                    3437\n",
       "SMS Sent                        2745\n",
       "Olark Chat Conversation          973\n",
       "Page Visited on Website          640\n",
       "Converted to Lead                428\n",
       "Email Bounced                    326\n",
       "Email Link Clicked               267\n",
       "Form Submitted on Website        116\n",
       "Unreachable                       93\n",
       "Unsubscribed                      61\n",
       "Had a Phone Conversation          30\n",
       "Approached upfront                 9\n",
       "View in browser link Clicked       6\n",
       "Email Received                     2\n",
       "Email Marked Spam                  2\n",
       "Visited Booth in Tradeshow         1\n",
       "Resubscribed to emails             1\n",
       "Name: Last Activity, dtype: int64"
      ]
     },
     "execution_count": 25,
     "metadata": {},
     "output_type": "execute_result"
    }
   ],
   "source": [
    "# Let's check the value counts for 'Last Activity' column \n",
    "leads['Last Activity'].value_counts()"
   ]
  },
  {
   "cell_type": "markdown",
   "id": "cff1d24e",
   "metadata": {},
   "source": [
    "As we do not know the last activity of leads which are missing values and most frequent value is 'Email Opened' so we can impute missing values with 'Email Opened'."
   ]
  },
  {
   "cell_type": "code",
   "execution_count": 26,
   "id": "ad14520a",
   "metadata": {},
   "outputs": [],
   "source": [
    "leads['Last Activity']=leads['Last Activity'].replace(np.nan, 'Not sure')"
   ]
  },
  {
   "cell_type": "code",
   "execution_count": 27,
   "id": "c7f6ca47",
   "metadata": {},
   "outputs": [
    {
     "data": {
      "text/plain": [
       "Unemployed              5600\n",
       "Working Professional     706\n",
       "Student                  210\n",
       "Other                     16\n",
       "Housewife                 10\n",
       "Businessman                8\n",
       "Name: What is your current occupation, dtype: int64"
      ]
     },
     "execution_count": 27,
     "metadata": {},
     "output_type": "execute_result"
    }
   ],
   "source": [
    "# Check the value counts for the column \"What is your current Occupation\"\n",
    "leads['What is your current occupation'].value_counts()"
   ]
  },
  {
   "cell_type": "code",
   "execution_count": 28,
   "id": "de8ba5a4",
   "metadata": {},
   "outputs": [],
   "source": [
    "leads['What is your current occupation']=leads['What is your current occupation'].replace(np.nan, 'No Information')"
   ]
  },
  {
   "cell_type": "code",
   "execution_count": 29,
   "id": "38bccb9f",
   "metadata": {},
   "outputs": [
    {
     "data": {
      "text/plain": [
       "Better Career Prospects      6528\n",
       "Flexibility & Convenience       2\n",
       "Other                           1\n",
       "Name: What matters most to you in choosing a course, dtype: int64"
      ]
     },
     "execution_count": 29,
     "metadata": {},
     "output_type": "execute_result"
    }
   ],
   "source": [
    "# Check the value counts for the column 'What matters most to you in choosing a course' \n",
    "leads['What matters most to you in choosing a course'].value_counts()"
   ]
  },
  {
   "cell_type": "code",
   "execution_count": 30,
   "id": "b438418c",
   "metadata": {},
   "outputs": [
    {
     "name": "stdout",
     "output_type": "stream",
     "text": [
      "70.65\n"
     ]
    }
   ],
   "source": [
    "matters_perc= round(100*len(leads[leads['What matters most to you in choosing a course'] \n",
    "                            == 'Better Career Prospects'])/len(leads['What matters most to you in choosing a course']),2)\n",
    "print(matters_perc)"
   ]
  },
  {
   "cell_type": "markdown",
   "id": "3cd75fef",
   "metadata": {},
   "source": [
    "Since 'Better Career Prospects' occurs around 70% of times in the 'What matters most to you in choosing a course' column, and since the column also has around 29% as missing values, so we can drop the column."
   ]
  },
  {
   "cell_type": "code",
   "execution_count": 31,
   "id": "07747e61",
   "metadata": {},
   "outputs": [],
   "source": [
    "leads = leads.drop(['What matters most to you in choosing a course'], axis=1)"
   ]
  },
  {
   "cell_type": "code",
   "execution_count": 32,
   "id": "89ee3e21",
   "metadata": {},
   "outputs": [
    {
     "data": {
      "text/plain": [
       "Prospect ID                                 0.0\n",
       "Lead Number                                 0.0\n",
       "Lead Origin                                 0.0\n",
       "Lead Source                                 0.0\n",
       "Do Not Email                                0.0\n",
       "Do Not Call                                 0.0\n",
       "Converted                                   0.0\n",
       "TotalVisits                                 0.0\n",
       "Total Time Spent on Website                 0.0\n",
       "Page Views Per Visit                        0.0\n",
       "Last Activity                               0.0\n",
       "What is your current occupation             0.0\n",
       "Search                                      0.0\n",
       "Magazine                                    0.0\n",
       "Newspaper Article                           0.0\n",
       "X Education Forums                          0.0\n",
       "Newspaper                                   0.0\n",
       "Digital Advertisement                       0.0\n",
       "Through Recommendations                     0.0\n",
       "Receive More Updates About Our Courses      0.0\n",
       "Update me on Supply Chain Content           0.0\n",
       "Get updates on DM Content                   0.0\n",
       "I agree to pay the amount through cheque    0.0\n",
       "A free copy of Mastering The Interview      0.0\n",
       "Last Notable Activity                       0.0\n",
       "dtype: float64"
      ]
     },
     "execution_count": 32,
     "metadata": {},
     "output_type": "execute_result"
    }
   ],
   "source": [
    "# checking percentage of null values in each column\n",
    "round(100*(leads.isnull().sum()/len(leads.index)), 2)"
   ]
  },
  {
   "cell_type": "markdown",
   "id": "b339885e",
   "metadata": {},
   "source": [
    "We can see above that there is no missing values present in the dataset."
   ]
  },
  {
   "cell_type": "code",
   "execution_count": 33,
   "id": "dc209bb4",
   "metadata": {},
   "outputs": [
    {
     "data": {
      "text/plain": [
       "0"
      ]
     },
     "execution_count": 33,
     "metadata": {},
     "output_type": "execute_result"
    }
   ],
   "source": [
    "# Checking duplicate values in 'Prospect ID and 'Lead Number'\n",
    "\n",
    "leads.duplicated(subset = 'Prospect ID').sum()\n",
    "leads.duplicated(subset = 'Lead Number').sum()"
   ]
  },
  {
   "cell_type": "markdown",
   "id": "1676119a",
   "metadata": {},
   "source": [
    "'Prospect ID' & 'Lead Number' both don't have duplicate values means these columns identify each data uniquely. So we can drop it."
   ]
  },
  {
   "cell_type": "code",
   "execution_count": 34,
   "id": "7b9d0e70",
   "metadata": {},
   "outputs": [],
   "source": [
    "leads.drop(['Prospect ID', 'Lead Number'],1, inplace=True)"
   ]
  },
  {
   "cell_type": "code",
   "execution_count": 35,
   "id": "2152c10a",
   "metadata": {},
   "outputs": [
    {
     "name": "stdout",
     "output_type": "stream",
     "text": [
      "Lead Origin =====\n",
      "Landing Page Submission    4886\n",
      "API                        3580\n",
      "Lead Add Form               718\n",
      "Lead Import                  55\n",
      "Quick Add Form                1\n",
      "Name: Lead Origin, dtype: int64 \n",
      "\n",
      "Lead Source =====\n",
      "Google               2909\n",
      "Direct Traffic       2543\n",
      "Olark Chat           1755\n",
      "Organic Search       1154\n",
      "Reference             534\n",
      "Welingak Website      142\n",
      "Referral Sites        125\n",
      "Facebook               55\n",
      "bing                    6\n",
      "Click2call              4\n",
      "Social Media            2\n",
      "Live Chat               2\n",
      "Press_Release           2\n",
      "Pay per Click Ads       1\n",
      "blog                    1\n",
      "WeLearn                 1\n",
      "welearnblog_Home        1\n",
      "youtubechannel          1\n",
      "testone                 1\n",
      "NC_EDM                  1\n",
      "Name: Lead Source, dtype: int64 \n",
      "\n",
      "Do Not Email =====\n",
      "No     8506\n",
      "Yes     734\n",
      "Name: Do Not Email, dtype: int64 \n",
      "\n",
      "Do Not Call =====\n",
      "No     9238\n",
      "Yes       2\n",
      "Name: Do Not Call, dtype: int64 \n",
      "\n",
      "Converted =====\n",
      "0    5679\n",
      "1    3561\n",
      "Name: Converted, dtype: int64 \n",
      "\n",
      "TotalVisits =====\n",
      "0.0      2189\n",
      "2.0      1680\n",
      "3.0      1443\n",
      "4.0      1120\n",
      "5.0       783\n",
      "6.0       466\n",
      "1.0       395\n",
      "7.0       309\n",
      "8.0       224\n",
      "9.0       164\n",
      "10.0      114\n",
      "11.0       86\n",
      "13.0       48\n",
      "12.0       45\n",
      "14.0       36\n",
      "16.0       21\n",
      "15.0       18\n",
      "17.0       16\n",
      "18.0       15\n",
      "20.0       12\n",
      "19.0        9\n",
      "21.0        6\n",
      "23.0        6\n",
      "24.0        5\n",
      "25.0        5\n",
      "27.0        5\n",
      "22.0        3\n",
      "29.0        2\n",
      "28.0        2\n",
      "26.0        2\n",
      "141.0       1\n",
      "55.0        1\n",
      "30.0        1\n",
      "43.0        1\n",
      "74.0        1\n",
      "41.0        1\n",
      "54.0        1\n",
      "115.0       1\n",
      "251.0       1\n",
      "32.0        1\n",
      "42.0        1\n",
      "Name: TotalVisits, dtype: int64 \n",
      "\n",
      "Total Time Spent on Website =====\n",
      "0       2193\n",
      "60        19\n",
      "74        18\n",
      "75        18\n",
      "127       18\n",
      "        ... \n",
      "1701       1\n",
      "1952       1\n",
      "1229       1\n",
      "1743       1\n",
      "927        1\n",
      "Name: Total Time Spent on Website, Length: 1731, dtype: int64 \n",
      "\n",
      "Page Views Per Visit =====\n",
      "0.00    2189\n",
      "2.00    1932\n",
      "3.00    1196\n",
      "4.00     896\n",
      "1.00     651\n",
      "        ... \n",
      "3.43       1\n",
      "2.56       1\n",
      "6.33       1\n",
      "1.64       1\n",
      "2.08       1\n",
      "Name: Page Views Per Visit, Length: 114, dtype: int64 \n",
      "\n",
      "Last Activity =====\n",
      "Email Opened                    3437\n",
      "SMS Sent                        2745\n",
      "Olark Chat Conversation          973\n",
      "Page Visited on Website          640\n",
      "Converted to Lead                428\n",
      "Email Bounced                    326\n",
      "Email Link Clicked               267\n",
      "Form Submitted on Website        116\n",
      "Not sure                         103\n",
      "Unreachable                       93\n",
      "Unsubscribed                      61\n",
      "Had a Phone Conversation          30\n",
      "Approached upfront                 9\n",
      "View in browser link Clicked       6\n",
      "Email Received                     2\n",
      "Email Marked Spam                  2\n",
      "Visited Booth in Tradeshow         1\n",
      "Resubscribed to emails             1\n",
      "Name: Last Activity, dtype: int64 \n",
      "\n",
      "What is your current occupation =====\n",
      "Unemployed              5600\n",
      "No Information          2690\n",
      "Working Professional     706\n",
      "Student                  210\n",
      "Other                     16\n",
      "Housewife                 10\n",
      "Businessman                8\n",
      "Name: What is your current occupation, dtype: int64 \n",
      "\n",
      "Search =====\n",
      "No     9226\n",
      "Yes      14\n",
      "Name: Search, dtype: int64 \n",
      "\n",
      "Magazine =====\n",
      "No    9240\n",
      "Name: Magazine, dtype: int64 \n",
      "\n",
      "Newspaper Article =====\n",
      "No     9238\n",
      "Yes       2\n",
      "Name: Newspaper Article, dtype: int64 \n",
      "\n",
      "X Education Forums =====\n",
      "No     9239\n",
      "Yes       1\n",
      "Name: X Education Forums, dtype: int64 \n",
      "\n",
      "Newspaper =====\n",
      "No     9239\n",
      "Yes       1\n",
      "Name: Newspaper, dtype: int64 \n",
      "\n",
      "Digital Advertisement =====\n",
      "No     9236\n",
      "Yes       4\n",
      "Name: Digital Advertisement, dtype: int64 \n",
      "\n",
      "Through Recommendations =====\n",
      "No     9233\n",
      "Yes       7\n",
      "Name: Through Recommendations, dtype: int64 \n",
      "\n",
      "Receive More Updates About Our Courses =====\n",
      "No    9240\n",
      "Name: Receive More Updates About Our Courses, dtype: int64 \n",
      "\n",
      "Update me on Supply Chain Content =====\n",
      "No    9240\n",
      "Name: Update me on Supply Chain Content, dtype: int64 \n",
      "\n",
      "Get updates on DM Content =====\n",
      "No    9240\n",
      "Name: Get updates on DM Content, dtype: int64 \n",
      "\n",
      "I agree to pay the amount through cheque =====\n",
      "No    9240\n",
      "Name: I agree to pay the amount through cheque, dtype: int64 \n",
      "\n",
      "A free copy of Mastering The Interview =====\n",
      "No     6352\n",
      "Yes    2888\n",
      "Name: A free copy of Mastering The Interview, dtype: int64 \n",
      "\n",
      "Last Notable Activity =====\n",
      "Modified                        3407\n",
      "Email Opened                    2827\n",
      "SMS Sent                        2172\n",
      "Page Visited on Website          318\n",
      "Olark Chat Conversation          183\n",
      "Email Link Clicked               173\n",
      "Email Bounced                     60\n",
      "Unsubscribed                      47\n",
      "Unreachable                       32\n",
      "Had a Phone Conversation          14\n",
      "Email Marked Spam                  2\n",
      "Approached upfront                 1\n",
      "Resubscribed to emails             1\n",
      "View in browser link Clicked       1\n",
      "Form Submitted on Website          1\n",
      "Email Received                     1\n",
      "Name: Last Notable Activity, dtype: int64 \n",
      "\n"
     ]
    }
   ],
   "source": [
    "# Checking the value_counts of remaining variables for better data understanding\n",
    "\n",
    "cols=list(leads.iloc[:,:])  \n",
    "for i in cols:\n",
    "    print(i,'=====')\n",
    "    print(leads[i].value_counts(), '\\n')"
   ]
  },
  {
   "cell_type": "markdown",
   "id": "d7b1e384",
   "metadata": {},
   "source": [
    "From the above value_counts data we can see that columns 'Do Not Call','Search','Magazine','Newspaper Article','X Education Forums','Newspaper,'Digital Advertisement','Through Recommendations','Receive More Updates About Our Courses','Update me on Supply Chain Content',' Get updates on DM Content','I agree to pay the amount through cheque' are having highly imbalance data or skewed data and these variables will not contribute significatly to analysis ,so better to drop these columns.."
   ]
  },
  {
   "cell_type": "code",
   "execution_count": 36,
   "id": "2303f432",
   "metadata": {},
   "outputs": [],
   "source": [
    "# Dropping some redundant columns\n",
    "leads.drop(['Do Not Call', 'Search','Magazine','Newspaper Article','X Education Forums','Newspaper','Digital Advertisement',\n",
    "            'Through Recommendations','Receive More Updates About Our Courses','Update me on Supply Chain Content',\n",
    "            'Get updates on DM Content','I agree to pay the amount through cheque'],1,inplace=True)"
   ]
  },
  {
   "cell_type": "code",
   "execution_count": 37,
   "id": "fb57b909",
   "metadata": {},
   "outputs": [
    {
     "data": {
      "text/plain": [
       "(9240, 11)"
      ]
     },
     "execution_count": 37,
     "metadata": {},
     "output_type": "execute_result"
    }
   ],
   "source": [
    "leads.shape"
   ]
  },
  {
   "cell_type": "markdown",
   "id": "b6c91ffd",
   "metadata": {},
   "source": [
    "### Exploratory Data Analysis"
   ]
  },
  {
   "cell_type": "markdown",
   "id": "0382d906",
   "metadata": {},
   "source": [
    "#### Univariate Analysis"
   ]
  },
  {
   "cell_type": "code",
   "execution_count": 38,
   "id": "b5a05350",
   "metadata": {},
   "outputs": [
    {
     "data": {
      "text/plain": [
       "38.53896103896104"
      ]
     },
     "execution_count": 38,
     "metadata": {},
     "output_type": "execute_result"
    }
   ],
   "source": [
    "# As per problem statement 'Converted' is our target variable. Now let's calculate conversion rate.\n",
    "Converted = (sum(leads['Converted'])/len(leads['Converted'].index))*100\n",
    "Converted"
   ]
  },
  {
   "cell_type": "code",
   "execution_count": 39,
   "id": "7ba42e45",
   "metadata": {},
   "outputs": [
    {
     "data": {
      "text/plain": [
       "0    5679\n",
       "1    3561\n",
       "Name: Converted, dtype: int64"
      ]
     },
     "execution_count": 39,
     "metadata": {},
     "output_type": "execute_result"
    }
   ],
   "source": [
    "# Checking value count of target variable 'Converted':-\n",
    "leads.Converted.value_counts()"
   ]
  },
  {
   "cell_type": "code",
   "execution_count": 40,
   "id": "ffa1c241",
   "metadata": {},
   "outputs": [
    {
     "data": {
      "image/png": "[encoded data removed]",
      "text/plain": [
       "<Figure size 432x288 with 1 Axes>"
      ]
     },
     "metadata": {
      "needs_background": "light"
     },
     "output_type": "display_data"
    }
   ],
   "source": [
    "# Plotting count plot to get clear view of data distribution of 'Converted' column\n",
    "sns.countplot(leads.Converted)\n",
    "plt.title(\"Distribution of Converted Variable\")\n",
    "plt.show()"
   ]
  },
  {
   "cell_type": "code",
   "execution_count": 41,
   "id": "bbf4522c",
   "metadata": {},
   "outputs": [
    {
     "data": {
      "text/plain": [
       "0.6270470153195985"
      ]
     },
     "execution_count": 41,
     "metadata": {},
     "output_type": "execute_result"
    }
   ],
   "source": [
    "# Checking ratio of imbalance:-\n",
    "(leads.Converted==1).sum()/(leads.Converted==0).sum()"
   ]
  },
  {
   "cell_type": "markdown",
   "id": "a09ef2f0",
   "metadata": {},
   "source": [
    "From value count we can see that data is properly balanced with respect to ratio."
   ]
  },
  {
   "cell_type": "markdown",
   "id": "44527562",
   "metadata": {},
   "source": [
    "#### Analyzing Categorical Variables"
   ]
  },
  {
   "cell_type": "code",
   "execution_count": 42,
   "id": "1c796a33",
   "metadata": {},
   "outputs": [
    {
     "data": {
      "image/png": "[encoded data removed]",
      "text/plain": [
       "<Figure size 1080x360 with 1 Axes>"
      ]
     },
     "metadata": {
      "needs_background": "light"
     },
     "output_type": "display_data"
    }
   ],
   "source": [
    "# Plotting count plot of 'Lead Origin' for both 'Converted' 0 and 1\n",
    "plt.figure(figsize = (15,5))\n",
    "\n",
    "ax=sns.countplot(x = \"Lead Origin\", hue = \"Converted\", data = leads)\n",
    "for p in ax.patches:\n",
    "    ax.annotate(str(p.get_height()), (p.get_x() * 1.01 , p.get_height() * 1.01))\n",
    "ax.set(xlabel=None)\n",
    "\n",
    "plt.xticks(rotation = 90)\n",
    "plt.title('Lead Origin',fontsize=20)\n",
    "ax.set_yscale('log')   # Setting logrithmic scale\n",
    "\n",
    "plt.show()"
   ]
  },
  {
   "cell_type": "markdown",
   "id": "ecaa8a4c",
   "metadata": {},
   "source": [
    "From above plot we can observed that :\n",
    "- Conversion rate for 'API' is ~ 31% and for 'Landing Page Submission' is ~36%.\n",
    "- For 'Lead Add Form' number of conversion is more than unsuccessful conversion.\n",
    "- Count of 'Lead Import' is lesser."
   ]
  },
  {
   "cell_type": "code",
   "execution_count": 43,
   "id": "c614bca6",
   "metadata": {},
   "outputs": [
    {
     "data": {
      "image/png": "[encoded data removed]",
      "text/plain": [
       "<Figure size 1800x360 with 1 Axes>"
      ]
     },
     "metadata": {
      "needs_background": "light"
     },
     "output_type": "display_data"
    }
   ],
   "source": [
    "# Plotting count plot of 'Lead Source' based on 'Converted' value 0 and 1\n",
    "plt.figure(figsize = (25,5))\n",
    "\n",
    "ax=sns.countplot(x = \"Lead Source\", hue = \"Converted\", data = leads)\n",
    "for p in ax.patches:\n",
    "    ax.annotate(str(p.get_height()), (p.get_x() * 1.01 , p.get_height() * 1.01))\n",
    "ax.set(xlabel=None)\n",
    "\n",
    "plt.xticks(rotation = 90)\n",
    "plt.title('Lead Source',fontsize=20)\n",
    "ax.set_yscale('log')\n",
    "plt.show()"
   ]
  },
  {
   "cell_type": "markdown",
   "id": "8cbec6c8",
   "metadata": {},
   "source": [
    "From above plot we can observed that:\n",
    "- Google and Direct traffic generates maximum number of leads.\n",
    "- Conversion rate of 'Reference' and 'Welingak Website' leads is high."
   ]
  },
  {
   "cell_type": "code",
   "execution_count": 44,
   "id": "739a5ec3",
   "metadata": {},
   "outputs": [
    {
     "data": {
      "image/png": "[encoded data removed]",
      "text/plain": [
       "<Figure size 1440x360 with 1 Axes>"
      ]
     },
     "metadata": {
      "needs_background": "light"
     },
     "output_type": "display_data"
    }
   ],
   "source": [
    "# Plotting count plot of 'Lead Source' based on 'Converted' value 0 and 1\n",
    "\n",
    "plt.figure(figsize = (20,5))\n",
    "\n",
    "ax=sns.countplot(x = \"Do Not Email\", hue = \"Converted\", data = leads)\n",
    "for p in ax.patches:\n",
    "    ax.annotate(str(p.get_height()), (p.get_x() * 1.01 , p.get_height() * 1.01))\n",
    "ax.set(xlabel=None)\n",
    "\n",
    "plt.xticks(rotation = 90)\n",
    "plt.title('Do Not Email',fontsize=20)\n",
    "\n",
    "ax.set_yscale('log')# Setting logrithmic scale\n",
    "\n",
    "plt.show()"
   ]
  },
  {
   "cell_type": "markdown",
   "id": "af990eb1",
   "metadata": {},
   "source": [
    "People who opted for mail option are becoming more leads."
   ]
  },
  {
   "cell_type": "code",
   "execution_count": 45,
   "id": "24b671bf",
   "metadata": {},
   "outputs": [
    {
     "data": {
      "image/png": "[encoded data removed]",
      "text/plain": [
       "<Figure size 1440x360 with 1 Axes>"
      ]
     },
     "metadata": {
      "needs_background": "light"
     },
     "output_type": "display_data"
    }
   ],
   "source": [
    "# Plotting count plot of 'Lead Source' based on 'Converted' value 0 and 1 :-\n",
    "\n",
    "plt.figure(figsize = (20,5))\n",
    "\n",
    "ax=sns.countplot(x = \"Last Activity\", hue = \"Converted\", data = leads)\n",
    "for p in ax.patches:\n",
    "    ax.annotate(str(p.get_height()), (p.get_x() * 1.01 , p.get_height() * 1.01))\n",
    "ax.set(xlabel=None)\n",
    "\n",
    "plt.xticks(rotation = 90)\n",
    "plt.title('Last Activity',fontsize=20)\n",
    "\n",
    "ax.set_yscale('log')# Setting logrithmic scale\n",
    "\n",
    "plt.show()"
   ]
  },
  {
   "cell_type": "markdown",
   "id": "15c5f0be",
   "metadata": {},
   "source": [
    "From above plot we can observed that:\n",
    "- Conversion rate for last activity of 'SMS Sent' is ~63%.\n",
    "- Highest last activity of leads is 'Email Opened'."
   ]
  },
  {
   "cell_type": "code",
   "execution_count": 46,
   "id": "ee78e936",
   "metadata": {
    "scrolled": false
   },
   "outputs": [
    {
     "data": {
      "image/png": "[encoded data removed]",
      "text/plain": [
       "<Figure size 1440x360 with 1 Axes>"
      ]
     },
     "metadata": {
      "needs_background": "light"
     },
     "output_type": "display_data"
    }
   ],
   "source": [
    "# Plotting count plot of 'What is your current occupation' based on 'Converted' value 0 and 1 :-\n",
    "\n",
    "plt.figure(figsize = (20,5))\n",
    "\n",
    "ax=sns.countplot(x = \"What is your current occupation\", hue = \"Converted\", data = leads)\n",
    "for p in ax.patches:\n",
    "    ax.annotate(str(p.get_height()), (p.get_x() * 1.01 , p.get_height() * 1.01))\n",
    "ax.set(xlabel=None)\n",
    "\n",
    "plt.xticks(rotation = 90)\n",
    "plt.title('Current Occupation',fontsize=20)\n",
    "\n",
    "ax.set_yscale('log')# Setting logrithmic scale\n",
    "\n",
    "plt.show()"
   ]
  },
  {
   "cell_type": "markdown",
   "id": "89fca073",
   "metadata": {},
   "source": [
    "From above graph we conclude that:\n",
    "- 'Unemployed' leads are generating more number of leads and having ~45% conversion rate.\n",
    "- Conversion rate is higher for 'Working Professionals'."
   ]
  },
  {
   "cell_type": "markdown",
   "id": "bb646b70",
   "metadata": {},
   "source": [
    "#### Checking for Outliers "
   ]
  },
  {
   "cell_type": "code",
   "execution_count": 47,
   "id": "14cfe801",
   "metadata": {},
   "outputs": [
    {
     "data": {
      "text/html": [
       "<div>\n",
       "<style scoped>\n",
       "    .dataframe tbody tr th:only-of-type {\n",
       "        vertical-align: middle;\n",
       "    }\n",
       "\n",
       "    .dataframe tbody tr th {\n",
       "        vertical-align: top;\n",
       "    }\n",
       "\n",
       "    .dataframe thead th {\n",
       "        text-align: right;\n",
       "    }\n",
       "</style>\n",
       "<table border=\"1\" class=\"dataframe\">\n",
       "  <thead>\n",
       "    <tr style=\"text-align: right;\">\n",
       "      <th></th>\n",
       "      <th>Converted</th>\n",
       "      <th>TotalVisits</th>\n",
       "      <th>Total Time Spent on Website</th>\n",
       "      <th>Page Views Per Visit</th>\n",
       "    </tr>\n",
       "  </thead>\n",
       "  <tbody>\n",
       "    <tr>\n",
       "      <th>count</th>\n",
       "      <td>9240.000000</td>\n",
       "      <td>9240.000000</td>\n",
       "      <td>9240.000000</td>\n",
       "      <td>9240.000000</td>\n",
       "    </tr>\n",
       "    <tr>\n",
       "      <th>mean</th>\n",
       "      <td>0.385390</td>\n",
       "      <td>3.438636</td>\n",
       "      <td>487.698268</td>\n",
       "      <td>2.357440</td>\n",
       "    </tr>\n",
       "    <tr>\n",
       "      <th>std</th>\n",
       "      <td>0.486714</td>\n",
       "      <td>4.819024</td>\n",
       "      <td>548.021466</td>\n",
       "      <td>2.145781</td>\n",
       "    </tr>\n",
       "    <tr>\n",
       "      <th>min</th>\n",
       "      <td>0.000000</td>\n",
       "      <td>0.000000</td>\n",
       "      <td>0.000000</td>\n",
       "      <td>0.000000</td>\n",
       "    </tr>\n",
       "    <tr>\n",
       "      <th>25%</th>\n",
       "      <td>0.000000</td>\n",
       "      <td>1.000000</td>\n",
       "      <td>12.000000</td>\n",
       "      <td>1.000000</td>\n",
       "    </tr>\n",
       "    <tr>\n",
       "      <th>50%</th>\n",
       "      <td>0.000000</td>\n",
       "      <td>3.000000</td>\n",
       "      <td>248.000000</td>\n",
       "      <td>2.000000</td>\n",
       "    </tr>\n",
       "    <tr>\n",
       "      <th>75%</th>\n",
       "      <td>1.000000</td>\n",
       "      <td>5.000000</td>\n",
       "      <td>936.000000</td>\n",
       "      <td>3.000000</td>\n",
       "    </tr>\n",
       "    <tr>\n",
       "      <th>90%</th>\n",
       "      <td>1.000000</td>\n",
       "      <td>7.000000</td>\n",
       "      <td>1380.000000</td>\n",
       "      <td>5.000000</td>\n",
       "    </tr>\n",
       "    <tr>\n",
       "      <th>95%</th>\n",
       "      <td>1.000000</td>\n",
       "      <td>10.000000</td>\n",
       "      <td>1562.000000</td>\n",
       "      <td>6.000000</td>\n",
       "    </tr>\n",
       "    <tr>\n",
       "      <th>99%</th>\n",
       "      <td>1.000000</td>\n",
       "      <td>17.000000</td>\n",
       "      <td>1840.610000</td>\n",
       "      <td>9.000000</td>\n",
       "    </tr>\n",
       "    <tr>\n",
       "      <th>max</th>\n",
       "      <td>1.000000</td>\n",
       "      <td>251.000000</td>\n",
       "      <td>2272.000000</td>\n",
       "      <td>55.000000</td>\n",
       "    </tr>\n",
       "  </tbody>\n",
       "</table>\n",
       "</div>"
      ],
      "text/plain": [
       "         Converted  TotalVisits  Total Time Spent on Website  \\\n",
       "count  9240.000000  9240.000000                  9240.000000   \n",
       "mean      0.385390     3.438636                   487.698268   \n",
       "std       0.486714     4.819024                   548.021466   \n",
       "min       0.000000     0.000000                     0.000000   \n",
       "25%       0.000000     1.000000                    12.000000   \n",
       "50%       0.000000     3.000000                   248.000000   \n",
       "75%       1.000000     5.000000                   936.000000   \n",
       "90%       1.000000     7.000000                  1380.000000   \n",
       "95%       1.000000    10.000000                  1562.000000   \n",
       "99%       1.000000    17.000000                  1840.610000   \n",
       "max       1.000000   251.000000                  2272.000000   \n",
       "\n",
       "       Page Views Per Visit  \n",
       "count           9240.000000  \n",
       "mean               2.357440  \n",
       "std                2.145781  \n",
       "min                0.000000  \n",
       "25%                1.000000  \n",
       "50%                2.000000  \n",
       "75%                3.000000  \n",
       "90%                5.000000  \n",
       "95%                6.000000  \n",
       "99%                9.000000  \n",
       "max               55.000000  "
      ]
     },
     "execution_count": 47,
     "metadata": {},
     "output_type": "execute_result"
    }
   ],
   "source": [
    "# Checking outliers at 25%,50%,75%,90%,95% and above\n",
    "leads.describe(percentiles=[.25,.5,.75,.90,.95,.99])"
   ]
  },
  {
   "cell_type": "markdown",
   "id": "f3ead147",
   "metadata": {},
   "source": [
    "From the above, we can see that outlier exists in the columns TotalVisits and Page Views Per Visit columns."
   ]
  },
  {
   "cell_type": "code",
   "execution_count": 48,
   "id": "4bd96f29",
   "metadata": {},
   "outputs": [
    {
     "data": {
      "image/png": "[encoded data removed]",
      "text/plain": [
       "<Figure size 1152x1296 with 3 Axes>"
      ]
     },
     "metadata": {
      "needs_background": "light"
     },
     "output_type": "display_data"
    }
   ],
   "source": [
    "# Check the outliers in all the numeric columns\n",
    "\n",
    "plt.figure(figsize=(16, 18))\n",
    "plt.subplot(4,3,1)\n",
    "sns.boxplot(y = 'TotalVisits', palette='Set3', data = leads)\n",
    "plt.subplot(4,3,2)\n",
    "sns.boxplot(y = 'Total Time Spent on Website', palette='Set3', data = leads)\n",
    "plt.subplot(4,3,3)\n",
    "sns.boxplot(y = 'Page Views Per Visit', palette='Set3', data = leads)\n",
    "plt.show()"
   ]
  },
  {
   "cell_type": "markdown",
   "id": "c506c659",
   "metadata": {},
   "source": [
    "We can see from above box plot that only upper range outliers are present in 'TotalVisits and 'Page Views Per Visit, so need to treat outliers and no outliers present in 'Total Time Spent on Website'."
   ]
  },
  {
   "cell_type": "code",
   "execution_count": 49,
   "id": "0e89422b",
   "metadata": {},
   "outputs": [],
   "source": [
    "# Removing values beyond 99% for Total Visits\n",
    "\n",
    "Q1 = leads['TotalVisits'].quantile(0.99)\n",
    "leads = leads[leads[\"TotalVisits\"] < Q1]"
   ]
  },
  {
   "cell_type": "code",
   "execution_count": 50,
   "id": "69963183",
   "metadata": {},
   "outputs": [],
   "source": [
    "Q3 = leads['Page Views Per Visit'].quantile(0.99)\n",
    "leads = leads[leads[\"Page Views Per Visit\"] < Q3]"
   ]
  },
  {
   "cell_type": "code",
   "execution_count": 51,
   "id": "c2fe142a",
   "metadata": {},
   "outputs": [
    {
     "data": {
      "text/html": [
       "<div>\n",
       "<style scoped>\n",
       "    .dataframe tbody tr th:only-of-type {\n",
       "        vertical-align: middle;\n",
       "    }\n",
       "\n",
       "    .dataframe tbody tr th {\n",
       "        vertical-align: top;\n",
       "    }\n",
       "\n",
       "    .dataframe thead th {\n",
       "        text-align: right;\n",
       "    }\n",
       "</style>\n",
       "<table border=\"1\" class=\"dataframe\">\n",
       "  <thead>\n",
       "    <tr style=\"text-align: right;\">\n",
       "      <th></th>\n",
       "      <th>Converted</th>\n",
       "      <th>TotalVisits</th>\n",
       "      <th>Total Time Spent on Website</th>\n",
       "      <th>Page Views Per Visit</th>\n",
       "    </tr>\n",
       "  </thead>\n",
       "  <tbody>\n",
       "    <tr>\n",
       "      <th>count</th>\n",
       "      <td>9029.000000</td>\n",
       "      <td>9029.000000</td>\n",
       "      <td>9029.000000</td>\n",
       "      <td>9029.000000</td>\n",
       "    </tr>\n",
       "    <tr>\n",
       "      <th>mean</th>\n",
       "      <td>0.385092</td>\n",
       "      <td>3.087164</td>\n",
       "      <td>483.133016</td>\n",
       "      <td>2.226383</td>\n",
       "    </tr>\n",
       "    <tr>\n",
       "      <th>std</th>\n",
       "      <td>0.486644</td>\n",
       "      <td>2.801244</td>\n",
       "      <td>547.420675</td>\n",
       "      <td>1.823395</td>\n",
       "    </tr>\n",
       "    <tr>\n",
       "      <th>min</th>\n",
       "      <td>0.000000</td>\n",
       "      <td>0.000000</td>\n",
       "      <td>0.000000</td>\n",
       "      <td>0.000000</td>\n",
       "    </tr>\n",
       "    <tr>\n",
       "      <th>25%</th>\n",
       "      <td>0.000000</td>\n",
       "      <td>1.000000</td>\n",
       "      <td>7.000000</td>\n",
       "      <td>1.000000</td>\n",
       "    </tr>\n",
       "    <tr>\n",
       "      <th>50%</th>\n",
       "      <td>0.000000</td>\n",
       "      <td>3.000000</td>\n",
       "      <td>245.000000</td>\n",
       "      <td>2.000000</td>\n",
       "    </tr>\n",
       "    <tr>\n",
       "      <th>75%</th>\n",
       "      <td>1.000000</td>\n",
       "      <td>4.000000</td>\n",
       "      <td>929.000000</td>\n",
       "      <td>3.000000</td>\n",
       "    </tr>\n",
       "    <tr>\n",
       "      <th>90%</th>\n",
       "      <td>1.000000</td>\n",
       "      <td>7.000000</td>\n",
       "      <td>1378.000000</td>\n",
       "      <td>5.000000</td>\n",
       "    </tr>\n",
       "    <tr>\n",
       "      <th>95%</th>\n",
       "      <td>1.000000</td>\n",
       "      <td>8.000000</td>\n",
       "      <td>1558.000000</td>\n",
       "      <td>6.000000</td>\n",
       "    </tr>\n",
       "    <tr>\n",
       "      <th>99%</th>\n",
       "      <td>1.000000</td>\n",
       "      <td>13.000000</td>\n",
       "      <td>1839.720000</td>\n",
       "      <td>7.000000</td>\n",
       "    </tr>\n",
       "    <tr>\n",
       "      <th>max</th>\n",
       "      <td>1.000000</td>\n",
       "      <td>16.000000</td>\n",
       "      <td>2272.000000</td>\n",
       "      <td>8.000000</td>\n",
       "    </tr>\n",
       "  </tbody>\n",
       "</table>\n",
       "</div>"
      ],
      "text/plain": [
       "         Converted  TotalVisits  Total Time Spent on Website  \\\n",
       "count  9029.000000  9029.000000                  9029.000000   \n",
       "mean      0.385092     3.087164                   483.133016   \n",
       "std       0.486644     2.801244                   547.420675   \n",
       "min       0.000000     0.000000                     0.000000   \n",
       "25%       0.000000     1.000000                     7.000000   \n",
       "50%       0.000000     3.000000                   245.000000   \n",
       "75%       1.000000     4.000000                   929.000000   \n",
       "90%       1.000000     7.000000                  1378.000000   \n",
       "95%       1.000000     8.000000                  1558.000000   \n",
       "99%       1.000000    13.000000                  1839.720000   \n",
       "max       1.000000    16.000000                  2272.000000   \n",
       "\n",
       "       Page Views Per Visit  \n",
       "count           9029.000000  \n",
       "mean               2.226383  \n",
       "std                1.823395  \n",
       "min                0.000000  \n",
       "25%                1.000000  \n",
       "50%                2.000000  \n",
       "75%                3.000000  \n",
       "90%                5.000000  \n",
       "95%                6.000000  \n",
       "99%                7.000000  \n",
       "max                8.000000  "
      ]
     },
     "execution_count": 51,
     "metadata": {},
     "output_type": "execute_result"
    }
   ],
   "source": [
    "# Checking outliers at 25%,50%,75%,90%,95% and above\n",
    "leads.describe(percentiles=[.25,.5,.75,.90,.95,.99])"
   ]
  },
  {
   "cell_type": "code",
   "execution_count": 52,
   "id": "836b0634",
   "metadata": {},
   "outputs": [
    {
     "data": {
      "image/png": "[encoded data removed]",
      "text/plain": [
       "<Figure size 1152x1296 with 3 Axes>"
      ]
     },
     "metadata": {
      "needs_background": "light"
     },
     "output_type": "display_data"
    }
   ],
   "source": [
    "# Checking the Outliers\n",
    "\n",
    "plt.figure(figsize=(16, 18))\n",
    "plt.subplot(4,3,1)\n",
    "sns.boxplot(y = 'TotalVisits', palette='Set3', data = leads)\n",
    "plt.subplot(4,3,2)\n",
    "sns.boxplot(y = 'Total Time Spent on Website', palette='Set3', data = leads)\n",
    "plt.subplot(4,3,3)\n",
    "sns.boxplot(y = 'Page Views Per Visit', palette='Set3', data = leads)\n",
    "plt.show()"
   ]
  },
  {
   "cell_type": "code",
   "execution_count": 53,
   "id": "aea31b57",
   "metadata": {},
   "outputs": [
    {
     "name": "stdout",
     "output_type": "stream",
     "text": [
      "97.72\n"
     ]
    }
   ],
   "source": [
    "# Calculate the percentage of data retained\n",
    "\n",
    "retained_perc= round(100*(len(leads)/9240),2)\n",
    "print(retained_perc)"
   ]
  },
  {
   "cell_type": "markdown",
   "id": "892aeadc",
   "metadata": {},
   "source": [
    "At this point, the data has been cleaned and around 98% of data has been retained."
   ]
  },
  {
   "cell_type": "markdown",
   "id": "901140c3",
   "metadata": {},
   "source": [
    "#### Bivariate Analysis"
   ]
  },
  {
   "cell_type": "code",
   "execution_count": 54,
   "id": "af8f44ee",
   "metadata": {},
   "outputs": [
    {
     "data": {
      "image/png": "[encoded data removed]",
      "text/plain": [
       "<Figure size 432x288 with 2 Axes>"
      ]
     },
     "metadata": {
      "needs_background": "light"
     },
     "output_type": "display_data"
    }
   ],
   "source": [
    "# Heatmap to understand the attributes correlation:-\n",
    "\n",
    "plt.figure(figsize = (6,4))        \n",
    "ax = sns.heatmap(leads.corr(),annot = True,cmap='Greens')"
   ]
  },
  {
   "cell_type": "markdown",
   "id": "6a405e98",
   "metadata": {},
   "source": [
    "- TotalVisits' and 'Page Views per Visit' are highly correlated with correlation of 0.72.\n",
    "- 'Total Time Spent on Website' has correlation of 0.36 with target variable 'Converted'."
   ]
  },
  {
   "cell_type": "code",
   "execution_count": 55,
   "id": "6dea6c2c",
   "metadata": {},
   "outputs": [
    {
     "data": {
      "image/png": "[encoded data removed]",
      "text/plain": [
       "<Figure size 432x288 with 1 Axes>"
      ]
     },
     "metadata": {
      "needs_background": "light"
     },
     "output_type": "display_data"
    }
   ],
   "source": [
    "# Plotting box plot of 'Total Time Spent on Website' vs 'Converted' to check data distribution\n",
    "plt.figure(figsize=(6,4))\n",
    "sns.boxplot(x='Converted', y='Total Time Spent on Website', data=leads)\n",
    "plt.show()"
   ]
  },
  {
   "cell_type": "markdown",
   "id": "312d210a",
   "metadata": {},
   "source": [
    "Leads spending more time on website are more likely to opt for courses or converted."
   ]
  },
  {
   "cell_type": "code",
   "execution_count": 56,
   "id": "9d18093b",
   "metadata": {},
   "outputs": [
    {
     "data": {
      "image/png": "[encoded data removed]",
      "text/plain": [
       "<Figure size 432x288 with 1 Axes>"
      ]
     },
     "metadata": {
      "needs_background": "light"
     },
     "output_type": "display_data"
    }
   ],
   "source": [
    "plt.figure(figsize=(6,4))\n",
    "sns.boxplot(x='Converted', y='TotalVisits', data=leads)\n",
    "plt.show()"
   ]
  },
  {
   "cell_type": "markdown",
   "id": "e73eb255",
   "metadata": {},
   "source": [
    "From above plot we can see that the median for Converted and Non-Converted is approximately same."
   ]
  },
  {
   "cell_type": "markdown",
   "id": "e6963e2c",
   "metadata": {},
   "source": [
    "### Data Preparation"
   ]
  },
  {
   "cell_type": "markdown",
   "id": "1f56dce2",
   "metadata": {},
   "source": [
    "#### Converting some binary variables (No/Yes) to 0/1"
   ]
  },
  {
   "cell_type": "code",
   "execution_count": 57,
   "id": "d8e65ce2",
   "metadata": {},
   "outputs": [],
   "source": [
    "varlist = ['Do Not Email', 'A free copy of Mastering The Interview']\n",
    "def binary_map(x):\n",
    "    return x.map({'Yes':1, 'No':0})\n",
    "leads[varlist] = leads[varlist].apply(binary_map)"
   ]
  },
  {
   "cell_type": "code",
   "execution_count": 58,
   "id": "5ec7a4ec",
   "metadata": {},
   "outputs": [
    {
     "data": {
      "text/html": [
       "<div>\n",
       "<style scoped>\n",
       "    .dataframe tbody tr th:only-of-type {\n",
       "        vertical-align: middle;\n",
       "    }\n",
       "\n",
       "    .dataframe tbody tr th {\n",
       "        vertical-align: top;\n",
       "    }\n",
       "\n",
       "    .dataframe thead th {\n",
       "        text-align: right;\n",
       "    }\n",
       "</style>\n",
       "<table border=\"1\" class=\"dataframe\">\n",
       "  <thead>\n",
       "    <tr style=\"text-align: right;\">\n",
       "      <th></th>\n",
       "      <th>Lead Origin</th>\n",
       "      <th>Lead Source</th>\n",
       "      <th>Do Not Email</th>\n",
       "      <th>Converted</th>\n",
       "      <th>TotalVisits</th>\n",
       "      <th>Total Time Spent on Website</th>\n",
       "      <th>Page Views Per Visit</th>\n",
       "      <th>Last Activity</th>\n",
       "      <th>What is your current occupation</th>\n",
       "      <th>A free copy of Mastering The Interview</th>\n",
       "      <th>Last Notable Activity</th>\n",
       "    </tr>\n",
       "  </thead>\n",
       "  <tbody>\n",
       "    <tr>\n",
       "      <th>0</th>\n",
       "      <td>API</td>\n",
       "      <td>Olark Chat</td>\n",
       "      <td>0</td>\n",
       "      <td>0</td>\n",
       "      <td>0.0</td>\n",
       "      <td>0</td>\n",
       "      <td>0.0</td>\n",
       "      <td>Page Visited on Website</td>\n",
       "      <td>Unemployed</td>\n",
       "      <td>0</td>\n",
       "      <td>Modified</td>\n",
       "    </tr>\n",
       "    <tr>\n",
       "      <th>1</th>\n",
       "      <td>API</td>\n",
       "      <td>Organic Search</td>\n",
       "      <td>0</td>\n",
       "      <td>0</td>\n",
       "      <td>5.0</td>\n",
       "      <td>674</td>\n",
       "      <td>2.5</td>\n",
       "      <td>Email Opened</td>\n",
       "      <td>Unemployed</td>\n",
       "      <td>0</td>\n",
       "      <td>Email Opened</td>\n",
       "    </tr>\n",
       "    <tr>\n",
       "      <th>2</th>\n",
       "      <td>Landing Page Submission</td>\n",
       "      <td>Direct Traffic</td>\n",
       "      <td>0</td>\n",
       "      <td>1</td>\n",
       "      <td>2.0</td>\n",
       "      <td>1532</td>\n",
       "      <td>2.0</td>\n",
       "      <td>Email Opened</td>\n",
       "      <td>Student</td>\n",
       "      <td>1</td>\n",
       "      <td>Email Opened</td>\n",
       "    </tr>\n",
       "    <tr>\n",
       "      <th>3</th>\n",
       "      <td>Landing Page Submission</td>\n",
       "      <td>Direct Traffic</td>\n",
       "      <td>0</td>\n",
       "      <td>0</td>\n",
       "      <td>1.0</td>\n",
       "      <td>305</td>\n",
       "      <td>1.0</td>\n",
       "      <td>Unreachable</td>\n",
       "      <td>Unemployed</td>\n",
       "      <td>0</td>\n",
       "      <td>Modified</td>\n",
       "    </tr>\n",
       "    <tr>\n",
       "      <th>4</th>\n",
       "      <td>Landing Page Submission</td>\n",
       "      <td>Google</td>\n",
       "      <td>0</td>\n",
       "      <td>1</td>\n",
       "      <td>2.0</td>\n",
       "      <td>1428</td>\n",
       "      <td>1.0</td>\n",
       "      <td>Converted to Lead</td>\n",
       "      <td>Unemployed</td>\n",
       "      <td>0</td>\n",
       "      <td>Modified</td>\n",
       "    </tr>\n",
       "  </tbody>\n",
       "</table>\n",
       "</div>"
      ],
      "text/plain": [
       "               Lead Origin     Lead Source  Do Not Email  Converted  \\\n",
       "0                      API      Olark Chat             0          0   \n",
       "1                      API  Organic Search             0          0   \n",
       "2  Landing Page Submission  Direct Traffic             0          1   \n",
       "3  Landing Page Submission  Direct Traffic             0          0   \n",
       "4  Landing Page Submission          Google             0          1   \n",
       "\n",
       "   TotalVisits  Total Time Spent on Website  Page Views Per Visit  \\\n",
       "0          0.0                            0                   0.0   \n",
       "1          5.0                          674                   2.5   \n",
       "2          2.0                         1532                   2.0   \n",
       "3          1.0                          305                   1.0   \n",
       "4          2.0                         1428                   1.0   \n",
       "\n",
       "             Last Activity What is your current occupation  \\\n",
       "0  Page Visited on Website                      Unemployed   \n",
       "1             Email Opened                      Unemployed   \n",
       "2             Email Opened                         Student   \n",
       "3              Unreachable                      Unemployed   \n",
       "4        Converted to Lead                      Unemployed   \n",
       "\n",
       "   A free copy of Mastering The Interview Last Notable Activity  \n",
       "0                                       0              Modified  \n",
       "1                                       0          Email Opened  \n",
       "2                                       1          Email Opened  \n",
       "3                                       0              Modified  \n",
       "4                                       0              Modified  "
      ]
     },
     "execution_count": 58,
     "metadata": {},
     "output_type": "execute_result"
    }
   ],
   "source": [
    "leads.head()"
   ]
  },
  {
   "cell_type": "markdown",
   "id": "1a8f3166",
   "metadata": {},
   "source": [
    "#### For categorical variables with multiple levels, create dummy features"
   ]
  },
  {
   "cell_type": "code",
   "execution_count": 59,
   "id": "fdd40f7f",
   "metadata": {},
   "outputs": [],
   "source": [
    "# Create dummy variable for the following columns\n",
    "\n",
    "#Lead Origin\n",
    "lo=pd.get_dummies(leads['Lead Origin'], prefix='LeadOrigin')\n",
    "# Dropping Quick Add Form column\n",
    "lo1=lo.drop(['LeadOrigin_Quick Add Form'], axis=1)\n",
    "# Adding the results to the master dataframe\n",
    "leads=pd.concat([leads, lo1], axis=1)\n",
    "\n",
    "# Lead Source :\n",
    "ls= pd.get_dummies(leads['Lead Source'], prefix='LeadSource')\n",
    "ls1 = ls.drop(['LeadSource_NC_EDM'], axis=1)\n",
    "leads = pd.concat([leads,ls1], axis=1)\n",
    "\n",
    "# last Activity\n",
    "la = pd.get_dummies(leads['Last Activity'], prefix='LastActivity')\n",
    "la1 = la.drop(['LastActivity_Resubscribed to emails'], axis=1)\n",
    "leads = pd.concat([leads,la1], axis=1)\n",
    "\n",
    "# What is your current occupation\n",
    "co = pd.get_dummies(leads['What is your current occupation'], prefix='CurrentOccupation')\n",
    "co1 = co.drop(['CurrentOccupation_Businessman'], axis=1)\n",
    "leads = pd.concat([leads,co1], axis=1)\n",
    "\n",
    "# Last Notable Activity\n",
    "lna= pd.get_dummies(leads['Last Notable Activity'], prefix='LastNotableActivity')\n",
    "lna1 = lna.drop(['LastNotableActivity_Resubscribed to emails'], axis=1)\n",
    "leads = pd.concat([leads,lna1], axis=1)\n"
   ]
  },
  {
   "cell_type": "code",
   "execution_count": 60,
   "id": "2ccdfecd",
   "metadata": {},
   "outputs": [],
   "source": [
    "# Dropping repeated columns for which dummy variables were created\n",
    "leads = leads.drop(['Lead Origin', 'Lead Source', 'Last Activity','What is your current occupation',\n",
    "                    'Last Notable Activity'], axis=1)"
   ]
  },
  {
   "cell_type": "code",
   "execution_count": 61,
   "id": "e71cb67d",
   "metadata": {},
   "outputs": [
    {
     "data": {
      "text/plain": [
       "(9029, 67)"
      ]
     },
     "execution_count": 61,
     "metadata": {},
     "output_type": "execute_result"
    }
   ],
   "source": [
    "leads.shape"
   ]
  },
  {
   "cell_type": "code",
   "execution_count": 62,
   "id": "c3be7bd8",
   "metadata": {},
   "outputs": [
    {
     "name": "stdout",
     "output_type": "stream",
     "text": [
      "<class 'pandas.core.frame.DataFrame'>\n",
      "Int64Index: 9029 entries, 0 to 9239\n",
      "Data columns (total 67 columns):\n",
      " #   Column                                            Non-Null Count  Dtype  \n",
      "---  ------                                            --------------  -----  \n",
      " 0   Do Not Email                                      9029 non-null   int64  \n",
      " 1   Converted                                         9029 non-null   int64  \n",
      " 2   TotalVisits                                       9029 non-null   float64\n",
      " 3   Total Time Spent on Website                       9029 non-null   int64  \n",
      " 4   Page Views Per Visit                              9029 non-null   float64\n",
      " 5   A free copy of Mastering The Interview            9029 non-null   int64  \n",
      " 6   LeadOrigin_API                                    9029 non-null   uint8  \n",
      " 7   LeadOrigin_Landing Page Submission                9029 non-null   uint8  \n",
      " 8   LeadOrigin_Lead Add Form                          9029 non-null   uint8  \n",
      " 9   LeadOrigin_Lead Import                            9029 non-null   uint8  \n",
      " 10  LeadSource_Click2call                             9029 non-null   uint8  \n",
      " 11  LeadSource_Direct Traffic                         9029 non-null   uint8  \n",
      " 12  LeadSource_Facebook                               9029 non-null   uint8  \n",
      " 13  LeadSource_Google                                 9029 non-null   uint8  \n",
      " 14  LeadSource_Live Chat                              9029 non-null   uint8  \n",
      " 15  LeadSource_Olark Chat                             9029 non-null   uint8  \n",
      " 16  LeadSource_Organic Search                         9029 non-null   uint8  \n",
      " 17  LeadSource_Pay per Click Ads                      9029 non-null   uint8  \n",
      " 18  LeadSource_Press_Release                          9029 non-null   uint8  \n",
      " 19  LeadSource_Reference                              9029 non-null   uint8  \n",
      " 20  LeadSource_Referral Sites                         9029 non-null   uint8  \n",
      " 21  LeadSource_Social Media                           9029 non-null   uint8  \n",
      " 22  LeadSource_WeLearn                                9029 non-null   uint8  \n",
      " 23  LeadSource_Welingak Website                       9029 non-null   uint8  \n",
      " 24  LeadSource_bing                                   9029 non-null   uint8  \n",
      " 25  LeadSource_blog                                   9029 non-null   uint8  \n",
      " 26  LeadSource_testone                                9029 non-null   uint8  \n",
      " 27  LeadSource_welearnblog_Home                       9029 non-null   uint8  \n",
      " 28  LeadSource_youtubechannel                         9029 non-null   uint8  \n",
      " 29  LastActivity_Approached upfront                   9029 non-null   uint8  \n",
      " 30  LastActivity_Converted to Lead                    9029 non-null   uint8  \n",
      " 31  LastActivity_Email Bounced                        9029 non-null   uint8  \n",
      " 32  LastActivity_Email Link Clicked                   9029 non-null   uint8  \n",
      " 33  LastActivity_Email Marked Spam                    9029 non-null   uint8  \n",
      " 34  LastActivity_Email Opened                         9029 non-null   uint8  \n",
      " 35  LastActivity_Email Received                       9029 non-null   uint8  \n",
      " 36  LastActivity_Form Submitted on Website            9029 non-null   uint8  \n",
      " 37  LastActivity_Had a Phone Conversation             9029 non-null   uint8  \n",
      " 38  LastActivity_Not sure                             9029 non-null   uint8  \n",
      " 39  LastActivity_Olark Chat Conversation              9029 non-null   uint8  \n",
      " 40  LastActivity_Page Visited on Website              9029 non-null   uint8  \n",
      " 41  LastActivity_SMS Sent                             9029 non-null   uint8  \n",
      " 42  LastActivity_Unreachable                          9029 non-null   uint8  \n",
      " 43  LastActivity_Unsubscribed                         9029 non-null   uint8  \n",
      " 44  LastActivity_View in browser link Clicked         9029 non-null   uint8  \n",
      " 45  LastActivity_Visited Booth in Tradeshow           9029 non-null   uint8  \n",
      " 46  CurrentOccupation_Housewife                       9029 non-null   uint8  \n",
      " 47  CurrentOccupation_No Information                  9029 non-null   uint8  \n",
      " 48  CurrentOccupation_Other                           9029 non-null   uint8  \n",
      " 49  CurrentOccupation_Student                         9029 non-null   uint8  \n",
      " 50  CurrentOccupation_Unemployed                      9029 non-null   uint8  \n",
      " 51  CurrentOccupation_Working Professional            9029 non-null   uint8  \n",
      " 52  LastNotableActivity_Approached upfront            9029 non-null   uint8  \n",
      " 53  LastNotableActivity_Email Bounced                 9029 non-null   uint8  \n",
      " 54  LastNotableActivity_Email Link Clicked            9029 non-null   uint8  \n",
      " 55  LastNotableActivity_Email Marked Spam             9029 non-null   uint8  \n",
      " 56  LastNotableActivity_Email Opened                  9029 non-null   uint8  \n",
      " 57  LastNotableActivity_Email Received                9029 non-null   uint8  \n",
      " 58  LastNotableActivity_Form Submitted on Website     9029 non-null   uint8  \n",
      " 59  LastNotableActivity_Had a Phone Conversation      9029 non-null   uint8  \n",
      " 60  LastNotableActivity_Modified                      9029 non-null   uint8  \n",
      " 61  LastNotableActivity_Olark Chat Conversation       9029 non-null   uint8  \n",
      " 62  LastNotableActivity_Page Visited on Website       9029 non-null   uint8  \n",
      " 63  LastNotableActivity_SMS Sent                      9029 non-null   uint8  \n",
      " 64  LastNotableActivity_Unreachable                   9029 non-null   uint8  \n",
      " 65  LastNotableActivity_Unsubscribed                  9029 non-null   uint8  \n",
      " 66  LastNotableActivity_View in browser link Clicked  9029 non-null   uint8  \n",
      "dtypes: float64(2), int64(4), uint8(61)\n",
      "memory usage: 1.0 MB\n"
     ]
    }
   ],
   "source": [
    "leads.info()"
   ]
  },
  {
   "cell_type": "markdown",
   "id": "c748355e",
   "metadata": {},
   "source": [
    "Now we have all the variables as numeric and no missing value present."
   ]
  },
  {
   "cell_type": "markdown",
   "id": "de79fbd5",
   "metadata": {},
   "source": [
    "### Train-Test Split"
   ]
  },
  {
   "cell_type": "code",
   "execution_count": 63,
   "id": "7b2a7ffc",
   "metadata": {},
   "outputs": [],
   "source": [
    "from sklearn.model_selection import train_test_split"
   ]
  },
  {
   "cell_type": "code",
   "execution_count": 64,
   "id": "f2f0c040",
   "metadata": {},
   "outputs": [
    {
     "data": {
      "text/html": [
       "<div>\n",
       "<style scoped>\n",
       "    .dataframe tbody tr th:only-of-type {\n",
       "        vertical-align: middle;\n",
       "    }\n",
       "\n",
       "    .dataframe tbody tr th {\n",
       "        vertical-align: top;\n",
       "    }\n",
       "\n",
       "    .dataframe thead th {\n",
       "        text-align: right;\n",
       "    }\n",
       "</style>\n",
       "<table border=\"1\" class=\"dataframe\">\n",
       "  <thead>\n",
       "    <tr style=\"text-align: right;\">\n",
       "      <th></th>\n",
       "      <th>Do Not Email</th>\n",
       "      <th>TotalVisits</th>\n",
       "      <th>Total Time Spent on Website</th>\n",
       "      <th>Page Views Per Visit</th>\n",
       "      <th>A free copy of Mastering The Interview</th>\n",
       "      <th>LeadOrigin_API</th>\n",
       "      <th>LeadOrigin_Landing Page Submission</th>\n",
       "      <th>LeadOrigin_Lead Add Form</th>\n",
       "      <th>LeadOrigin_Lead Import</th>\n",
       "      <th>LeadSource_Click2call</th>\n",
       "      <th>...</th>\n",
       "      <th>LastNotableActivity_Email Received</th>\n",
       "      <th>LastNotableActivity_Form Submitted on Website</th>\n",
       "      <th>LastNotableActivity_Had a Phone Conversation</th>\n",
       "      <th>LastNotableActivity_Modified</th>\n",
       "      <th>LastNotableActivity_Olark Chat Conversation</th>\n",
       "      <th>LastNotableActivity_Page Visited on Website</th>\n",
       "      <th>LastNotableActivity_SMS Sent</th>\n",
       "      <th>LastNotableActivity_Unreachable</th>\n",
       "      <th>LastNotableActivity_Unsubscribed</th>\n",
       "      <th>LastNotableActivity_View in browser link Clicked</th>\n",
       "    </tr>\n",
       "  </thead>\n",
       "  <tbody>\n",
       "    <tr>\n",
       "      <th>0</th>\n",
       "      <td>0</td>\n",
       "      <td>0.0</td>\n",
       "      <td>0</td>\n",
       "      <td>0.0</td>\n",
       "      <td>0</td>\n",
       "      <td>1</td>\n",
       "      <td>0</td>\n",
       "      <td>0</td>\n",
       "      <td>0</td>\n",
       "      <td>0</td>\n",
       "      <td>...</td>\n",
       "      <td>0</td>\n",
       "      <td>0</td>\n",
       "      <td>0</td>\n",
       "      <td>1</td>\n",
       "      <td>0</td>\n",
       "      <td>0</td>\n",
       "      <td>0</td>\n",
       "      <td>0</td>\n",
       "      <td>0</td>\n",
       "      <td>0</td>\n",
       "    </tr>\n",
       "    <tr>\n",
       "      <th>1</th>\n",
       "      <td>0</td>\n",
       "      <td>5.0</td>\n",
       "      <td>674</td>\n",
       "      <td>2.5</td>\n",
       "      <td>0</td>\n",
       "      <td>1</td>\n",
       "      <td>0</td>\n",
       "      <td>0</td>\n",
       "      <td>0</td>\n",
       "      <td>0</td>\n",
       "      <td>...</td>\n",
       "      <td>0</td>\n",
       "      <td>0</td>\n",
       "      <td>0</td>\n",
       "      <td>0</td>\n",
       "      <td>0</td>\n",
       "      <td>0</td>\n",
       "      <td>0</td>\n",
       "      <td>0</td>\n",
       "      <td>0</td>\n",
       "      <td>0</td>\n",
       "    </tr>\n",
       "    <tr>\n",
       "      <th>2</th>\n",
       "      <td>0</td>\n",
       "      <td>2.0</td>\n",
       "      <td>1532</td>\n",
       "      <td>2.0</td>\n",
       "      <td>1</td>\n",
       "      <td>0</td>\n",
       "      <td>1</td>\n",
       "      <td>0</td>\n",
       "      <td>0</td>\n",
       "      <td>0</td>\n",
       "      <td>...</td>\n",
       "      <td>0</td>\n",
       "      <td>0</td>\n",
       "      <td>0</td>\n",
       "      <td>0</td>\n",
       "      <td>0</td>\n",
       "      <td>0</td>\n",
       "      <td>0</td>\n",
       "      <td>0</td>\n",
       "      <td>0</td>\n",
       "      <td>0</td>\n",
       "    </tr>\n",
       "    <tr>\n",
       "      <th>3</th>\n",
       "      <td>0</td>\n",
       "      <td>1.0</td>\n",
       "      <td>305</td>\n",
       "      <td>1.0</td>\n",
       "      <td>0</td>\n",
       "      <td>0</td>\n",
       "      <td>1</td>\n",
       "      <td>0</td>\n",
       "      <td>0</td>\n",
       "      <td>0</td>\n",
       "      <td>...</td>\n",
       "      <td>0</td>\n",
       "      <td>0</td>\n",
       "      <td>0</td>\n",
       "      <td>1</td>\n",
       "      <td>0</td>\n",
       "      <td>0</td>\n",
       "      <td>0</td>\n",
       "      <td>0</td>\n",
       "      <td>0</td>\n",
       "      <td>0</td>\n",
       "    </tr>\n",
       "    <tr>\n",
       "      <th>4</th>\n",
       "      <td>0</td>\n",
       "      <td>2.0</td>\n",
       "      <td>1428</td>\n",
       "      <td>1.0</td>\n",
       "      <td>0</td>\n",
       "      <td>0</td>\n",
       "      <td>1</td>\n",
       "      <td>0</td>\n",
       "      <td>0</td>\n",
       "      <td>0</td>\n",
       "      <td>...</td>\n",
       "      <td>0</td>\n",
       "      <td>0</td>\n",
       "      <td>0</td>\n",
       "      <td>1</td>\n",
       "      <td>0</td>\n",
       "      <td>0</td>\n",
       "      <td>0</td>\n",
       "      <td>0</td>\n",
       "      <td>0</td>\n",
       "      <td>0</td>\n",
       "    </tr>\n",
       "  </tbody>\n",
       "</table>\n",
       "<p>5 rows × 66 columns</p>\n",
       "</div>"
      ],
      "text/plain": [
       "   Do Not Email  TotalVisits  Total Time Spent on Website  \\\n",
       "0             0          0.0                            0   \n",
       "1             0          5.0                          674   \n",
       "2             0          2.0                         1532   \n",
       "3             0          1.0                          305   \n",
       "4             0          2.0                         1428   \n",
       "\n",
       "   Page Views Per Visit  A free copy of Mastering The Interview  \\\n",
       "0                   0.0                                       0   \n",
       "1                   2.5                                       0   \n",
       "2                   2.0                                       1   \n",
       "3                   1.0                                       0   \n",
       "4                   1.0                                       0   \n",
       "\n",
       "   LeadOrigin_API  LeadOrigin_Landing Page Submission  \\\n",
       "0               1                                   0   \n",
       "1               1                                   0   \n",
       "2               0                                   1   \n",
       "3               0                                   1   \n",
       "4               0                                   1   \n",
       "\n",
       "   LeadOrigin_Lead Add Form  LeadOrigin_Lead Import  LeadSource_Click2call  \\\n",
       "0                         0                       0                      0   \n",
       "1                         0                       0                      0   \n",
       "2                         0                       0                      0   \n",
       "3                         0                       0                      0   \n",
       "4                         0                       0                      0   \n",
       "\n",
       "   ...  LastNotableActivity_Email Received  \\\n",
       "0  ...                                   0   \n",
       "1  ...                                   0   \n",
       "2  ...                                   0   \n",
       "3  ...                                   0   \n",
       "4  ...                                   0   \n",
       "\n",
       "   LastNotableActivity_Form Submitted on Website  \\\n",
       "0                                              0   \n",
       "1                                              0   \n",
       "2                                              0   \n",
       "3                                              0   \n",
       "4                                              0   \n",
       "\n",
       "   LastNotableActivity_Had a Phone Conversation  LastNotableActivity_Modified  \\\n",
       "0                                             0                             1   \n",
       "1                                             0                             0   \n",
       "2                                             0                             0   \n",
       "3                                             0                             1   \n",
       "4                                             0                             1   \n",
       "\n",
       "   LastNotableActivity_Olark Chat Conversation  \\\n",
       "0                                            0   \n",
       "1                                            0   \n",
       "2                                            0   \n",
       "3                                            0   \n",
       "4                                            0   \n",
       "\n",
       "   LastNotableActivity_Page Visited on Website  LastNotableActivity_SMS Sent  \\\n",
       "0                                            0                             0   \n",
       "1                                            0                             0   \n",
       "2                                            0                             0   \n",
       "3                                            0                             0   \n",
       "4                                            0                             0   \n",
       "\n",
       "   LastNotableActivity_Unreachable  LastNotableActivity_Unsubscribed  \\\n",
       "0                                0                                 0   \n",
       "1                                0                                 0   \n",
       "2                                0                                 0   \n",
       "3                                0                                 0   \n",
       "4                                0                                 0   \n",
       "\n",
       "   LastNotableActivity_View in browser link Clicked  \n",
       "0                                                 0  \n",
       "1                                                 0  \n",
       "2                                                 0  \n",
       "3                                                 0  \n",
       "4                                                 0  \n",
       "\n",
       "[5 rows x 66 columns]"
      ]
     },
     "execution_count": 64,
     "metadata": {},
     "output_type": "execute_result"
    }
   ],
   "source": [
    "# Putting feature variable to X\n",
    "X = leads.drop(['Converted'], axis=1)\n",
    "X.head()"
   ]
  },
  {
   "cell_type": "code",
   "execution_count": 65,
   "id": "d1fb397b",
   "metadata": {},
   "outputs": [
    {
     "data": {
      "text/plain": [
       "0    0\n",
       "1    0\n",
       "2    1\n",
       "3    0\n",
       "4    1\n",
       "Name: Converted, dtype: int64"
      ]
     },
     "execution_count": 65,
     "metadata": {},
     "output_type": "execute_result"
    }
   ],
   "source": [
    "# Putting target variable to y\n",
    "y = leads['Converted']\n",
    "y.head()"
   ]
  },
  {
   "cell_type": "code",
   "execution_count": 66,
   "id": "4acbc9c2",
   "metadata": {},
   "outputs": [],
   "source": [
    "# Splitting the data into train and test (70:30) ratio\n",
    "X_train, X_test, y_train, y_test = train_test_split(X,y, train_size=0.7, random_state=100)"
   ]
  },
  {
   "cell_type": "markdown",
   "id": "768f2a2f",
   "metadata": {},
   "source": [
    "### Feature Scaling"
   ]
  },
  {
   "cell_type": "code",
   "execution_count": 67,
   "id": "fcc1e267",
   "metadata": {},
   "outputs": [],
   "source": [
    "from sklearn.preprocessing import StandardScaler"
   ]
  },
  {
   "cell_type": "code",
   "execution_count": 68,
   "id": "72940d68",
   "metadata": {},
   "outputs": [
    {
     "data": {
      "text/html": [
       "<div>\n",
       "<style scoped>\n",
       "    .dataframe tbody tr th:only-of-type {\n",
       "        vertical-align: middle;\n",
       "    }\n",
       "\n",
       "    .dataframe tbody tr th {\n",
       "        vertical-align: top;\n",
       "    }\n",
       "\n",
       "    .dataframe thead th {\n",
       "        text-align: right;\n",
       "    }\n",
       "</style>\n",
       "<table border=\"1\" class=\"dataframe\">\n",
       "  <thead>\n",
       "    <tr style=\"text-align: right;\">\n",
       "      <th></th>\n",
       "      <th>Do Not Email</th>\n",
       "      <th>TotalVisits</th>\n",
       "      <th>Total Time Spent on Website</th>\n",
       "      <th>Page Views Per Visit</th>\n",
       "      <th>A free copy of Mastering The Interview</th>\n",
       "      <th>LeadOrigin_API</th>\n",
       "      <th>LeadOrigin_Landing Page Submission</th>\n",
       "      <th>LeadOrigin_Lead Add Form</th>\n",
       "      <th>LeadOrigin_Lead Import</th>\n",
       "      <th>LeadSource_Click2call</th>\n",
       "      <th>...</th>\n",
       "      <th>LastNotableActivity_Email Received</th>\n",
       "      <th>LastNotableActivity_Form Submitted on Website</th>\n",
       "      <th>LastNotableActivity_Had a Phone Conversation</th>\n",
       "      <th>LastNotableActivity_Modified</th>\n",
       "      <th>LastNotableActivity_Olark Chat Conversation</th>\n",
       "      <th>LastNotableActivity_Page Visited on Website</th>\n",
       "      <th>LastNotableActivity_SMS Sent</th>\n",
       "      <th>LastNotableActivity_Unreachable</th>\n",
       "      <th>LastNotableActivity_Unsubscribed</th>\n",
       "      <th>LastNotableActivity_View in browser link Clicked</th>\n",
       "    </tr>\n",
       "  </thead>\n",
       "  <tbody>\n",
       "    <tr>\n",
       "      <th>5493</th>\n",
       "      <td>0</td>\n",
       "      <td>-0.394290</td>\n",
       "      <td>-0.708153</td>\n",
       "      <td>-0.135234</td>\n",
       "      <td>1</td>\n",
       "      <td>0</td>\n",
       "      <td>1</td>\n",
       "      <td>0</td>\n",
       "      <td>0</td>\n",
       "      <td>0</td>\n",
       "      <td>...</td>\n",
       "      <td>0</td>\n",
       "      <td>0</td>\n",
       "      <td>0</td>\n",
       "      <td>1</td>\n",
       "      <td>0</td>\n",
       "      <td>0</td>\n",
       "      <td>0</td>\n",
       "      <td>0</td>\n",
       "      <td>0</td>\n",
       "      <td>0</td>\n",
       "    </tr>\n",
       "    <tr>\n",
       "      <th>8064</th>\n",
       "      <td>0</td>\n",
       "      <td>-0.039721</td>\n",
       "      <td>-0.711823</td>\n",
       "      <td>0.410454</td>\n",
       "      <td>0</td>\n",
       "      <td>1</td>\n",
       "      <td>0</td>\n",
       "      <td>0</td>\n",
       "      <td>0</td>\n",
       "      <td>0</td>\n",
       "      <td>...</td>\n",
       "      <td>0</td>\n",
       "      <td>0</td>\n",
       "      <td>0</td>\n",
       "      <td>1</td>\n",
       "      <td>0</td>\n",
       "      <td>0</td>\n",
       "      <td>0</td>\n",
       "      <td>0</td>\n",
       "      <td>0</td>\n",
       "      <td>0</td>\n",
       "    </tr>\n",
       "    <tr>\n",
       "      <th>4716</th>\n",
       "      <td>1</td>\n",
       "      <td>-0.039721</td>\n",
       "      <td>-0.471434</td>\n",
       "      <td>0.410454</td>\n",
       "      <td>1</td>\n",
       "      <td>0</td>\n",
       "      <td>1</td>\n",
       "      <td>0</td>\n",
       "      <td>0</td>\n",
       "      <td>0</td>\n",
       "      <td>...</td>\n",
       "      <td>0</td>\n",
       "      <td>0</td>\n",
       "      <td>0</td>\n",
       "      <td>1</td>\n",
       "      <td>0</td>\n",
       "      <td>0</td>\n",
       "      <td>0</td>\n",
       "      <td>0</td>\n",
       "      <td>0</td>\n",
       "      <td>0</td>\n",
       "    </tr>\n",
       "    <tr>\n",
       "      <th>9117</th>\n",
       "      <td>0</td>\n",
       "      <td>-1.103429</td>\n",
       "      <td>-0.884316</td>\n",
       "      <td>-1.226608</td>\n",
       "      <td>0</td>\n",
       "      <td>1</td>\n",
       "      <td>0</td>\n",
       "      <td>0</td>\n",
       "      <td>0</td>\n",
       "      <td>0</td>\n",
       "      <td>...</td>\n",
       "      <td>0</td>\n",
       "      <td>0</td>\n",
       "      <td>0</td>\n",
       "      <td>0</td>\n",
       "      <td>0</td>\n",
       "      <td>0</td>\n",
       "      <td>0</td>\n",
       "      <td>0</td>\n",
       "      <td>0</td>\n",
       "      <td>0</td>\n",
       "    </tr>\n",
       "    <tr>\n",
       "      <th>2402</th>\n",
       "      <td>0</td>\n",
       "      <td>1.023987</td>\n",
       "      <td>0.704822</td>\n",
       "      <td>-0.135234</td>\n",
       "      <td>0</td>\n",
       "      <td>0</td>\n",
       "      <td>1</td>\n",
       "      <td>0</td>\n",
       "      <td>0</td>\n",
       "      <td>0</td>\n",
       "      <td>...</td>\n",
       "      <td>0</td>\n",
       "      <td>0</td>\n",
       "      <td>0</td>\n",
       "      <td>0</td>\n",
       "      <td>0</td>\n",
       "      <td>0</td>\n",
       "      <td>0</td>\n",
       "      <td>0</td>\n",
       "      <td>0</td>\n",
       "      <td>0</td>\n",
       "    </tr>\n",
       "  </tbody>\n",
       "</table>\n",
       "<p>5 rows × 66 columns</p>\n",
       "</div>"
      ],
      "text/plain": [
       "      Do Not Email  TotalVisits  Total Time Spent on Website  \\\n",
       "5493             0    -0.394290                    -0.708153   \n",
       "8064             0    -0.039721                    -0.711823   \n",
       "4716             1    -0.039721                    -0.471434   \n",
       "9117             0    -1.103429                    -0.884316   \n",
       "2402             0     1.023987                     0.704822   \n",
       "\n",
       "      Page Views Per Visit  A free copy of Mastering The Interview  \\\n",
       "5493             -0.135234                                       1   \n",
       "8064              0.410454                                       0   \n",
       "4716              0.410454                                       1   \n",
       "9117             -1.226608                                       0   \n",
       "2402             -0.135234                                       0   \n",
       "\n",
       "      LeadOrigin_API  LeadOrigin_Landing Page Submission  \\\n",
       "5493               0                                   1   \n",
       "8064               1                                   0   \n",
       "4716               0                                   1   \n",
       "9117               1                                   0   \n",
       "2402               0                                   1   \n",
       "\n",
       "      LeadOrigin_Lead Add Form  LeadOrigin_Lead Import  LeadSource_Click2call  \\\n",
       "5493                         0                       0                      0   \n",
       "8064                         0                       0                      0   \n",
       "4716                         0                       0                      0   \n",
       "9117                         0                       0                      0   \n",
       "2402                         0                       0                      0   \n",
       "\n",
       "      ...  LastNotableActivity_Email Received  \\\n",
       "5493  ...                                   0   \n",
       "8064  ...                                   0   \n",
       "4716  ...                                   0   \n",
       "9117  ...                                   0   \n",
       "2402  ...                                   0   \n",
       "\n",
       "      LastNotableActivity_Form Submitted on Website  \\\n",
       "5493                                              0   \n",
       "8064                                              0   \n",
       "4716                                              0   \n",
       "9117                                              0   \n",
       "2402                                              0   \n",
       "\n",
       "      LastNotableActivity_Had a Phone Conversation  \\\n",
       "5493                                             0   \n",
       "8064                                             0   \n",
       "4716                                             0   \n",
       "9117                                             0   \n",
       "2402                                             0   \n",
       "\n",
       "      LastNotableActivity_Modified  \\\n",
       "5493                             1   \n",
       "8064                             1   \n",
       "4716                             1   \n",
       "9117                             0   \n",
       "2402                             0   \n",
       "\n",
       "      LastNotableActivity_Olark Chat Conversation  \\\n",
       "5493                                            0   \n",
       "8064                                            0   \n",
       "4716                                            0   \n",
       "9117                                            0   \n",
       "2402                                            0   \n",
       "\n",
       "      LastNotableActivity_Page Visited on Website  \\\n",
       "5493                                            0   \n",
       "8064                                            0   \n",
       "4716                                            0   \n",
       "9117                                            0   \n",
       "2402                                            0   \n",
       "\n",
       "      LastNotableActivity_SMS Sent  LastNotableActivity_Unreachable  \\\n",
       "5493                             0                                0   \n",
       "8064                             0                                0   \n",
       "4716                             0                                0   \n",
       "9117                             0                                0   \n",
       "2402                             0                                0   \n",
       "\n",
       "      LastNotableActivity_Unsubscribed  \\\n",
       "5493                                 0   \n",
       "8064                                 0   \n",
       "4716                                 0   \n",
       "9117                                 0   \n",
       "2402                                 0   \n",
       "\n",
       "      LastNotableActivity_View in browser link Clicked  \n",
       "5493                                                 0  \n",
       "8064                                                 0  \n",
       "4716                                                 0  \n",
       "9117                                                 0  \n",
       "2402                                                 0  \n",
       "\n",
       "[5 rows x 66 columns]"
      ]
     },
     "execution_count": 68,
     "metadata": {},
     "output_type": "execute_result"
    }
   ],
   "source": [
    "scaler=StandardScaler()\n",
    "X_train[['TotalVisits', 'Total Time Spent on Website', 'Page Views Per Visit']]=scaler.fit_transform(X_train[['TotalVisits', 'Total Time Spent on Website', 'Page Views Per Visit']])\n",
    "X_train.head()"
   ]
  },
  {
   "cell_type": "code",
   "execution_count": 69,
   "id": "b75741b5",
   "metadata": {},
   "outputs": [
    {
     "data": {
      "text/plain": [
       "38.50924797873519"
      ]
     },
     "execution_count": 69,
     "metadata": {},
     "output_type": "execute_result"
    }
   ],
   "source": [
    "# Checking the conversion rate \n",
    "converted = (sum(leads['Converted'])/len(leads['Converted'].index))*100\n",
    "converted"
   ]
  },
  {
   "cell_type": "markdown",
   "id": "02d3b0d0",
   "metadata": {},
   "source": [
    "We have almost 39% conversion rate"
   ]
  },
  {
   "cell_type": "markdown",
   "id": "e39eb115",
   "metadata": {},
   "source": [
    "### Model Building"
   ]
  },
  {
   "cell_type": "markdown",
   "id": "65cb300b",
   "metadata": {},
   "source": [
    "#### Running first training model"
   ]
  },
  {
   "cell_type": "code",
   "execution_count": 70,
   "id": "d74b1162",
   "metadata": {},
   "outputs": [],
   "source": [
    "import statsmodels.api as sm"
   ]
  },
  {
   "cell_type": "code",
   "execution_count": 71,
   "id": "09220d85",
   "metadata": {
    "scrolled": false
   },
   "outputs": [
    {
     "data": {
      "text/html": [
       "<table class=\"simpletable\">\n",
       "<caption>Generalized Linear Model Regression Results</caption>\n",
       "<tr>\n",
       "  <th>Dep. Variable:</th>       <td>Converted</td>    <th>  No. Observations:  </th>   <td>  6320</td>  \n",
       "</tr>\n",
       "<tr>\n",
       "  <th>Model:</th>                  <td>GLM</td>       <th>  Df Residuals:      </th>   <td>  6261</td>  \n",
       "</tr>\n",
       "<tr>\n",
       "  <th>Model Family:</th>        <td>Binomial</td>     <th>  Df Model:          </th>   <td>    58</td>  \n",
       "</tr>\n",
       "<tr>\n",
       "  <th>Link Function:</th>         <td>Logit</td>      <th>  Scale:             </th>  <td>  1.0000</td> \n",
       "</tr>\n",
       "<tr>\n",
       "  <th>Method:</th>                <td>IRLS</td>       <th>  Log-Likelihood:    </th>  <td>     nan</td> \n",
       "</tr>\n",
       "<tr>\n",
       "  <th>Date:</th>            <td>Sun, 19 Mar 2023</td> <th>  Deviance:          </th> <td>1.4543e+05</td>\n",
       "</tr>\n",
       "<tr>\n",
       "  <th>Time:</th>                <td>23:33:59</td>     <th>  Pearson chi2:      </th>  <td>7.11e+18</td> \n",
       "</tr>\n",
       "<tr>\n",
       "  <th>No. Iterations:</th>         <td>100</td>       <th>  Pseudo R-squ. (CS):</th>   <td>   nan</td>  \n",
       "</tr>\n",
       "<tr>\n",
       "  <th>Covariance Type:</th>     <td>nonrobust</td>    <th>                     </th>      <td> </td>    \n",
       "</tr>\n",
       "</table>\n",
       "<table class=\"simpletable\">\n",
       "<tr>\n",
       "                          <td></td>                            <th>coef</th>     <th>std err</th>      <th>z</th>      <th>P>|z|</th>  <th>[0.025</th>    <th>0.975]</th>  \n",
       "</tr>\n",
       "<tr>\n",
       "  <th>const</th>                                            <td>     5e+15</td> <td> 8.03e+07</td> <td> 6.22e+07</td> <td> 0.000</td> <td>    5e+15</td> <td>    5e+15</td>\n",
       "</tr>\n",
       "<tr>\n",
       "  <th>Do Not Email</th>                                     <td>-5.446e+14</td> <td> 4.55e+06</td> <td> -1.2e+08</td> <td> 0.000</td> <td>-5.45e+14</td> <td>-5.45e+14</td>\n",
       "</tr>\n",
       "<tr>\n",
       "  <th>TotalVisits</th>                                      <td>-3.935e+13</td> <td>  1.3e+06</td> <td>-3.03e+07</td> <td> 0.000</td> <td>-3.94e+13</td> <td>-3.94e+13</td>\n",
       "</tr>\n",
       "<tr>\n",
       "  <th>Total Time Spent on Website</th>                      <td> 1.418e+14</td> <td> 8.82e+05</td> <td> 1.61e+08</td> <td> 0.000</td> <td> 1.42e+14</td> <td> 1.42e+14</td>\n",
       "</tr>\n",
       "<tr>\n",
       "  <th>Page Views Per Visit</th>                             <td> 8.005e+13</td> <td> 1.31e+06</td> <td> 6.12e+07</td> <td> 0.000</td> <td> 8.01e+13</td> <td> 8.01e+13</td>\n",
       "</tr>\n",
       "<tr>\n",
       "  <th>A free copy of Mastering The Interview</th>           <td>-1.761e+14</td> <td> 2.53e+06</td> <td>-6.96e+07</td> <td> 0.000</td> <td>-1.76e+14</td> <td>-1.76e+14</td>\n",
       "</tr>\n",
       "<tr>\n",
       "  <th>LeadOrigin_API</th>                                   <td> 1.508e+15</td> <td> 2.23e+07</td> <td> 6.76e+07</td> <td> 0.000</td> <td> 1.51e+15</td> <td> 1.51e+15</td>\n",
       "</tr>\n",
       "<tr>\n",
       "  <th>LeadOrigin_Landing Page Submission</th>               <td> 1.532e+15</td> <td> 2.23e+07</td> <td> 6.88e+07</td> <td> 0.000</td> <td> 1.53e+15</td> <td> 1.53e+15</td>\n",
       "</tr>\n",
       "<tr>\n",
       "  <th>LeadOrigin_Lead Add Form</th>                         <td> 2.329e+15</td> <td> 2.45e+07</td> <td> 9.52e+07</td> <td> 0.000</td> <td> 2.33e+15</td> <td> 2.33e+15</td>\n",
       "</tr>\n",
       "<tr>\n",
       "  <th>LeadOrigin_Lead Import</th>                           <td>-3.697e+14</td> <td> 4.33e+07</td> <td>-8.54e+06</td> <td> 0.000</td> <td> -3.7e+14</td> <td> -3.7e+14</td>\n",
       "</tr>\n",
       "<tr>\n",
       "  <th>LeadSource_Click2call</th>                            <td>-2.898e+15</td> <td> 7.86e+07</td> <td>-3.69e+07</td> <td> 0.000</td> <td> -2.9e+15</td> <td> -2.9e+15</td>\n",
       "</tr>\n",
       "<tr>\n",
       "  <th>LeadSource_Direct Traffic</th>                        <td>-4.692e+15</td> <td> 6.72e+07</td> <td>-6.98e+07</td> <td> 0.000</td> <td>-4.69e+15</td> <td>-4.69e+15</td>\n",
       "</tr>\n",
       "<tr>\n",
       "  <th>LeadSource_Facebook</th>                              <td>-3.896e+15</td> <td> 8.25e+07</td> <td>-4.72e+07</td> <td> 0.000</td> <td> -3.9e+15</td> <td> -3.9e+15</td>\n",
       "</tr>\n",
       "<tr>\n",
       "  <th>LeadSource_Google</th>                                <td>-4.274e+15</td> <td> 6.72e+07</td> <td>-6.36e+07</td> <td> 0.000</td> <td>-4.27e+15</td> <td>-4.27e+15</td>\n",
       "</tr>\n",
       "<tr>\n",
       "  <th>LeadSource_Live Chat</th>                             <td>-4.046e+15</td> <td> 8.33e+07</td> <td>-4.86e+07</td> <td> 0.000</td> <td>-4.05e+15</td> <td>-4.05e+15</td>\n",
       "</tr>\n",
       "<tr>\n",
       "  <th>LeadSource_Olark Chat</th>                            <td>-3.445e+15</td> <td> 6.72e+07</td> <td>-5.12e+07</td> <td> 0.000</td> <td>-3.45e+15</td> <td>-3.45e+15</td>\n",
       "</tr>\n",
       "<tr>\n",
       "  <th>LeadSource_Organic Search</th>                        <td> -4.68e+15</td> <td> 6.72e+07</td> <td>-6.96e+07</td> <td> 0.000</td> <td>-4.68e+15</td> <td>-4.68e+15</td>\n",
       "</tr>\n",
       "<tr>\n",
       "  <th>LeadSource_Pay per Click Ads</th>                     <td>   80.6273</td> <td> 1.71e-06</td> <td> 4.71e+07</td> <td> 0.000</td> <td>   80.627</td> <td>   80.627</td>\n",
       "</tr>\n",
       "<tr>\n",
       "  <th>LeadSource_Press_Release</th>                         <td>-1.235e+16</td> <td> 9.52e+07</td> <td> -1.3e+08</td> <td> 0.000</td> <td>-1.24e+16</td> <td>-1.24e+16</td>\n",
       "</tr>\n",
       "<tr>\n",
       "  <th>LeadSource_Reference</th>                             <td>-4.393e+15</td> <td> 6.85e+07</td> <td>-6.41e+07</td> <td> 0.000</td> <td>-4.39e+15</td> <td>-4.39e+15</td>\n",
       "</tr>\n",
       "<tr>\n",
       "  <th>LeadSource_Referral Sites</th>                        <td>-4.982e+15</td> <td> 6.76e+07</td> <td>-7.37e+07</td> <td> 0.000</td> <td>-4.98e+15</td> <td>-4.98e+15</td>\n",
       "</tr>\n",
       "<tr>\n",
       "  <th>LeadSource_Social Media</th>                          <td>-4.118e+15</td> <td> 8.23e+07</td> <td>   -5e+07</td> <td> 0.000</td> <td>-4.12e+15</td> <td>-4.12e+15</td>\n",
       "</tr>\n",
       "<tr>\n",
       "  <th>LeadSource_WeLearn</th>                               <td> 2.696e+15</td> <td>  9.5e+07</td> <td> 2.84e+07</td> <td> 0.000</td> <td>  2.7e+15</td> <td>  2.7e+15</td>\n",
       "</tr>\n",
       "<tr>\n",
       "  <th>LeadSource_Welingak Website</th>                      <td>-3.874e+15</td> <td> 6.87e+07</td> <td>-5.64e+07</td> <td> 0.000</td> <td>-3.87e+15</td> <td>-3.87e+15</td>\n",
       "</tr>\n",
       "<tr>\n",
       "  <th>LeadSource_bing</th>                                  <td>-4.513e+15</td> <td> 7.51e+07</td> <td>-6.01e+07</td> <td> 0.000</td> <td>-4.51e+15</td> <td>-4.51e+15</td>\n",
       "</tr>\n",
       "<tr>\n",
       "  <th>LeadSource_blog</th>                                  <td>-1.045e+16</td> <td> 9.49e+07</td> <td> -1.1e+08</td> <td> 0.000</td> <td>-1.04e+16</td> <td>-1.04e+16</td>\n",
       "</tr>\n",
       "<tr>\n",
       "  <th>LeadSource_testone</th>                               <td> -243.4315</td> <td> 2.49e-06</td> <td>-9.78e+07</td> <td> 0.000</td> <td> -243.431</td> <td> -243.431</td>\n",
       "</tr>\n",
       "<tr>\n",
       "  <th>LeadSource_welearnblog_Home</th>                      <td>-1.478e+16</td> <td> 9.49e+07</td> <td>-1.56e+08</td> <td> 0.000</td> <td>-1.48e+16</td> <td>-1.48e+16</td>\n",
       "</tr>\n",
       "<tr>\n",
       "  <th>LeadSource_youtubechannel</th>                        <td>-1.146e+16</td> <td> 9.58e+07</td> <td> -1.2e+08</td> <td> 0.000</td> <td>-1.15e+16</td> <td>-1.15e+16</td>\n",
       "</tr>\n",
       "<tr>\n",
       "  <th>LastActivity_Approached upfront</th>                  <td> 2.059e+15</td> <td>  3.8e+07</td> <td> 5.42e+07</td> <td> 0.000</td> <td> 2.06e+15</td> <td> 2.06e+15</td>\n",
       "</tr>\n",
       "<tr>\n",
       "  <th>LastActivity_Converted to Lead</th>                   <td>-9.833e+14</td> <td> 2.91e+07</td> <td>-3.37e+07</td> <td> 0.000</td> <td>-9.83e+14</td> <td>-9.83e+14</td>\n",
       "</tr>\n",
       "<tr>\n",
       "  <th>LastActivity_Email Bounced</th>                       <td>-1.878e+15</td> <td> 2.96e+07</td> <td>-6.34e+07</td> <td> 0.000</td> <td>-1.88e+15</td> <td>-1.88e+15</td>\n",
       "</tr>\n",
       "<tr>\n",
       "  <th>LastActivity_Email Link Clicked</th>                  <td>-1.839e+15</td> <td>    3e+07</td> <td>-6.13e+07</td> <td> 0.000</td> <td>-1.84e+15</td> <td>-1.84e+15</td>\n",
       "</tr>\n",
       "<tr>\n",
       "  <th>LastActivity_Email Marked Spam</th>                   <td> 7.944e+14</td> <td> 4.12e+07</td> <td> 1.93e+07</td> <td> 0.000</td> <td> 7.94e+14</td> <td> 7.94e+14</td>\n",
       "</tr>\n",
       "<tr>\n",
       "  <th>LastActivity_Email Opened</th>                        <td>-1.666e+15</td> <td> 2.92e+07</td> <td>-5.71e+07</td> <td> 0.000</td> <td>-1.67e+15</td> <td>-1.67e+15</td>\n",
       "</tr>\n",
       "<tr>\n",
       "  <th>LastActivity_Email Received</th>                      <td>-4.848e+14</td> <td> 4.75e+07</td> <td>-1.02e+07</td> <td> 0.000</td> <td>-4.85e+14</td> <td>-4.85e+14</td>\n",
       "</tr>\n",
       "<tr>\n",
       "  <th>LastActivity_Form Submitted on Website</th>           <td>-1.575e+15</td> <td> 2.99e+07</td> <td>-5.26e+07</td> <td> 0.000</td> <td>-1.58e+15</td> <td>-1.58e+15</td>\n",
       "</tr>\n",
       "<tr>\n",
       "  <th>LastActivity_Had a Phone Conversation</th>            <td>-1.159e+15</td> <td> 3.56e+07</td> <td>-3.25e+07</td> <td> 0.000</td> <td>-1.16e+15</td> <td>-1.16e+15</td>\n",
       "</tr>\n",
       "<tr>\n",
       "  <th>LastActivity_Not sure</th>                            <td>-1.166e+15</td> <td> 3.03e+07</td> <td>-3.85e+07</td> <td> 0.000</td> <td>-1.17e+15</td> <td>-1.17e+15</td>\n",
       "</tr>\n",
       "<tr>\n",
       "  <th>LastActivity_Olark Chat Conversation</th>             <td>-2.336e+15</td> <td> 2.92e+07</td> <td>-8.01e+07</td> <td> 0.000</td> <td>-2.34e+15</td> <td>-2.34e+15</td>\n",
       "</tr>\n",
       "<tr>\n",
       "  <th>LastActivity_Page Visited on Website</th>             <td>-1.685e+15</td> <td> 2.94e+07</td> <td>-5.74e+07</td> <td> 0.000</td> <td>-1.69e+15</td> <td>-1.69e+15</td>\n",
       "</tr>\n",
       "<tr>\n",
       "  <th>LastActivity_SMS Sent</th>                            <td>-1.529e+15</td> <td> 2.92e+07</td> <td>-5.23e+07</td> <td> 0.000</td> <td>-1.53e+15</td> <td>-1.53e+15</td>\n",
       "</tr>\n",
       "<tr>\n",
       "  <th>LastActivity_Unreachable</th>                         <td> -1.65e+15</td> <td> 3.04e+07</td> <td>-5.43e+07</td> <td> 0.000</td> <td>-1.65e+15</td> <td>-1.65e+15</td>\n",
       "</tr>\n",
       "<tr>\n",
       "  <th>LastActivity_Unsubscribed</th>                        <td>-1.048e+15</td> <td> 3.52e+07</td> <td>-2.98e+07</td> <td> 0.000</td> <td>-1.05e+15</td> <td>-1.05e+15</td>\n",
       "</tr>\n",
       "<tr>\n",
       "  <th>LastActivity_View in browser link Clicked</th>        <td>-5.227e+15</td> <td> 5.25e+07</td> <td>-9.96e+07</td> <td> 0.000</td> <td>-5.23e+15</td> <td>-5.23e+15</td>\n",
       "</tr>\n",
       "<tr>\n",
       "  <th>LastActivity_Visited Booth in Tradeshow</th>          <td>-4.675e+15</td> <td> 7.07e+07</td> <td>-6.61e+07</td> <td> 0.000</td> <td>-4.67e+15</td> <td>-4.67e+15</td>\n",
       "</tr>\n",
       "<tr>\n",
       "  <th>CurrentOccupation_Housewife</th>                      <td> 3.581e+15</td> <td> 4.07e+07</td> <td>  8.8e+07</td> <td> 0.000</td> <td> 3.58e+15</td> <td> 3.58e+15</td>\n",
       "</tr>\n",
       "<tr>\n",
       "  <th>CurrentOccupation_No Information</th>                 <td> 1.236e+15</td> <td> 3.01e+07</td> <td>  4.1e+07</td> <td> 0.000</td> <td> 1.24e+15</td> <td> 1.24e+15</td>\n",
       "</tr>\n",
       "<tr>\n",
       "  <th>CurrentOccupation_Other</th>                          <td> 1.475e+15</td> <td> 3.68e+07</td> <td>    4e+07</td> <td> 0.000</td> <td> 1.48e+15</td> <td> 1.48e+15</td>\n",
       "</tr>\n",
       "<tr>\n",
       "  <th>CurrentOccupation_Student</th>                        <td> 1.758e+15</td> <td> 3.06e+07</td> <td> 5.74e+07</td> <td> 0.000</td> <td> 1.76e+15</td> <td> 1.76e+15</td>\n",
       "</tr>\n",
       "<tr>\n",
       "  <th>CurrentOccupation_Unemployed</th>                     <td> 1.674e+15</td> <td> 3.01e+07</td> <td> 5.56e+07</td> <td> 0.000</td> <td> 1.67e+15</td> <td> 1.67e+15</td>\n",
       "</tr>\n",
       "<tr>\n",
       "  <th>CurrentOccupation_Working Professional</th>           <td> 2.644e+15</td> <td> 3.02e+07</td> <td> 8.74e+07</td> <td> 0.000</td> <td> 2.64e+15</td> <td> 2.64e+15</td>\n",
       "</tr>\n",
       "<tr>\n",
       "  <th>LastNotableActivity_Approached upfront</th>           <td>   -2.2277</td> <td> 3.34e-08</td> <td>-6.68e+07</td> <td> 0.000</td> <td>   -2.228</td> <td>   -2.228</td>\n",
       "</tr>\n",
       "<tr>\n",
       "  <th>LastNotableActivity_Email Bounced</th>                <td>-2.283e+15</td> <td> 4.07e+07</td> <td>-5.61e+07</td> <td> 0.000</td> <td>-2.28e+15</td> <td>-2.28e+15</td>\n",
       "</tr>\n",
       "<tr>\n",
       "  <th>LastNotableActivity_Email Link Clicked</th>           <td>-3.398e+15</td> <td> 4.04e+07</td> <td>-8.42e+07</td> <td> 0.000</td> <td> -3.4e+15</td> <td> -3.4e+15</td>\n",
       "</tr>\n",
       "<tr>\n",
       "  <th>LastNotableActivity_Email Marked Spam</th>            <td> 7.944e+14</td> <td> 4.12e+07</td> <td> 1.93e+07</td> <td> 0.000</td> <td> 7.94e+14</td> <td> 7.94e+14</td>\n",
       "</tr>\n",
       "<tr>\n",
       "  <th>LastNotableActivity_Email Opened</th>                 <td>-2.238e+15</td> <td> 3.94e+07</td> <td>-5.69e+07</td> <td> 0.000</td> <td>-2.24e+15</td> <td>-2.24e+15</td>\n",
       "</tr>\n",
       "<tr>\n",
       "  <th>LastNotableActivity_Email Received</th>               <td>-4.848e+14</td> <td> 4.75e+07</td> <td>-1.02e+07</td> <td> 0.000</td> <td>-4.85e+14</td> <td>-4.85e+14</td>\n",
       "</tr>\n",
       "<tr>\n",
       "  <th>LastNotableActivity_Form Submitted on Website</th>    <td>   -1.9463</td> <td> 2.12e-08</td> <td> -9.2e+07</td> <td> 0.000</td> <td>   -1.946</td> <td>   -1.946</td>\n",
       "</tr>\n",
       "<tr>\n",
       "  <th>LastNotableActivity_Had a Phone Conversation</th>     <td>-1.242e+15</td> <td> 4.88e+07</td> <td>-2.55e+07</td> <td> 0.000</td> <td>-1.24e+15</td> <td>-1.24e+15</td>\n",
       "</tr>\n",
       "<tr>\n",
       "  <th>LastNotableActivity_Modified</th>                     <td>-2.647e+15</td> <td> 3.92e+07</td> <td>-6.75e+07</td> <td> 0.000</td> <td>-2.65e+15</td> <td>-2.65e+15</td>\n",
       "</tr>\n",
       "<tr>\n",
       "  <th>LastNotableActivity_Olark Chat Conversation</th>      <td>-2.442e+15</td> <td> 3.97e+07</td> <td>-6.15e+07</td> <td> 0.000</td> <td>-2.44e+15</td> <td>-2.44e+15</td>\n",
       "</tr>\n",
       "<tr>\n",
       "  <th>LastNotableActivity_Page Visited on Website</th>      <td>-2.453e+15</td> <td> 3.97e+07</td> <td>-6.18e+07</td> <td> 0.000</td> <td>-2.45e+15</td> <td>-2.45e+15</td>\n",
       "</tr>\n",
       "<tr>\n",
       "  <th>LastNotableActivity_SMS Sent</th>                     <td>-1.547e+15</td> <td> 3.94e+07</td> <td>-3.93e+07</td> <td> 0.000</td> <td>-1.55e+15</td> <td>-1.55e+15</td>\n",
       "</tr>\n",
       "<tr>\n",
       "  <th>LastNotableActivity_Unreachable</th>                  <td>-1.214e+15</td> <td> 4.25e+07</td> <td>-2.86e+07</td> <td> 0.000</td> <td>-1.21e+15</td> <td>-1.21e+15</td>\n",
       "</tr>\n",
       "<tr>\n",
       "  <th>LastNotableActivity_Unsubscribed</th>                 <td>-2.821e+15</td> <td> 4.55e+07</td> <td> -6.2e+07</td> <td> 0.000</td> <td>-2.82e+15</td> <td>-2.82e+15</td>\n",
       "</tr>\n",
       "<tr>\n",
       "  <th>LastNotableActivity_View in browser link Clicked</th> <td>-4.072e+15</td> <td> 8.73e+07</td> <td>-4.67e+07</td> <td> 0.000</td> <td>-4.07e+15</td> <td>-4.07e+15</td>\n",
       "</tr>\n",
       "</table>"
      ],
      "text/plain": [
       "<class 'statsmodels.iolib.summary.Summary'>\n",
       "\"\"\"\n",
       "                 Generalized Linear Model Regression Results                  \n",
       "==============================================================================\n",
       "Dep. Variable:              Converted   No. Observations:                 6320\n",
       "Model:                            GLM   Df Residuals:                     6261\n",
       "Model Family:                Binomial   Df Model:                           58\n",
       "Link Function:                  Logit   Scale:                          1.0000\n",
       "Method:                          IRLS   Log-Likelihood:                    nan\n",
       "Date:                Sun, 19 Mar 2023   Deviance:                   1.4543e+05\n",
       "Time:                        23:33:59   Pearson chi2:                 7.11e+18\n",
       "No. Iterations:                   100   Pseudo R-squ. (CS):                nan\n",
       "Covariance Type:            nonrobust                                         \n",
       "====================================================================================================================\n",
       "                                                       coef    std err          z      P>|z|      [0.025      0.975]\n",
       "--------------------------------------------------------------------------------------------------------------------\n",
       "const                                                 5e+15   8.03e+07   6.22e+07      0.000       5e+15       5e+15\n",
       "Do Not Email                                     -5.446e+14   4.55e+06   -1.2e+08      0.000   -5.45e+14   -5.45e+14\n",
       "TotalVisits                                      -3.935e+13    1.3e+06  -3.03e+07      0.000   -3.94e+13   -3.94e+13\n",
       "Total Time Spent on Website                       1.418e+14   8.82e+05   1.61e+08      0.000    1.42e+14    1.42e+14\n",
       "Page Views Per Visit                              8.005e+13   1.31e+06   6.12e+07      0.000    8.01e+13    8.01e+13\n",
       "A free copy of Mastering The Interview           -1.761e+14   2.53e+06  -6.96e+07      0.000   -1.76e+14   -1.76e+14\n",
       "LeadOrigin_API                                    1.508e+15   2.23e+07   6.76e+07      0.000    1.51e+15    1.51e+15\n",
       "LeadOrigin_Landing Page Submission                1.532e+15   2.23e+07   6.88e+07      0.000    1.53e+15    1.53e+15\n",
       "LeadOrigin_Lead Add Form                          2.329e+15   2.45e+07   9.52e+07      0.000    2.33e+15    2.33e+15\n",
       "LeadOrigin_Lead Import                           -3.697e+14   4.33e+07  -8.54e+06      0.000    -3.7e+14    -3.7e+14\n",
       "LeadSource_Click2call                            -2.898e+15   7.86e+07  -3.69e+07      0.000    -2.9e+15    -2.9e+15\n",
       "LeadSource_Direct Traffic                        -4.692e+15   6.72e+07  -6.98e+07      0.000   -4.69e+15   -4.69e+15\n",
       "LeadSource_Facebook                              -3.896e+15   8.25e+07  -4.72e+07      0.000    -3.9e+15    -3.9e+15\n",
       "LeadSource_Google                                -4.274e+15   6.72e+07  -6.36e+07      0.000   -4.27e+15   -4.27e+15\n",
       "LeadSource_Live Chat                             -4.046e+15   8.33e+07  -4.86e+07      0.000   -4.05e+15   -4.05e+15\n",
       "LeadSource_Olark Chat                            -3.445e+15   6.72e+07  -5.12e+07      0.000   -3.45e+15   -3.45e+15\n",
       "LeadSource_Organic Search                         -4.68e+15   6.72e+07  -6.96e+07      0.000   -4.68e+15   -4.68e+15\n",
       "LeadSource_Pay per Click Ads                        80.6273   1.71e-06   4.71e+07      0.000      80.627      80.627\n",
       "LeadSource_Press_Release                         -1.235e+16   9.52e+07   -1.3e+08      0.000   -1.24e+16   -1.24e+16\n",
       "LeadSource_Reference                             -4.393e+15   6.85e+07  -6.41e+07      0.000   -4.39e+15   -4.39e+15\n",
       "LeadSource_Referral Sites                        -4.982e+15   6.76e+07  -7.37e+07      0.000   -4.98e+15   -4.98e+15\n",
       "LeadSource_Social Media                          -4.118e+15   8.23e+07     -5e+07      0.000   -4.12e+15   -4.12e+15\n",
       "LeadSource_WeLearn                                2.696e+15    9.5e+07   2.84e+07      0.000     2.7e+15     2.7e+15\n",
       "LeadSource_Welingak Website                      -3.874e+15   6.87e+07  -5.64e+07      0.000   -3.87e+15   -3.87e+15\n",
       "LeadSource_bing                                  -4.513e+15   7.51e+07  -6.01e+07      0.000   -4.51e+15   -4.51e+15\n",
       "LeadSource_blog                                  -1.045e+16   9.49e+07   -1.1e+08      0.000   -1.04e+16   -1.04e+16\n",
       "LeadSource_testone                                -243.4315   2.49e-06  -9.78e+07      0.000    -243.431    -243.431\n",
       "LeadSource_welearnblog_Home                      -1.478e+16   9.49e+07  -1.56e+08      0.000   -1.48e+16   -1.48e+16\n",
       "LeadSource_youtubechannel                        -1.146e+16   9.58e+07   -1.2e+08      0.000   -1.15e+16   -1.15e+16\n",
       "LastActivity_Approached upfront                   2.059e+15    3.8e+07   5.42e+07      0.000    2.06e+15    2.06e+15\n",
       "LastActivity_Converted to Lead                   -9.833e+14   2.91e+07  -3.37e+07      0.000   -9.83e+14   -9.83e+14\n",
       "LastActivity_Email Bounced                       -1.878e+15   2.96e+07  -6.34e+07      0.000   -1.88e+15   -1.88e+15\n",
       "LastActivity_Email Link Clicked                  -1.839e+15      3e+07  -6.13e+07      0.000   -1.84e+15   -1.84e+15\n",
       "LastActivity_Email Marked Spam                    7.944e+14   4.12e+07   1.93e+07      0.000    7.94e+14    7.94e+14\n",
       "LastActivity_Email Opened                        -1.666e+15   2.92e+07  -5.71e+07      0.000   -1.67e+15   -1.67e+15\n",
       "LastActivity_Email Received                      -4.848e+14   4.75e+07  -1.02e+07      0.000   -4.85e+14   -4.85e+14\n",
       "LastActivity_Form Submitted on Website           -1.575e+15   2.99e+07  -5.26e+07      0.000   -1.58e+15   -1.58e+15\n",
       "LastActivity_Had a Phone Conversation            -1.159e+15   3.56e+07  -3.25e+07      0.000   -1.16e+15   -1.16e+15\n",
       "LastActivity_Not sure                            -1.166e+15   3.03e+07  -3.85e+07      0.000   -1.17e+15   -1.17e+15\n",
       "LastActivity_Olark Chat Conversation             -2.336e+15   2.92e+07  -8.01e+07      0.000   -2.34e+15   -2.34e+15\n",
       "LastActivity_Page Visited on Website             -1.685e+15   2.94e+07  -5.74e+07      0.000   -1.69e+15   -1.69e+15\n",
       "LastActivity_SMS Sent                            -1.529e+15   2.92e+07  -5.23e+07      0.000   -1.53e+15   -1.53e+15\n",
       "LastActivity_Unreachable                          -1.65e+15   3.04e+07  -5.43e+07      0.000   -1.65e+15   -1.65e+15\n",
       "LastActivity_Unsubscribed                        -1.048e+15   3.52e+07  -2.98e+07      0.000   -1.05e+15   -1.05e+15\n",
       "LastActivity_View in browser link Clicked        -5.227e+15   5.25e+07  -9.96e+07      0.000   -5.23e+15   -5.23e+15\n",
       "LastActivity_Visited Booth in Tradeshow          -4.675e+15   7.07e+07  -6.61e+07      0.000   -4.67e+15   -4.67e+15\n",
       "CurrentOccupation_Housewife                       3.581e+15   4.07e+07    8.8e+07      0.000    3.58e+15    3.58e+15\n",
       "CurrentOccupation_No Information                  1.236e+15   3.01e+07    4.1e+07      0.000    1.24e+15    1.24e+15\n",
       "CurrentOccupation_Other                           1.475e+15   3.68e+07      4e+07      0.000    1.48e+15    1.48e+15\n",
       "CurrentOccupation_Student                         1.758e+15   3.06e+07   5.74e+07      0.000    1.76e+15    1.76e+15\n",
       "CurrentOccupation_Unemployed                      1.674e+15   3.01e+07   5.56e+07      0.000    1.67e+15    1.67e+15\n",
       "CurrentOccupation_Working Professional            2.644e+15   3.02e+07   8.74e+07      0.000    2.64e+15    2.64e+15\n",
       "LastNotableActivity_Approached upfront              -2.2277   3.34e-08  -6.68e+07      0.000      -2.228      -2.228\n",
       "LastNotableActivity_Email Bounced                -2.283e+15   4.07e+07  -5.61e+07      0.000   -2.28e+15   -2.28e+15\n",
       "LastNotableActivity_Email Link Clicked           -3.398e+15   4.04e+07  -8.42e+07      0.000    -3.4e+15    -3.4e+15\n",
       "LastNotableActivity_Email Marked Spam             7.944e+14   4.12e+07   1.93e+07      0.000    7.94e+14    7.94e+14\n",
       "LastNotableActivity_Email Opened                 -2.238e+15   3.94e+07  -5.69e+07      0.000   -2.24e+15   -2.24e+15\n",
       "LastNotableActivity_Email Received               -4.848e+14   4.75e+07  -1.02e+07      0.000   -4.85e+14   -4.85e+14\n",
       "LastNotableActivity_Form Submitted on Website       -1.9463   2.12e-08   -9.2e+07      0.000      -1.946      -1.946\n",
       "LastNotableActivity_Had a Phone Conversation     -1.242e+15   4.88e+07  -2.55e+07      0.000   -1.24e+15   -1.24e+15\n",
       "LastNotableActivity_Modified                     -2.647e+15   3.92e+07  -6.75e+07      0.000   -2.65e+15   -2.65e+15\n",
       "LastNotableActivity_Olark Chat Conversation      -2.442e+15   3.97e+07  -6.15e+07      0.000   -2.44e+15   -2.44e+15\n",
       "LastNotableActivity_Page Visited on Website      -2.453e+15   3.97e+07  -6.18e+07      0.000   -2.45e+15   -2.45e+15\n",
       "LastNotableActivity_SMS Sent                     -1.547e+15   3.94e+07  -3.93e+07      0.000   -1.55e+15   -1.55e+15\n",
       "LastNotableActivity_Unreachable                  -1.214e+15   4.25e+07  -2.86e+07      0.000   -1.21e+15   -1.21e+15\n",
       "LastNotableActivity_Unsubscribed                 -2.821e+15   4.55e+07   -6.2e+07      0.000   -2.82e+15   -2.82e+15\n",
       "LastNotableActivity_View in browser link Clicked -4.072e+15   8.73e+07  -4.67e+07      0.000   -4.07e+15   -4.07e+15\n",
       "====================================================================================================================\n",
       "\"\"\""
      ]
     },
     "execution_count": 71,
     "metadata": {},
     "output_type": "execute_result"
    }
   ],
   "source": [
    "logm1=sm.GLM(y_train,(sm.add_constant(X_train)), family = sm.families.Binomial())\n",
    "logm1.fit().summary()"
   ]
  },
  {
   "cell_type": "markdown",
   "id": "26692f92",
   "metadata": {},
   "source": [
    "### Feature Selection Using RFE"
   ]
  },
  {
   "cell_type": "code",
   "execution_count": 72,
   "id": "d0006d02",
   "metadata": {},
   "outputs": [
    {
     "data": {
      "text/plain": [
       "LogisticRegression()"
      ]
     },
     "execution_count": 72,
     "metadata": {},
     "output_type": "execute_result"
    }
   ],
   "source": [
    "from sklearn.linear_model import LogisticRegression\n",
    "logreg = LogisticRegression()\n",
    "logreg.fit(X_train, y_train)"
   ]
  },
  {
   "cell_type": "code",
   "execution_count": 73,
   "id": "649a9fb4",
   "metadata": {},
   "outputs": [],
   "source": [
    "from sklearn.feature_selection import RFE\n",
    "rfe = RFE(logreg,n_features_to_select=15)\n",
    "rfe = rfe.fit(X_train, y_train)"
   ]
  },
  {
   "cell_type": "code",
   "execution_count": 74,
   "id": "fa75e3ab",
   "metadata": {},
   "outputs": [
    {
     "data": {
      "text/plain": [
       "array([ True, False,  True, False, False, False, False,  True, False,\n",
       "       False, False, False, False, False,  True, False, False, False,\n",
       "       False, False, False, False,  True, False, False, False, False,\n",
       "       False, False, False, False, False, False, False, False, False,\n",
       "       False,  True,  True, False, False, False, False, False, False,\n",
       "        True,  True, False, False, False,  True, False, False,  True,\n",
       "       False,  True, False, False, False,  True,  True,  True, False,\n",
       "       False, False, False])"
      ]
     },
     "execution_count": 74,
     "metadata": {},
     "output_type": "execute_result"
    }
   ],
   "source": [
    "rfe.support_"
   ]
  },
  {
   "cell_type": "code",
   "execution_count": 75,
   "id": "091985da",
   "metadata": {},
   "outputs": [
    {
     "data": {
      "text/plain": [
       "[('Do Not Email', True, 1),\n",
       " ('TotalVisits', False, 31),\n",
       " ('Total Time Spent on Website', True, 1),\n",
       " ('Page Views Per Visit', False, 33),\n",
       " ('A free copy of Mastering The Interview', False, 48),\n",
       " ('LeadOrigin_API', False, 8),\n",
       " ('LeadOrigin_Landing Page Submission', False, 7),\n",
       " ('LeadOrigin_Lead Add Form', True, 1),\n",
       " ('LeadOrigin_Lead Import', False, 35),\n",
       " ('LeadSource_Click2call', False, 18),\n",
       " ('LeadSource_Direct Traffic', False, 14),\n",
       " ('LeadSource_Facebook', False, 13),\n",
       " ('LeadSource_Google', False, 17),\n",
       " ('LeadSource_Live Chat', False, 42),\n",
       " ('LeadSource_Olark Chat', True, 1),\n",
       " ('LeadSource_Organic Search', False, 16),\n",
       " ('LeadSource_Pay per Click Ads', False, 51),\n",
       " ('LeadSource_Press_Release', False, 47),\n",
       " ('LeadSource_Reference', False, 32),\n",
       " ('LeadSource_Referral Sites', False, 15),\n",
       " ('LeadSource_Social Media', False, 19),\n",
       " ('LeadSource_WeLearn', False, 27),\n",
       " ('LeadSource_Welingak Website', True, 1),\n",
       " ('LeadSource_bing', False, 40),\n",
       " ('LeadSource_blog', False, 28),\n",
       " ('LeadSource_testone', False, 52),\n",
       " ('LeadSource_welearnblog_Home', False, 41),\n",
       " ('LeadSource_youtubechannel', False, 38),\n",
       " ('LastActivity_Approached upfront', False, 3),\n",
       " ('LastActivity_Converted to Lead', False, 5),\n",
       " ('LastActivity_Email Bounced', False, 4),\n",
       " ('LastActivity_Email Link Clicked', False, 44),\n",
       " ('LastActivity_Email Marked Spam', False, 22),\n",
       " ('LastActivity_Email Opened', False, 21),\n",
       " ('LastActivity_Email Received', False, 46),\n",
       " ('LastActivity_Form Submitted on Website', False, 26),\n",
       " ('LastActivity_Had a Phone Conversation', False, 12),\n",
       " ('LastActivity_Not sure', True, 1),\n",
       " ('LastActivity_Olark Chat Conversation', True, 1),\n",
       " ('LastActivity_Page Visited on Website', False, 39),\n",
       " ('LastActivity_SMS Sent', False, 10),\n",
       " ('LastActivity_Unreachable', False, 11),\n",
       " ('LastActivity_Unsubscribed', False, 23),\n",
       " ('LastActivity_View in browser link Clicked', False, 6),\n",
       " ('LastActivity_Visited Booth in Tradeshow', False, 43),\n",
       " ('CurrentOccupation_Housewife', True, 1),\n",
       " ('CurrentOccupation_No Information', True, 1),\n",
       " ('CurrentOccupation_Other', False, 29),\n",
       " ('CurrentOccupation_Student', False, 25),\n",
       " ('CurrentOccupation_Unemployed', False, 24),\n",
       " ('CurrentOccupation_Working Professional', True, 1),\n",
       " ('LastNotableActivity_Approached upfront', False, 50),\n",
       " ('LastNotableActivity_Email Bounced', False, 37),\n",
       " ('LastNotableActivity_Email Link Clicked', True, 1),\n",
       " ('LastNotableActivity_Email Marked Spam', False, 20),\n",
       " ('LastNotableActivity_Email Opened', True, 1),\n",
       " ('LastNotableActivity_Email Received', False, 45),\n",
       " ('LastNotableActivity_Form Submitted on Website', False, 49),\n",
       " ('LastNotableActivity_Had a Phone Conversation', False, 2),\n",
       " ('LastNotableActivity_Modified', True, 1),\n",
       " ('LastNotableActivity_Olark Chat Conversation', True, 1),\n",
       " ('LastNotableActivity_Page Visited on Website', True, 1),\n",
       " ('LastNotableActivity_SMS Sent', False, 34),\n",
       " ('LastNotableActivity_Unreachable', False, 9),\n",
       " ('LastNotableActivity_Unsubscribed', False, 36),\n",
       " ('LastNotableActivity_View in browser link Clicked', False, 30)]"
      ]
     },
     "execution_count": 75,
     "metadata": {},
     "output_type": "execute_result"
    }
   ],
   "source": [
    "list(zip(X_train.columns, rfe.support_, rfe.ranking_))"
   ]
  },
  {
   "cell_type": "code",
   "execution_count": 76,
   "id": "ac326dbb",
   "metadata": {},
   "outputs": [
    {
     "data": {
      "text/plain": [
       "Index(['Do Not Email', 'Total Time Spent on Website',\n",
       "       'LeadOrigin_Lead Add Form', 'LeadSource_Olark Chat',\n",
       "       'LeadSource_Welingak Website', 'LastActivity_Not sure',\n",
       "       'LastActivity_Olark Chat Conversation', 'CurrentOccupation_Housewife',\n",
       "       'CurrentOccupation_No Information',\n",
       "       'CurrentOccupation_Working Professional',\n",
       "       'LastNotableActivity_Email Link Clicked',\n",
       "       'LastNotableActivity_Email Opened', 'LastNotableActivity_Modified',\n",
       "       'LastNotableActivity_Olark Chat Conversation',\n",
       "       'LastNotableActivity_Page Visited on Website'],\n",
       "      dtype='object')"
      ]
     },
     "execution_count": 76,
     "metadata": {},
     "output_type": "execute_result"
    }
   ],
   "source": [
    "col = X_train.columns[rfe.support_]\n",
    "col"
   ]
  },
  {
   "cell_type": "code",
   "execution_count": 77,
   "id": "3524e587",
   "metadata": {},
   "outputs": [
    {
     "data": {
      "text/plain": [
       "Index(['TotalVisits', 'Page Views Per Visit',\n",
       "       'A free copy of Mastering The Interview', 'LeadOrigin_API',\n",
       "       'LeadOrigin_Landing Page Submission', 'LeadOrigin_Lead Import',\n",
       "       'LeadSource_Click2call', 'LeadSource_Direct Traffic',\n",
       "       'LeadSource_Facebook', 'LeadSource_Google', 'LeadSource_Live Chat',\n",
       "       'LeadSource_Organic Search', 'LeadSource_Pay per Click Ads',\n",
       "       'LeadSource_Press_Release', 'LeadSource_Reference',\n",
       "       'LeadSource_Referral Sites', 'LeadSource_Social Media',\n",
       "       'LeadSource_WeLearn', 'LeadSource_bing', 'LeadSource_blog',\n",
       "       'LeadSource_testone', 'LeadSource_welearnblog_Home',\n",
       "       'LeadSource_youtubechannel', 'LastActivity_Approached upfront',\n",
       "       'LastActivity_Converted to Lead', 'LastActivity_Email Bounced',\n",
       "       'LastActivity_Email Link Clicked', 'LastActivity_Email Marked Spam',\n",
       "       'LastActivity_Email Opened', 'LastActivity_Email Received',\n",
       "       'LastActivity_Form Submitted on Website',\n",
       "       'LastActivity_Had a Phone Conversation',\n",
       "       'LastActivity_Page Visited on Website', 'LastActivity_SMS Sent',\n",
       "       'LastActivity_Unreachable', 'LastActivity_Unsubscribed',\n",
       "       'LastActivity_View in browser link Clicked',\n",
       "       'LastActivity_Visited Booth in Tradeshow', 'CurrentOccupation_Other',\n",
       "       'CurrentOccupation_Student', 'CurrentOccupation_Unemployed',\n",
       "       'LastNotableActivity_Approached upfront',\n",
       "       'LastNotableActivity_Email Bounced',\n",
       "       'LastNotableActivity_Email Marked Spam',\n",
       "       'LastNotableActivity_Email Received',\n",
       "       'LastNotableActivity_Form Submitted on Website',\n",
       "       'LastNotableActivity_Had a Phone Conversation',\n",
       "       'LastNotableActivity_SMS Sent', 'LastNotableActivity_Unreachable',\n",
       "       'LastNotableActivity_Unsubscribed',\n",
       "       'LastNotableActivity_View in browser link Clicked'],\n",
       "      dtype='object')"
      ]
     },
     "execution_count": 77,
     "metadata": {},
     "output_type": "execute_result"
    }
   ],
   "source": [
    "X_train.columns[~rfe.support_]"
   ]
  },
  {
   "cell_type": "code",
   "execution_count": 78,
   "id": "264ed202",
   "metadata": {},
   "outputs": [
    {
     "data": {
      "text/html": [
       "<table class=\"simpletable\">\n",
       "<caption>Generalized Linear Model Regression Results</caption>\n",
       "<tr>\n",
       "  <th>Dep. Variable:</th>       <td>Converted</td>    <th>  No. Observations:  </th>  <td>  6320</td> \n",
       "</tr>\n",
       "<tr>\n",
       "  <th>Model:</th>                  <td>GLM</td>       <th>  Df Residuals:      </th>  <td>  6304</td> \n",
       "</tr>\n",
       "<tr>\n",
       "  <th>Model Family:</th>        <td>Binomial</td>     <th>  Df Model:          </th>  <td>    15</td> \n",
       "</tr>\n",
       "<tr>\n",
       "  <th>Link Function:</th>         <td>Logit</td>      <th>  Scale:             </th> <td>  1.0000</td>\n",
       "</tr>\n",
       "<tr>\n",
       "  <th>Method:</th>                <td>IRLS</td>       <th>  Log-Likelihood:    </th> <td> -2550.9</td>\n",
       "</tr>\n",
       "<tr>\n",
       "  <th>Date:</th>            <td>Sun, 19 Mar 2023</td> <th>  Deviance:          </th> <td>  5101.8</td>\n",
       "</tr>\n",
       "<tr>\n",
       "  <th>Time:</th>                <td>23:34:16</td>     <th>  Pearson chi2:      </th> <td>6.54e+03</td>\n",
       "</tr>\n",
       "<tr>\n",
       "  <th>No. Iterations:</th>         <td>21</td>        <th>  Pseudo R-squ. (CS):</th>  <td>0.4069</td> \n",
       "</tr>\n",
       "<tr>\n",
       "  <th>Covariance Type:</th>     <td>nonrobust</td>    <th>                     </th>     <td> </td>   \n",
       "</tr>\n",
       "</table>\n",
       "<table class=\"simpletable\">\n",
       "<tr>\n",
       "                       <td></td>                          <th>coef</th>     <th>std err</th>      <th>z</th>      <th>P>|z|</th>  <th>[0.025</th>    <th>0.975]</th>  \n",
       "</tr>\n",
       "<tr>\n",
       "  <th>const</th>                                       <td>    0.3968</td> <td>    0.072</td> <td>    5.486</td> <td> 0.000</td> <td>    0.255</td> <td>    0.539</td>\n",
       "</tr>\n",
       "<tr>\n",
       "  <th>Do Not Email</th>                                <td>   -1.6218</td> <td>    0.173</td> <td>   -9.362</td> <td> 0.000</td> <td>   -1.961</td> <td>   -1.282</td>\n",
       "</tr>\n",
       "<tr>\n",
       "  <th>Total Time Spent on Website</th>                 <td>    1.1079</td> <td>    0.041</td> <td>   27.171</td> <td> 0.000</td> <td>    1.028</td> <td>    1.188</td>\n",
       "</tr>\n",
       "<tr>\n",
       "  <th>LeadOrigin_Lead Add Form</th>                    <td>    3.6703</td> <td>    0.216</td> <td>   17.002</td> <td> 0.000</td> <td>    3.247</td> <td>    4.093</td>\n",
       "</tr>\n",
       "<tr>\n",
       "  <th>LeadSource_Olark Chat</th>                       <td>    1.3641</td> <td>    0.106</td> <td>   12.815</td> <td> 0.000</td> <td>    1.155</td> <td>    1.573</td>\n",
       "</tr>\n",
       "<tr>\n",
       "  <th>LeadSource_Welingak Website</th>                 <td>    2.1448</td> <td>    0.746</td> <td>    2.876</td> <td> 0.004</td> <td>    0.683</td> <td>    3.606</td>\n",
       "</tr>\n",
       "<tr>\n",
       "  <th>LastActivity_Not sure</th>                       <td>   -1.4573</td> <td>    0.448</td> <td>   -3.250</td> <td> 0.001</td> <td>   -2.336</td> <td>   -0.579</td>\n",
       "</tr>\n",
       "<tr>\n",
       "  <th>LastActivity_Olark Chat Conversation</th>        <td>   -1.1018</td> <td>    0.192</td> <td>   -5.735</td> <td> 0.000</td> <td>   -1.478</td> <td>   -0.725</td>\n",
       "</tr>\n",
       "<tr>\n",
       "  <th>CurrentOccupation_Housewife</th>                 <td>   22.9351</td> <td> 1.72e+04</td> <td>    0.001</td> <td> 0.999</td> <td>-3.36e+04</td> <td> 3.36e+04</td>\n",
       "</tr>\n",
       "<tr>\n",
       "  <th>CurrentOccupation_No Information</th>            <td>   -1.1264</td> <td>    0.089</td> <td>  -12.689</td> <td> 0.000</td> <td>   -1.300</td> <td>   -0.952</td>\n",
       "</tr>\n",
       "<tr>\n",
       "  <th>CurrentOccupation_Working Professional</th>      <td>    2.3267</td> <td>    0.180</td> <td>   12.897</td> <td> 0.000</td> <td>    1.973</td> <td>    2.680</td>\n",
       "</tr>\n",
       "<tr>\n",
       "  <th>LastNotableActivity_Email Link Clicked</th>      <td>   -1.6145</td> <td>    0.260</td> <td>   -6.214</td> <td> 0.000</td> <td>   -2.124</td> <td>   -1.105</td>\n",
       "</tr>\n",
       "<tr>\n",
       "  <th>LastNotableActivity_Email Opened</th>            <td>   -1.3823</td> <td>    0.090</td> <td>  -15.382</td> <td> 0.000</td> <td>   -1.558</td> <td>   -1.206</td>\n",
       "</tr>\n",
       "<tr>\n",
       "  <th>LastNotableActivity_Modified</th>                <td>   -1.8352</td> <td>    0.099</td> <td>  -18.601</td> <td> 0.000</td> <td>   -2.029</td> <td>   -1.642</td>\n",
       "</tr>\n",
       "<tr>\n",
       "  <th>LastNotableActivity_Olark Chat Conversation</th> <td>   -1.5216</td> <td>    0.371</td> <td>   -4.098</td> <td> 0.000</td> <td>   -2.249</td> <td>   -0.794</td>\n",
       "</tr>\n",
       "<tr>\n",
       "  <th>LastNotableActivity_Page Visited on Website</th> <td>   -1.6541</td> <td>    0.213</td> <td>   -7.769</td> <td> 0.000</td> <td>   -2.071</td> <td>   -1.237</td>\n",
       "</tr>\n",
       "</table>"
      ],
      "text/plain": [
       "<class 'statsmodels.iolib.summary.Summary'>\n",
       "\"\"\"\n",
       "                 Generalized Linear Model Regression Results                  \n",
       "==============================================================================\n",
       "Dep. Variable:              Converted   No. Observations:                 6320\n",
       "Model:                            GLM   Df Residuals:                     6304\n",
       "Model Family:                Binomial   Df Model:                           15\n",
       "Link Function:                  Logit   Scale:                          1.0000\n",
       "Method:                          IRLS   Log-Likelihood:                -2550.9\n",
       "Date:                Sun, 19 Mar 2023   Deviance:                       5101.8\n",
       "Time:                        23:34:16   Pearson chi2:                 6.54e+03\n",
       "No. Iterations:                    21   Pseudo R-squ. (CS):             0.4069\n",
       "Covariance Type:            nonrobust                                         \n",
       "===============================================================================================================\n",
       "                                                  coef    std err          z      P>|z|      [0.025      0.975]\n",
       "---------------------------------------------------------------------------------------------------------------\n",
       "const                                           0.3968      0.072      5.486      0.000       0.255       0.539\n",
       "Do Not Email                                   -1.6218      0.173     -9.362      0.000      -1.961      -1.282\n",
       "Total Time Spent on Website                     1.1079      0.041     27.171      0.000       1.028       1.188\n",
       "LeadOrigin_Lead Add Form                        3.6703      0.216     17.002      0.000       3.247       4.093\n",
       "LeadSource_Olark Chat                           1.3641      0.106     12.815      0.000       1.155       1.573\n",
       "LeadSource_Welingak Website                     2.1448      0.746      2.876      0.004       0.683       3.606\n",
       "LastActivity_Not sure                          -1.4573      0.448     -3.250      0.001      -2.336      -0.579\n",
       "LastActivity_Olark Chat Conversation           -1.1018      0.192     -5.735      0.000      -1.478      -0.725\n",
       "CurrentOccupation_Housewife                    22.9351   1.72e+04      0.001      0.999   -3.36e+04    3.36e+04\n",
       "CurrentOccupation_No Information               -1.1264      0.089    -12.689      0.000      -1.300      -0.952\n",
       "CurrentOccupation_Working Professional          2.3267      0.180     12.897      0.000       1.973       2.680\n",
       "LastNotableActivity_Email Link Clicked         -1.6145      0.260     -6.214      0.000      -2.124      -1.105\n",
       "LastNotableActivity_Email Opened               -1.3823      0.090    -15.382      0.000      -1.558      -1.206\n",
       "LastNotableActivity_Modified                   -1.8352      0.099    -18.601      0.000      -2.029      -1.642\n",
       "LastNotableActivity_Olark Chat Conversation    -1.5216      0.371     -4.098      0.000      -2.249      -0.794\n",
       "LastNotableActivity_Page Visited on Website    -1.6541      0.213     -7.769      0.000      -2.071      -1.237\n",
       "===============================================================================================================\n",
       "\"\"\""
      ]
     },
     "execution_count": 78,
     "metadata": {},
     "output_type": "execute_result"
    }
   ],
   "source": [
    "# Building 2nd Model\n",
    "X_train_sm = sm.add_constant(X_train[col])\n",
    "logm2 = sm.GLM(y_train, X_train_sm, family = sm.families.Binomial())\n",
    "res = logm2.fit()\n",
    "res.summary()"
   ]
  },
  {
   "cell_type": "markdown",
   "id": "757a10e0",
   "metadata": {},
   "source": [
    "Removing column CurrentOccupation_Housewife as it has a high p-value and hence it is insignificant."
   ]
  },
  {
   "cell_type": "code",
   "execution_count": 79,
   "id": "d1e7a010",
   "metadata": {},
   "outputs": [],
   "source": [
    "col = col.drop('CurrentOccupation_Housewife',1)"
   ]
  },
  {
   "cell_type": "code",
   "execution_count": 80,
   "id": "5d24a5ed",
   "metadata": {},
   "outputs": [
    {
     "data": {
      "text/html": [
       "<table class=\"simpletable\">\n",
       "<caption>Generalized Linear Model Regression Results</caption>\n",
       "<tr>\n",
       "  <th>Dep. Variable:</th>       <td>Converted</td>    <th>  No. Observations:  </th>  <td>  6320</td> \n",
       "</tr>\n",
       "<tr>\n",
       "  <th>Model:</th>                  <td>GLM</td>       <th>  Df Residuals:      </th>  <td>  6305</td> \n",
       "</tr>\n",
       "<tr>\n",
       "  <th>Model Family:</th>        <td>Binomial</td>     <th>  Df Model:          </th>  <td>    14</td> \n",
       "</tr>\n",
       "<tr>\n",
       "  <th>Link Function:</th>         <td>Logit</td>      <th>  Scale:             </th> <td>  1.0000</td>\n",
       "</tr>\n",
       "<tr>\n",
       "  <th>Method:</th>                <td>IRLS</td>       <th>  Log-Likelihood:    </th> <td> -2555.8</td>\n",
       "</tr>\n",
       "<tr>\n",
       "  <th>Date:</th>            <td>Sun, 19 Mar 2023</td> <th>  Deviance:          </th> <td>  5111.5</td>\n",
       "</tr>\n",
       "<tr>\n",
       "  <th>Time:</th>                <td>23:34:16</td>     <th>  Pearson chi2:      </th> <td>6.55e+03</td>\n",
       "</tr>\n",
       "<tr>\n",
       "  <th>No. Iterations:</th>          <td>7</td>        <th>  Pseudo R-squ. (CS):</th>  <td>0.4059</td> \n",
       "</tr>\n",
       "<tr>\n",
       "  <th>Covariance Type:</th>     <td>nonrobust</td>    <th>                     </th>     <td> </td>   \n",
       "</tr>\n",
       "</table>\n",
       "<table class=\"simpletable\">\n",
       "<tr>\n",
       "                       <td></td>                          <th>coef</th>     <th>std err</th>      <th>z</th>      <th>P>|z|</th>  <th>[0.025</th>    <th>0.975]</th>  \n",
       "</tr>\n",
       "<tr>\n",
       "  <th>const</th>                                       <td>    0.3986</td> <td>    0.072</td> <td>    5.511</td> <td> 0.000</td> <td>    0.257</td> <td>    0.540</td>\n",
       "</tr>\n",
       "<tr>\n",
       "  <th>Do Not Email</th>                                <td>   -1.6232</td> <td>    0.173</td> <td>   -9.371</td> <td> 0.000</td> <td>   -1.963</td> <td>   -1.284</td>\n",
       "</tr>\n",
       "<tr>\n",
       "  <th>Total Time Spent on Website</th>                 <td>    1.1075</td> <td>    0.041</td> <td>   27.192</td> <td> 0.000</td> <td>    1.028</td> <td>    1.187</td>\n",
       "</tr>\n",
       "<tr>\n",
       "  <th>LeadOrigin_Lead Add Form</th>                    <td>    3.6715</td> <td>    0.216</td> <td>   17.021</td> <td> 0.000</td> <td>    3.249</td> <td>    4.094</td>\n",
       "</tr>\n",
       "<tr>\n",
       "  <th>LeadSource_Olark Chat</th>                       <td>    1.3599</td> <td>    0.106</td> <td>   12.784</td> <td> 0.000</td> <td>    1.151</td> <td>    1.568</td>\n",
       "</tr>\n",
       "<tr>\n",
       "  <th>LeadSource_Welingak Website</th>                 <td>    2.1387</td> <td>    0.746</td> <td>    2.868</td> <td> 0.004</td> <td>    0.677</td> <td>    3.600</td>\n",
       "</tr>\n",
       "<tr>\n",
       "  <th>LastActivity_Not sure</th>                       <td>   -1.4629</td> <td>    0.448</td> <td>   -3.264</td> <td> 0.001</td> <td>   -2.342</td> <td>   -0.584</td>\n",
       "</tr>\n",
       "<tr>\n",
       "  <th>LastActivity_Olark Chat Conversation</th>        <td>   -1.1031</td> <td>    0.192</td> <td>   -5.743</td> <td> 0.000</td> <td>   -1.480</td> <td>   -0.727</td>\n",
       "</tr>\n",
       "<tr>\n",
       "  <th>CurrentOccupation_No Information</th>            <td>   -1.1303</td> <td>    0.089</td> <td>  -12.740</td> <td> 0.000</td> <td>   -1.304</td> <td>   -0.956</td>\n",
       "</tr>\n",
       "<tr>\n",
       "  <th>CurrentOccupation_Working Professional</th>      <td>    2.3214</td> <td>    0.180</td> <td>   12.870</td> <td> 0.000</td> <td>    1.968</td> <td>    2.675</td>\n",
       "</tr>\n",
       "<tr>\n",
       "  <th>LastNotableActivity_Email Link Clicked</th>      <td>   -1.6136</td> <td>    0.260</td> <td>   -6.210</td> <td> 0.000</td> <td>   -2.123</td> <td>   -1.104</td>\n",
       "</tr>\n",
       "<tr>\n",
       "  <th>LastNotableActivity_Email Opened</th>            <td>   -1.3750</td> <td>    0.090</td> <td>  -15.317</td> <td> 0.000</td> <td>   -1.551</td> <td>   -1.199</td>\n",
       "</tr>\n",
       "<tr>\n",
       "  <th>LastNotableActivity_Modified</th>                <td>   -1.8315</td> <td>    0.099</td> <td>  -18.577</td> <td> 0.000</td> <td>   -2.025</td> <td>   -1.638</td>\n",
       "</tr>\n",
       "<tr>\n",
       "  <th>LastNotableActivity_Olark Chat Conversation</th> <td>   -1.5178</td> <td>    0.371</td> <td>   -4.087</td> <td> 0.000</td> <td>   -2.246</td> <td>   -0.790</td>\n",
       "</tr>\n",
       "<tr>\n",
       "  <th>LastNotableActivity_Page Visited on Website</th> <td>   -1.6540</td> <td>    0.213</td> <td>   -7.769</td> <td> 0.000</td> <td>   -2.071</td> <td>   -1.237</td>\n",
       "</tr>\n",
       "</table>"
      ],
      "text/plain": [
       "<class 'statsmodels.iolib.summary.Summary'>\n",
       "\"\"\"\n",
       "                 Generalized Linear Model Regression Results                  \n",
       "==============================================================================\n",
       "Dep. Variable:              Converted   No. Observations:                 6320\n",
       "Model:                            GLM   Df Residuals:                     6305\n",
       "Model Family:                Binomial   Df Model:                           14\n",
       "Link Function:                  Logit   Scale:                          1.0000\n",
       "Method:                          IRLS   Log-Likelihood:                -2555.8\n",
       "Date:                Sun, 19 Mar 2023   Deviance:                       5111.5\n",
       "Time:                        23:34:16   Pearson chi2:                 6.55e+03\n",
       "No. Iterations:                     7   Pseudo R-squ. (CS):             0.4059\n",
       "Covariance Type:            nonrobust                                         \n",
       "===============================================================================================================\n",
       "                                                  coef    std err          z      P>|z|      [0.025      0.975]\n",
       "---------------------------------------------------------------------------------------------------------------\n",
       "const                                           0.3986      0.072      5.511      0.000       0.257       0.540\n",
       "Do Not Email                                   -1.6232      0.173     -9.371      0.000      -1.963      -1.284\n",
       "Total Time Spent on Website                     1.1075      0.041     27.192      0.000       1.028       1.187\n",
       "LeadOrigin_Lead Add Form                        3.6715      0.216     17.021      0.000       3.249       4.094\n",
       "LeadSource_Olark Chat                           1.3599      0.106     12.784      0.000       1.151       1.568\n",
       "LeadSource_Welingak Website                     2.1387      0.746      2.868      0.004       0.677       3.600\n",
       "LastActivity_Not sure                          -1.4629      0.448     -3.264      0.001      -2.342      -0.584\n",
       "LastActivity_Olark Chat Conversation           -1.1031      0.192     -5.743      0.000      -1.480      -0.727\n",
       "CurrentOccupation_No Information               -1.1303      0.089    -12.740      0.000      -1.304      -0.956\n",
       "CurrentOccupation_Working Professional          2.3214      0.180     12.870      0.000       1.968       2.675\n",
       "LastNotableActivity_Email Link Clicked         -1.6136      0.260     -6.210      0.000      -2.123      -1.104\n",
       "LastNotableActivity_Email Opened               -1.3750      0.090    -15.317      0.000      -1.551      -1.199\n",
       "LastNotableActivity_Modified                   -1.8315      0.099    -18.577      0.000      -2.025      -1.638\n",
       "LastNotableActivity_Olark Chat Conversation    -1.5178      0.371     -4.087      0.000      -2.246      -0.790\n",
       "LastNotableActivity_Page Visited on Website    -1.6540      0.213     -7.769      0.000      -2.071      -1.237\n",
       "===============================================================================================================\n",
       "\"\"\""
      ]
     },
     "execution_count": 80,
     "metadata": {},
     "output_type": "execute_result"
    }
   ],
   "source": [
    "# Building 3rd Model\n",
    "X_train_sm = sm.add_constant(X_train[col])\n",
    "logm3 = sm.GLM(y_train, X_train_sm, family = sm.families.Binomial())\n",
    "res = logm3.fit()\n",
    "res.summary()"
   ]
  },
  {
   "cell_type": "markdown",
   "id": "4efd680a",
   "metadata": {},
   "source": [
    "#### VIF Check"
   ]
  },
  {
   "cell_type": "code",
   "execution_count": 81,
   "id": "cf9e314d",
   "metadata": {},
   "outputs": [],
   "source": [
    "from statsmodels.stats.outliers_influence import variance_inflation_factor"
   ]
  },
  {
   "cell_type": "code",
   "execution_count": 82,
   "id": "062c06f7",
   "metadata": {},
   "outputs": [
    {
     "data": {
      "text/html": [
       "<div>\n",
       "<style scoped>\n",
       "    .dataframe tbody tr th:only-of-type {\n",
       "        vertical-align: middle;\n",
       "    }\n",
       "\n",
       "    .dataframe tbody tr th {\n",
       "        vertical-align: top;\n",
       "    }\n",
       "\n",
       "    .dataframe thead th {\n",
       "        text-align: right;\n",
       "    }\n",
       "</style>\n",
       "<table border=\"1\" class=\"dataframe\">\n",
       "  <thead>\n",
       "    <tr style=\"text-align: right;\">\n",
       "      <th></th>\n",
       "      <th>Features</th>\n",
       "      <th>VIF</th>\n",
       "    </tr>\n",
       "  </thead>\n",
       "  <tbody>\n",
       "    <tr>\n",
       "      <th>6</th>\n",
       "      <td>LastActivity_Olark Chat Conversation</td>\n",
       "      <td>1.96</td>\n",
       "    </tr>\n",
       "    <tr>\n",
       "      <th>11</th>\n",
       "      <td>LastNotableActivity_Modified</td>\n",
       "      <td>1.76</td>\n",
       "    </tr>\n",
       "    <tr>\n",
       "      <th>3</th>\n",
       "      <td>LeadSource_Olark Chat</td>\n",
       "      <td>1.72</td>\n",
       "    </tr>\n",
       "    <tr>\n",
       "      <th>2</th>\n",
       "      <td>LeadOrigin_Lead Add Form</td>\n",
       "      <td>1.61</td>\n",
       "    </tr>\n",
       "    <tr>\n",
       "      <th>7</th>\n",
       "      <td>CurrentOccupation_No Information</td>\n",
       "      <td>1.58</td>\n",
       "    </tr>\n",
       "    <tr>\n",
       "      <th>12</th>\n",
       "      <td>LastNotableActivity_Olark Chat Conversation</td>\n",
       "      <td>1.32</td>\n",
       "    </tr>\n",
       "    <tr>\n",
       "      <th>4</th>\n",
       "      <td>LeadSource_Welingak Website</td>\n",
       "      <td>1.29</td>\n",
       "    </tr>\n",
       "    <tr>\n",
       "      <th>1</th>\n",
       "      <td>Total Time Spent on Website</td>\n",
       "      <td>1.23</td>\n",
       "    </tr>\n",
       "    <tr>\n",
       "      <th>10</th>\n",
       "      <td>LastNotableActivity_Email Opened</td>\n",
       "      <td>1.22</td>\n",
       "    </tr>\n",
       "    <tr>\n",
       "      <th>5</th>\n",
       "      <td>LastActivity_Not sure</td>\n",
       "      <td>1.17</td>\n",
       "    </tr>\n",
       "    <tr>\n",
       "      <th>8</th>\n",
       "      <td>CurrentOccupation_Working Professional</td>\n",
       "      <td>1.15</td>\n",
       "    </tr>\n",
       "    <tr>\n",
       "      <th>0</th>\n",
       "      <td>Do Not Email</td>\n",
       "      <td>1.11</td>\n",
       "    </tr>\n",
       "    <tr>\n",
       "      <th>13</th>\n",
       "      <td>LastNotableActivity_Page Visited on Website</td>\n",
       "      <td>1.04</td>\n",
       "    </tr>\n",
       "    <tr>\n",
       "      <th>9</th>\n",
       "      <td>LastNotableActivity_Email Link Clicked</td>\n",
       "      <td>1.03</td>\n",
       "    </tr>\n",
       "  </tbody>\n",
       "</table>\n",
       "</div>"
      ],
      "text/plain": [
       "                                       Features   VIF\n",
       "6          LastActivity_Olark Chat Conversation  1.96\n",
       "11                 LastNotableActivity_Modified  1.76\n",
       "3                         LeadSource_Olark Chat  1.72\n",
       "2                      LeadOrigin_Lead Add Form  1.61\n",
       "7              CurrentOccupation_No Information  1.58\n",
       "12  LastNotableActivity_Olark Chat Conversation  1.32\n",
       "4                   LeadSource_Welingak Website  1.29\n",
       "1                   Total Time Spent on Website  1.23\n",
       "10             LastNotableActivity_Email Opened  1.22\n",
       "5                         LastActivity_Not sure  1.17\n",
       "8        CurrentOccupation_Working Professional  1.15\n",
       "0                                  Do Not Email  1.11\n",
       "13  LastNotableActivity_Page Visited on Website  1.04\n",
       "9        LastNotableActivity_Email Link Clicked  1.03"
      ]
     },
     "execution_count": 82,
     "metadata": {},
     "output_type": "execute_result"
    }
   ],
   "source": [
    "# Let's check the VIF\n",
    "\n",
    "vif = pd.DataFrame()\n",
    "vif['Features'] = X_train[col].columns\n",
    "vif['VIF'] = [variance_inflation_factor(X_train[col].values, i) for i in range(X_train[col].shape[1])]\n",
    "vif['VIF'] = round(vif['VIF'], 2)\n",
    "vif = vif.sort_values(by = 'VIF', ascending=False)\n",
    "vif"
   ]
  },
  {
   "cell_type": "markdown",
   "id": "62fd9c11",
   "metadata": {},
   "source": [
    "From model 'logm3' we can see that P-values of variables are significant and VIF values are below 3 . So we need not drop any more variables and we can proceed with making predictions using this model only considering model 'logm3' as final model."
   ]
  },
  {
   "cell_type": "code",
   "execution_count": 83,
   "id": "29b3b7b7",
   "metadata": {},
   "outputs": [
    {
     "data": {
      "text/plain": [
       "5493    0.098219\n",
       "8064    0.097859\n",
       "4716    0.008938\n",
       "9117    0.355272\n",
       "2402    0.451199\n",
       "1796    0.036062\n",
       "1120    0.036062\n",
       "253     0.057678\n",
       "1491    0.083388\n",
       "2004    0.413602\n",
       "dtype: float64"
      ]
     },
     "execution_count": 83,
     "metadata": {},
     "output_type": "execute_result"
    }
   ],
   "source": [
    "# Getting the predicted values on the train set\n",
    "y_train_pred = res.predict(X_train_sm)\n",
    "y_train_pred[:10]"
   ]
  },
  {
   "cell_type": "code",
   "execution_count": 84,
   "id": "40b8535a",
   "metadata": {},
   "outputs": [
    {
     "data": {
      "text/plain": [
       "array([0.09821869, 0.09785926, 0.00893794, 0.3552717 , 0.45119942,\n",
       "       0.03606219, 0.03606219, 0.05767761, 0.08338848, 0.41360152])"
      ]
     },
     "execution_count": 84,
     "metadata": {},
     "output_type": "execute_result"
    }
   ],
   "source": [
    "y_train_pred = y_train_pred.values.reshape(-1)\n",
    "y_train_pred[:10] "
   ]
  },
  {
   "cell_type": "markdown",
   "id": "4e8eaa51",
   "metadata": {},
   "source": [
    "#### Creating a dataframe with the acutal Converted flag and the predicted probability"
   ]
  },
  {
   "cell_type": "code",
   "execution_count": 85,
   "id": "fece8fd6",
   "metadata": {},
   "outputs": [
    {
     "data": {
      "text/html": [
       "<div>\n",
       "<style scoped>\n",
       "    .dataframe tbody tr th:only-of-type {\n",
       "        vertical-align: middle;\n",
       "    }\n",
       "\n",
       "    .dataframe tbody tr th {\n",
       "        vertical-align: top;\n",
       "    }\n",
       "\n",
       "    .dataframe thead th {\n",
       "        text-align: right;\n",
       "    }\n",
       "</style>\n",
       "<table border=\"1\" class=\"dataframe\">\n",
       "  <thead>\n",
       "    <tr style=\"text-align: right;\">\n",
       "      <th></th>\n",
       "      <th>Converted</th>\n",
       "      <th>Converted_Prob</th>\n",
       "      <th>Prospect ID</th>\n",
       "    </tr>\n",
       "  </thead>\n",
       "  <tbody>\n",
       "    <tr>\n",
       "      <th>0</th>\n",
       "      <td>0</td>\n",
       "      <td>0.098219</td>\n",
       "      <td>5493</td>\n",
       "    </tr>\n",
       "    <tr>\n",
       "      <th>1</th>\n",
       "      <td>0</td>\n",
       "      <td>0.097859</td>\n",
       "      <td>8064</td>\n",
       "    </tr>\n",
       "    <tr>\n",
       "      <th>2</th>\n",
       "      <td>0</td>\n",
       "      <td>0.008938</td>\n",
       "      <td>4716</td>\n",
       "    </tr>\n",
       "    <tr>\n",
       "      <th>3</th>\n",
       "      <td>0</td>\n",
       "      <td>0.355272</td>\n",
       "      <td>9117</td>\n",
       "    </tr>\n",
       "    <tr>\n",
       "      <th>4</th>\n",
       "      <td>1</td>\n",
       "      <td>0.451199</td>\n",
       "      <td>2402</td>\n",
       "    </tr>\n",
       "  </tbody>\n",
       "</table>\n",
       "</div>"
      ],
      "text/plain": [
       "   Converted  Converted_Prob  Prospect ID\n",
       "0          0        0.098219         5493\n",
       "1          0        0.097859         8064\n",
       "2          0        0.008938         4716\n",
       "3          0        0.355272         9117\n",
       "4          1        0.451199         2402"
      ]
     },
     "execution_count": 85,
     "metadata": {},
     "output_type": "execute_result"
    }
   ],
   "source": [
    "y_train_pred_final = pd.DataFrame({'Converted':y_train.values, 'Converted_Prob':y_train_pred})\n",
    "y_train_pred_final['Prospect ID'] = y_train.index\n",
    "y_train_pred_final.head()"
   ]
  },
  {
   "cell_type": "markdown",
   "id": "e4bacc52",
   "metadata": {},
   "source": [
    "#### Creating new column 'predicted' with 1 if Converted_Prob > 0.5 else 0"
   ]
  },
  {
   "cell_type": "code",
   "execution_count": 86,
   "id": "ea9e4cbe",
   "metadata": {},
   "outputs": [
    {
     "data": {
      "text/html": [
       "<div>\n",
       "<style scoped>\n",
       "    .dataframe tbody tr th:only-of-type {\n",
       "        vertical-align: middle;\n",
       "    }\n",
       "\n",
       "    .dataframe tbody tr th {\n",
       "        vertical-align: top;\n",
       "    }\n",
       "\n",
       "    .dataframe thead th {\n",
       "        text-align: right;\n",
       "    }\n",
       "</style>\n",
       "<table border=\"1\" class=\"dataframe\">\n",
       "  <thead>\n",
       "    <tr style=\"text-align: right;\">\n",
       "      <th></th>\n",
       "      <th>Converted</th>\n",
       "      <th>Converted_Prob</th>\n",
       "      <th>Prospect ID</th>\n",
       "      <th>predicted</th>\n",
       "    </tr>\n",
       "  </thead>\n",
       "  <tbody>\n",
       "    <tr>\n",
       "      <th>0</th>\n",
       "      <td>0</td>\n",
       "      <td>0.098219</td>\n",
       "      <td>5493</td>\n",
       "      <td>0</td>\n",
       "    </tr>\n",
       "    <tr>\n",
       "      <th>1</th>\n",
       "      <td>0</td>\n",
       "      <td>0.097859</td>\n",
       "      <td>8064</td>\n",
       "      <td>0</td>\n",
       "    </tr>\n",
       "    <tr>\n",
       "      <th>2</th>\n",
       "      <td>0</td>\n",
       "      <td>0.008938</td>\n",
       "      <td>4716</td>\n",
       "      <td>0</td>\n",
       "    </tr>\n",
       "    <tr>\n",
       "      <th>3</th>\n",
       "      <td>0</td>\n",
       "      <td>0.355272</td>\n",
       "      <td>9117</td>\n",
       "      <td>0</td>\n",
       "    </tr>\n",
       "    <tr>\n",
       "      <th>4</th>\n",
       "      <td>1</td>\n",
       "      <td>0.451199</td>\n",
       "      <td>2402</td>\n",
       "      <td>0</td>\n",
       "    </tr>\n",
       "  </tbody>\n",
       "</table>\n",
       "</div>"
      ],
      "text/plain": [
       "   Converted  Converted_Prob  Prospect ID  predicted\n",
       "0          0        0.098219         5493          0\n",
       "1          0        0.097859         8064          0\n",
       "2          0        0.008938         4716          0\n",
       "3          0        0.355272         9117          0\n",
       "4          1        0.451199         2402          0"
      ]
     },
     "execution_count": 86,
     "metadata": {},
     "output_type": "execute_result"
    }
   ],
   "source": [
    "y_train_pred_final['predicted'] = y_train_pred_final.Converted_Prob.map(lambda x: 1 if x > 0.5 else 0)\n",
    "y_train_pred_final.head()"
   ]
  },
  {
   "cell_type": "markdown",
   "id": "de38759d",
   "metadata": {},
   "source": [
    "Let's check the confusion metrics and accuracy"
   ]
  },
  {
   "cell_type": "code",
   "execution_count": 87,
   "id": "1a8024a9",
   "metadata": {},
   "outputs": [],
   "source": [
    "from sklearn import metrics"
   ]
  },
  {
   "cell_type": "code",
   "execution_count": 88,
   "id": "e10fdaf0",
   "metadata": {},
   "outputs": [
    {
     "name": "stdout",
     "output_type": "stream",
     "text": [
      "[[3459  450]\n",
      " [ 727 1684]]\n"
     ]
    }
   ],
   "source": [
    "# confusion matrix\n",
    "confusion = metrics.confusion_matrix(y_train_pred_final.Converted, y_train_pred_final.predicted)\n",
    "print(confusion)"
   ]
  },
  {
   "cell_type": "raw",
   "id": "cad4d727",
   "metadata": {},
   "source": [
    "# Predicted     not_converted    converted\n",
    "# Actual\n",
    "# not_converted        3459        450\n",
    "# converted            727         1684"
   ]
  },
  {
   "cell_type": "code",
   "execution_count": 89,
   "id": "85bd7d9b",
   "metadata": {},
   "outputs": [
    {
     "name": "stdout",
     "output_type": "stream",
     "text": [
      "0.8137658227848101\n"
     ]
    }
   ],
   "source": [
    "# Let's check overall accuracy\n",
    "print(metrics.accuracy_score(y_train_pred_final.Converted, y_train_pred_final.predicted))"
   ]
  },
  {
   "cell_type": "markdown",
   "id": "d7e336d7",
   "metadata": {},
   "source": [
    "Accuracy rate is around 81% which is good. However we will also need to calculate the other metrics as we cannot depend only on the accuracy metrics."
   ]
  },
  {
   "cell_type": "markdown",
   "id": "6ad66947",
   "metadata": {},
   "source": [
    "### Metrics beyond simple accuracy"
   ]
  },
  {
   "cell_type": "code",
   "execution_count": 90,
   "id": "1101d6b8",
   "metadata": {},
   "outputs": [],
   "source": [
    "TP=confusion[1,1]  # true positive\n",
    "TN=confusion[0,0]  # true negative\n",
    "FP=confusion[0,1]  # False positive\n",
    "FN=confusion[1,0]  # False negative"
   ]
  },
  {
   "cell_type": "code",
   "execution_count": 91,
   "id": "006780f3",
   "metadata": {},
   "outputs": [
    {
     "data": {
      "text/plain": [
       "0.6984653670676068"
      ]
     },
     "execution_count": 91,
     "metadata": {},
     "output_type": "execute_result"
    }
   ],
   "source": [
    "# Lets see the sensitivity of our logistic regression model \n",
    "TP/float(TP+FN)"
   ]
  },
  {
   "cell_type": "code",
   "execution_count": 92,
   "id": "8e2039a8",
   "metadata": {},
   "outputs": [
    {
     "data": {
      "text/plain": [
       "0.8848810437452034"
      ]
     },
     "execution_count": 92,
     "metadata": {},
     "output_type": "execute_result"
    }
   ],
   "source": [
    "# Lets calculate specificity \n",
    "TN/float(TN+FP)"
   ]
  },
  {
   "cell_type": "code",
   "execution_count": 93,
   "id": "dd82499f",
   "metadata": {},
   "outputs": [
    {
     "name": "stdout",
     "output_type": "stream",
     "text": [
      "0.11511895625479662\n"
     ]
    }
   ],
   "source": [
    "# Calculate false positive rate-predicting churn when customer does not have churned\n",
    "print(FP/float(TN+FP))"
   ]
  },
  {
   "cell_type": "code",
   "execution_count": 94,
   "id": "189cf1cf",
   "metadata": {},
   "outputs": [
    {
     "name": "stdout",
     "output_type": "stream",
     "text": [
      "0.7891283973758201\n"
     ]
    }
   ],
   "source": [
    "# Positive predictive value\n",
    "print(TP/float(TP+FP))"
   ]
  },
  {
   "cell_type": "code",
   "execution_count": 95,
   "id": "1d6ec39d",
   "metadata": {},
   "outputs": [
    {
     "name": "stdout",
     "output_type": "stream",
     "text": [
      "0.8263258480649786\n"
     ]
    }
   ],
   "source": [
    "# Negative predictive value\n",
    "print(TN/float(TN+FN))"
   ]
  },
  {
   "cell_type": "markdown",
   "id": "d62c1c0c",
   "metadata": {},
   "source": [
    "### Plotting ROC Curve"
   ]
  },
  {
   "cell_type": "code",
   "execution_count": 96,
   "id": "20c7b2be",
   "metadata": {},
   "outputs": [],
   "source": [
    "def draw_roc( actual, probs ):\n",
    "    fpr, tpr, thresholds = metrics.roc_curve( actual, probs, drop_intermediate = False )\n",
    "    auc_score = metrics.roc_auc_score( actual, probs )\n",
    "    plt.figure(figsize=(5, 5))\n",
    "    plt.plot( fpr, tpr, label='ROC curve (area = %0.2f)' % auc_score )\n",
    "    plt.plot([0, 1], [0, 1], 'k--')\n",
    "    plt.xlim([0.0, 1.0])\n",
    "    plt.ylim([0.0, 1.05])\n",
    "    plt.xlabel('False Positive Rate or [1 - True Negative Rate]')\n",
    "    plt.ylabel('True Positive Rate')\n",
    "    plt.title('Receiver operating characteristic example')\n",
    "    plt.legend(loc=\"lower right\")\n",
    "    plt.show()\n",
    "    return None"
   ]
  },
  {
   "cell_type": "code",
   "execution_count": 97,
   "id": "2220ac01",
   "metadata": {},
   "outputs": [],
   "source": [
    "fpr, tpr, thresholds = metrics.roc_curve(y_train_pred_final.Converted, y_train_pred_final.Converted_Prob)"
   ]
  },
  {
   "cell_type": "code",
   "execution_count": 98,
   "id": "fddbc0f2",
   "metadata": {},
   "outputs": [
    {
     "data": {
      "image/png": "[encoded data removed]",
      "text/plain": [
       "<Figure size 360x360 with 1 Axes>"
      ]
     },
     "metadata": {
      "needs_background": "light"
     },
     "output_type": "display_data"
    }
   ],
   "source": [
    "draw_roc(y_train_pred_final.Converted, y_train_pred_final.Converted_Prob)"
   ]
  },
  {
   "cell_type": "markdown",
   "id": "a8e9a242",
   "metadata": {},
   "source": [
    "### Finding Optimal Cutoff point"
   ]
  },
  {
   "cell_type": "code",
   "execution_count": 99,
   "id": "459ce28d",
   "metadata": {},
   "outputs": [
    {
     "data": {
      "text/html": [
       "<div>\n",
       "<style scoped>\n",
       "    .dataframe tbody tr th:only-of-type {\n",
       "        vertical-align: middle;\n",
       "    }\n",
       "\n",
       "    .dataframe tbody tr th {\n",
       "        vertical-align: top;\n",
       "    }\n",
       "\n",
       "    .dataframe thead th {\n",
       "        text-align: right;\n",
       "    }\n",
       "</style>\n",
       "<table border=\"1\" class=\"dataframe\">\n",
       "  <thead>\n",
       "    <tr style=\"text-align: right;\">\n",
       "      <th></th>\n",
       "      <th>Converted</th>\n",
       "      <th>Converted_Prob</th>\n",
       "      <th>Prospect ID</th>\n",
       "      <th>predicted</th>\n",
       "      <th>0.0</th>\n",
       "      <th>0.1</th>\n",
       "      <th>0.2</th>\n",
       "      <th>0.3</th>\n",
       "      <th>0.4</th>\n",
       "      <th>0.5</th>\n",
       "      <th>0.6</th>\n",
       "      <th>0.7</th>\n",
       "      <th>0.8</th>\n",
       "      <th>0.9</th>\n",
       "    </tr>\n",
       "  </thead>\n",
       "  <tbody>\n",
       "    <tr>\n",
       "      <th>0</th>\n",
       "      <td>0</td>\n",
       "      <td>0.098219</td>\n",
       "      <td>5493</td>\n",
       "      <td>0</td>\n",
       "      <td>1</td>\n",
       "      <td>0</td>\n",
       "      <td>0</td>\n",
       "      <td>0</td>\n",
       "      <td>0</td>\n",
       "      <td>0</td>\n",
       "      <td>0</td>\n",
       "      <td>0</td>\n",
       "      <td>0</td>\n",
       "      <td>0</td>\n",
       "    </tr>\n",
       "    <tr>\n",
       "      <th>1</th>\n",
       "      <td>0</td>\n",
       "      <td>0.097859</td>\n",
       "      <td>8064</td>\n",
       "      <td>0</td>\n",
       "      <td>1</td>\n",
       "      <td>0</td>\n",
       "      <td>0</td>\n",
       "      <td>0</td>\n",
       "      <td>0</td>\n",
       "      <td>0</td>\n",
       "      <td>0</td>\n",
       "      <td>0</td>\n",
       "      <td>0</td>\n",
       "      <td>0</td>\n",
       "    </tr>\n",
       "    <tr>\n",
       "      <th>2</th>\n",
       "      <td>0</td>\n",
       "      <td>0.008938</td>\n",
       "      <td>4716</td>\n",
       "      <td>0</td>\n",
       "      <td>1</td>\n",
       "      <td>0</td>\n",
       "      <td>0</td>\n",
       "      <td>0</td>\n",
       "      <td>0</td>\n",
       "      <td>0</td>\n",
       "      <td>0</td>\n",
       "      <td>0</td>\n",
       "      <td>0</td>\n",
       "      <td>0</td>\n",
       "    </tr>\n",
       "    <tr>\n",
       "      <th>3</th>\n",
       "      <td>0</td>\n",
       "      <td>0.355272</td>\n",
       "      <td>9117</td>\n",
       "      <td>0</td>\n",
       "      <td>1</td>\n",
       "      <td>1</td>\n",
       "      <td>1</td>\n",
       "      <td>1</td>\n",
       "      <td>0</td>\n",
       "      <td>0</td>\n",
       "      <td>0</td>\n",
       "      <td>0</td>\n",
       "      <td>0</td>\n",
       "      <td>0</td>\n",
       "    </tr>\n",
       "    <tr>\n",
       "      <th>4</th>\n",
       "      <td>1</td>\n",
       "      <td>0.451199</td>\n",
       "      <td>2402</td>\n",
       "      <td>0</td>\n",
       "      <td>1</td>\n",
       "      <td>1</td>\n",
       "      <td>1</td>\n",
       "      <td>1</td>\n",
       "      <td>1</td>\n",
       "      <td>0</td>\n",
       "      <td>0</td>\n",
       "      <td>0</td>\n",
       "      <td>0</td>\n",
       "      <td>0</td>\n",
       "    </tr>\n",
       "  </tbody>\n",
       "</table>\n",
       "</div>"
      ],
      "text/plain": [
       "   Converted  Converted_Prob  Prospect ID  predicted  0.0  0.1  0.2  0.3  0.4  \\\n",
       "0          0        0.098219         5493          0    1    0    0    0    0   \n",
       "1          0        0.097859         8064          0    1    0    0    0    0   \n",
       "2          0        0.008938         4716          0    1    0    0    0    0   \n",
       "3          0        0.355272         9117          0    1    1    1    1    0   \n",
       "4          1        0.451199         2402          0    1    1    1    1    1   \n",
       "\n",
       "   0.5  0.6  0.7  0.8  0.9  \n",
       "0    0    0    0    0    0  \n",
       "1    0    0    0    0    0  \n",
       "2    0    0    0    0    0  \n",
       "3    0    0    0    0    0  \n",
       "4    0    0    0    0    0  "
      ]
     },
     "execution_count": 99,
     "metadata": {},
     "output_type": "execute_result"
    }
   ],
   "source": [
    "# Lets create columns with different probability cutoffs \n",
    "numbers = [float(x)/10 for x in range (10)]\n",
    "for i in numbers:\n",
    "    y_train_pred_final[i]=y_train_pred_final.Converted_Prob.map(lambda x: 1 if x>i else 0)\n",
    "y_train_pred_final.head()"
   ]
  },
  {
   "cell_type": "code",
   "execution_count": 100,
   "id": "0adf500e",
   "metadata": {},
   "outputs": [
    {
     "name": "stdout",
     "output_type": "stream",
     "text": [
      "     prob  accuracy     sensi     speci\n",
      "0.0   0.0  0.381487  1.000000  0.000000\n",
      "0.1   0.1  0.605063  0.972625  0.378358\n",
      "0.2   0.2  0.768038  0.909581  0.680737\n",
      "0.3   0.3  0.806013  0.867275  0.768227\n",
      "0.4   0.4  0.814715  0.784737  0.833205\n",
      "0.5   0.5  0.813766  0.698465  0.884881\n",
      "0.6   0.6  0.806487  0.625467  0.918138\n",
      "0.7   0.7  0.783228  0.513065  0.949859\n",
      "0.8   0.8  0.761234  0.422646  0.970069\n",
      "0.9   0.9  0.715981  0.277063  0.986697\n"
     ]
    }
   ],
   "source": [
    "# Now let's calculate accuracy sensitivity and specificity for various probability cutoffs.\n",
    "cutoff_df = pd.DataFrame( columns = ['prob','accuracy','sensi','speci'])\n",
    "from sklearn.metrics import confusion_matrix\n",
    "\n",
    "# TP = confusion[1,1] # true positive \n",
    "# TN = confusion[0,0] # true negatives\n",
    "# FP = confusion[0,1] # false positives\n",
    "# FN = confusion[1,0] # false negatives\n",
    "\n",
    "num = [0.0,0.1,0.2,0.3,0.4,0.5,0.6,0.7,0.8,0.9]\n",
    "for i in num:\n",
    "    cm1 = metrics.confusion_matrix(y_train_pred_final.Converted, y_train_pred_final[i] )\n",
    "    total1=sum(sum(cm1))\n",
    "    accuracy = (cm1[0,0]+cm1[1,1])/total1\n",
    "    \n",
    "    speci = cm1[0,0]/(cm1[0,0]+cm1[0,1])\n",
    "    sensi = cm1[1,1]/(cm1[1,0]+cm1[1,1])\n",
    "    cutoff_df.loc[i] =[ i ,accuracy,sensi,speci]\n",
    "print(cutoff_df)"
   ]
  },
  {
   "cell_type": "code",
   "execution_count": 101,
   "id": "87ca5f38",
   "metadata": {},
   "outputs": [
    {
     "data": {
      "image/png": "[encoded data removed]",
      "text/plain": [
       "<Figure size 432x288 with 1 Axes>"
      ]
     },
     "metadata": {
      "needs_background": "light"
     },
     "output_type": "display_data"
    }
   ],
   "source": [
    "# Lets plot accuracy sensitivity and specificity for various probabilities.\n",
    "cutoff_df.plot.line(x='prob', y=['accuracy', 'sensi', 'speci'])\n",
    "plt.show()"
   ]
  },
  {
   "cell_type": "markdown",
   "id": "ab5631d9",
   "metadata": {},
   "source": [
    "From the curve above 0.37 is an optimum point to take it as a cutoff probability."
   ]
  },
  {
   "cell_type": "code",
   "execution_count": 102,
   "id": "2b86eff8",
   "metadata": {},
   "outputs": [
    {
     "data": {
      "text/html": [
       "<div>\n",
       "<style scoped>\n",
       "    .dataframe tbody tr th:only-of-type {\n",
       "        vertical-align: middle;\n",
       "    }\n",
       "\n",
       "    .dataframe tbody tr th {\n",
       "        vertical-align: top;\n",
       "    }\n",
       "\n",
       "    .dataframe thead th {\n",
       "        text-align: right;\n",
       "    }\n",
       "</style>\n",
       "<table border=\"1\" class=\"dataframe\">\n",
       "  <thead>\n",
       "    <tr style=\"text-align: right;\">\n",
       "      <th></th>\n",
       "      <th>Converted</th>\n",
       "      <th>Converted_Prob</th>\n",
       "      <th>Prospect ID</th>\n",
       "      <th>predicted</th>\n",
       "      <th>0.0</th>\n",
       "      <th>0.1</th>\n",
       "      <th>0.2</th>\n",
       "      <th>0.3</th>\n",
       "      <th>0.4</th>\n",
       "      <th>0.5</th>\n",
       "      <th>0.6</th>\n",
       "      <th>0.7</th>\n",
       "      <th>0.8</th>\n",
       "      <th>0.9</th>\n",
       "      <th>final_predicted</th>\n",
       "    </tr>\n",
       "  </thead>\n",
       "  <tbody>\n",
       "    <tr>\n",
       "      <th>0</th>\n",
       "      <td>0</td>\n",
       "      <td>0.098219</td>\n",
       "      <td>5493</td>\n",
       "      <td>0</td>\n",
       "      <td>1</td>\n",
       "      <td>0</td>\n",
       "      <td>0</td>\n",
       "      <td>0</td>\n",
       "      <td>0</td>\n",
       "      <td>0</td>\n",
       "      <td>0</td>\n",
       "      <td>0</td>\n",
       "      <td>0</td>\n",
       "      <td>0</td>\n",
       "      <td>0</td>\n",
       "    </tr>\n",
       "    <tr>\n",
       "      <th>1</th>\n",
       "      <td>0</td>\n",
       "      <td>0.097859</td>\n",
       "      <td>8064</td>\n",
       "      <td>0</td>\n",
       "      <td>1</td>\n",
       "      <td>0</td>\n",
       "      <td>0</td>\n",
       "      <td>0</td>\n",
       "      <td>0</td>\n",
       "      <td>0</td>\n",
       "      <td>0</td>\n",
       "      <td>0</td>\n",
       "      <td>0</td>\n",
       "      <td>0</td>\n",
       "      <td>0</td>\n",
       "    </tr>\n",
       "    <tr>\n",
       "      <th>2</th>\n",
       "      <td>0</td>\n",
       "      <td>0.008938</td>\n",
       "      <td>4716</td>\n",
       "      <td>0</td>\n",
       "      <td>1</td>\n",
       "      <td>0</td>\n",
       "      <td>0</td>\n",
       "      <td>0</td>\n",
       "      <td>0</td>\n",
       "      <td>0</td>\n",
       "      <td>0</td>\n",
       "      <td>0</td>\n",
       "      <td>0</td>\n",
       "      <td>0</td>\n",
       "      <td>0</td>\n",
       "    </tr>\n",
       "    <tr>\n",
       "      <th>3</th>\n",
       "      <td>0</td>\n",
       "      <td>0.355272</td>\n",
       "      <td>9117</td>\n",
       "      <td>0</td>\n",
       "      <td>1</td>\n",
       "      <td>1</td>\n",
       "      <td>1</td>\n",
       "      <td>1</td>\n",
       "      <td>0</td>\n",
       "      <td>0</td>\n",
       "      <td>0</td>\n",
       "      <td>0</td>\n",
       "      <td>0</td>\n",
       "      <td>0</td>\n",
       "      <td>0</td>\n",
       "    </tr>\n",
       "    <tr>\n",
       "      <th>4</th>\n",
       "      <td>1</td>\n",
       "      <td>0.451199</td>\n",
       "      <td>2402</td>\n",
       "      <td>0</td>\n",
       "      <td>1</td>\n",
       "      <td>1</td>\n",
       "      <td>1</td>\n",
       "      <td>1</td>\n",
       "      <td>1</td>\n",
       "      <td>0</td>\n",
       "      <td>0</td>\n",
       "      <td>0</td>\n",
       "      <td>0</td>\n",
       "      <td>0</td>\n",
       "      <td>1</td>\n",
       "    </tr>\n",
       "  </tbody>\n",
       "</table>\n",
       "</div>"
      ],
      "text/plain": [
       "   Converted  Converted_Prob  Prospect ID  predicted  0.0  0.1  0.2  0.3  0.4  \\\n",
       "0          0        0.098219         5493          0    1    0    0    0    0   \n",
       "1          0        0.097859         8064          0    1    0    0    0    0   \n",
       "2          0        0.008938         4716          0    1    0    0    0    0   \n",
       "3          0        0.355272         9117          0    1    1    1    1    0   \n",
       "4          1        0.451199         2402          0    1    1    1    1    1   \n",
       "\n",
       "   0.5  0.6  0.7  0.8  0.9  final_predicted  \n",
       "0    0    0    0    0    0                0  \n",
       "1    0    0    0    0    0                0  \n",
       "2    0    0    0    0    0                0  \n",
       "3    0    0    0    0    0                0  \n",
       "4    0    0    0    0    0                1  "
      ]
     },
     "execution_count": 102,
     "metadata": {},
     "output_type": "execute_result"
    }
   ],
   "source": [
    "y_train_pred_final['final_predicted'] = y_train_pred_final.Converted_Prob.map(lambda x: 1 if x > 0.37 else 0)\n",
    "y_train_pred_final.head()"
   ]
  },
  {
   "cell_type": "code",
   "execution_count": 103,
   "id": "a2577046",
   "metadata": {},
   "outputs": [
    {
     "data": {
      "text/html": [
       "<div>\n",
       "<style scoped>\n",
       "    .dataframe tbody tr th:only-of-type {\n",
       "        vertical-align: middle;\n",
       "    }\n",
       "\n",
       "    .dataframe tbody tr th {\n",
       "        vertical-align: top;\n",
       "    }\n",
       "\n",
       "    .dataframe thead th {\n",
       "        text-align: right;\n",
       "    }\n",
       "</style>\n",
       "<table border=\"1\" class=\"dataframe\">\n",
       "  <thead>\n",
       "    <tr style=\"text-align: right;\">\n",
       "      <th></th>\n",
       "      <th>Converted</th>\n",
       "      <th>Converted_Prob</th>\n",
       "      <th>Prospect ID</th>\n",
       "      <th>predicted</th>\n",
       "      <th>0.0</th>\n",
       "      <th>0.1</th>\n",
       "      <th>0.2</th>\n",
       "      <th>0.3</th>\n",
       "      <th>0.4</th>\n",
       "      <th>0.5</th>\n",
       "      <th>0.6</th>\n",
       "      <th>0.7</th>\n",
       "      <th>0.8</th>\n",
       "      <th>0.9</th>\n",
       "      <th>final_predicted</th>\n",
       "      <th>lead_score</th>\n",
       "    </tr>\n",
       "  </thead>\n",
       "  <tbody>\n",
       "    <tr>\n",
       "      <th>0</th>\n",
       "      <td>0</td>\n",
       "      <td>0.098219</td>\n",
       "      <td>5493</td>\n",
       "      <td>0</td>\n",
       "      <td>1</td>\n",
       "      <td>0</td>\n",
       "      <td>0</td>\n",
       "      <td>0</td>\n",
       "      <td>0</td>\n",
       "      <td>0</td>\n",
       "      <td>0</td>\n",
       "      <td>0</td>\n",
       "      <td>0</td>\n",
       "      <td>0</td>\n",
       "      <td>0</td>\n",
       "      <td>10</td>\n",
       "    </tr>\n",
       "    <tr>\n",
       "      <th>1</th>\n",
       "      <td>0</td>\n",
       "      <td>0.097859</td>\n",
       "      <td>8064</td>\n",
       "      <td>0</td>\n",
       "      <td>1</td>\n",
       "      <td>0</td>\n",
       "      <td>0</td>\n",
       "      <td>0</td>\n",
       "      <td>0</td>\n",
       "      <td>0</td>\n",
       "      <td>0</td>\n",
       "      <td>0</td>\n",
       "      <td>0</td>\n",
       "      <td>0</td>\n",
       "      <td>0</td>\n",
       "      <td>10</td>\n",
       "    </tr>\n",
       "    <tr>\n",
       "      <th>2</th>\n",
       "      <td>0</td>\n",
       "      <td>0.008938</td>\n",
       "      <td>4716</td>\n",
       "      <td>0</td>\n",
       "      <td>1</td>\n",
       "      <td>0</td>\n",
       "      <td>0</td>\n",
       "      <td>0</td>\n",
       "      <td>0</td>\n",
       "      <td>0</td>\n",
       "      <td>0</td>\n",
       "      <td>0</td>\n",
       "      <td>0</td>\n",
       "      <td>0</td>\n",
       "      <td>0</td>\n",
       "      <td>1</td>\n",
       "    </tr>\n",
       "    <tr>\n",
       "      <th>3</th>\n",
       "      <td>0</td>\n",
       "      <td>0.355272</td>\n",
       "      <td>9117</td>\n",
       "      <td>0</td>\n",
       "      <td>1</td>\n",
       "      <td>1</td>\n",
       "      <td>1</td>\n",
       "      <td>1</td>\n",
       "      <td>0</td>\n",
       "      <td>0</td>\n",
       "      <td>0</td>\n",
       "      <td>0</td>\n",
       "      <td>0</td>\n",
       "      <td>0</td>\n",
       "      <td>0</td>\n",
       "      <td>36</td>\n",
       "    </tr>\n",
       "    <tr>\n",
       "      <th>4</th>\n",
       "      <td>1</td>\n",
       "      <td>0.451199</td>\n",
       "      <td>2402</td>\n",
       "      <td>0</td>\n",
       "      <td>1</td>\n",
       "      <td>1</td>\n",
       "      <td>1</td>\n",
       "      <td>1</td>\n",
       "      <td>1</td>\n",
       "      <td>0</td>\n",
       "      <td>0</td>\n",
       "      <td>0</td>\n",
       "      <td>0</td>\n",
       "      <td>0</td>\n",
       "      <td>1</td>\n",
       "      <td>45</td>\n",
       "    </tr>\n",
       "    <tr>\n",
       "      <th>5</th>\n",
       "      <td>0</td>\n",
       "      <td>0.036062</td>\n",
       "      <td>1796</td>\n",
       "      <td>0</td>\n",
       "      <td>1</td>\n",
       "      <td>0</td>\n",
       "      <td>0</td>\n",
       "      <td>0</td>\n",
       "      <td>0</td>\n",
       "      <td>0</td>\n",
       "      <td>0</td>\n",
       "      <td>0</td>\n",
       "      <td>0</td>\n",
       "      <td>0</td>\n",
       "      <td>0</td>\n",
       "      <td>4</td>\n",
       "    </tr>\n",
       "    <tr>\n",
       "      <th>6</th>\n",
       "      <td>0</td>\n",
       "      <td>0.036062</td>\n",
       "      <td>1120</td>\n",
       "      <td>0</td>\n",
       "      <td>1</td>\n",
       "      <td>0</td>\n",
       "      <td>0</td>\n",
       "      <td>0</td>\n",
       "      <td>0</td>\n",
       "      <td>0</td>\n",
       "      <td>0</td>\n",
       "      <td>0</td>\n",
       "      <td>0</td>\n",
       "      <td>0</td>\n",
       "      <td>0</td>\n",
       "      <td>4</td>\n",
       "    </tr>\n",
       "    <tr>\n",
       "      <th>7</th>\n",
       "      <td>0</td>\n",
       "      <td>0.057678</td>\n",
       "      <td>253</td>\n",
       "      <td>0</td>\n",
       "      <td>1</td>\n",
       "      <td>0</td>\n",
       "      <td>0</td>\n",
       "      <td>0</td>\n",
       "      <td>0</td>\n",
       "      <td>0</td>\n",
       "      <td>0</td>\n",
       "      <td>0</td>\n",
       "      <td>0</td>\n",
       "      <td>0</td>\n",
       "      <td>0</td>\n",
       "      <td>6</td>\n",
       "    </tr>\n",
       "    <tr>\n",
       "      <th>8</th>\n",
       "      <td>0</td>\n",
       "      <td>0.083388</td>\n",
       "      <td>1491</td>\n",
       "      <td>0</td>\n",
       "      <td>1</td>\n",
       "      <td>0</td>\n",
       "      <td>0</td>\n",
       "      <td>0</td>\n",
       "      <td>0</td>\n",
       "      <td>0</td>\n",
       "      <td>0</td>\n",
       "      <td>0</td>\n",
       "      <td>0</td>\n",
       "      <td>0</td>\n",
       "      <td>0</td>\n",
       "      <td>8</td>\n",
       "    </tr>\n",
       "    <tr>\n",
       "      <th>9</th>\n",
       "      <td>1</td>\n",
       "      <td>0.413602</td>\n",
       "      <td>2004</td>\n",
       "      <td>0</td>\n",
       "      <td>1</td>\n",
       "      <td>1</td>\n",
       "      <td>1</td>\n",
       "      <td>1</td>\n",
       "      <td>1</td>\n",
       "      <td>0</td>\n",
       "      <td>0</td>\n",
       "      <td>0</td>\n",
       "      <td>0</td>\n",
       "      <td>0</td>\n",
       "      <td>1</td>\n",
       "      <td>41</td>\n",
       "    </tr>\n",
       "  </tbody>\n",
       "</table>\n",
       "</div>"
      ],
      "text/plain": [
       "   Converted  Converted_Prob  Prospect ID  predicted  0.0  0.1  0.2  0.3  0.4  \\\n",
       "0          0        0.098219         5493          0    1    0    0    0    0   \n",
       "1          0        0.097859         8064          0    1    0    0    0    0   \n",
       "2          0        0.008938         4716          0    1    0    0    0    0   \n",
       "3          0        0.355272         9117          0    1    1    1    1    0   \n",
       "4          1        0.451199         2402          0    1    1    1    1    1   \n",
       "5          0        0.036062         1796          0    1    0    0    0    0   \n",
       "6          0        0.036062         1120          0    1    0    0    0    0   \n",
       "7          0        0.057678          253          0    1    0    0    0    0   \n",
       "8          0        0.083388         1491          0    1    0    0    0    0   \n",
       "9          1        0.413602         2004          0    1    1    1    1    1   \n",
       "\n",
       "   0.5  0.6  0.7  0.8  0.9  final_predicted  lead_score  \n",
       "0    0    0    0    0    0                0          10  \n",
       "1    0    0    0    0    0                0          10  \n",
       "2    0    0    0    0    0                0           1  \n",
       "3    0    0    0    0    0                0          36  \n",
       "4    0    0    0    0    0                1          45  \n",
       "5    0    0    0    0    0                0           4  \n",
       "6    0    0    0    0    0                0           4  \n",
       "7    0    0    0    0    0                0           6  \n",
       "8    0    0    0    0    0                0           8  \n",
       "9    0    0    0    0    0                1          41  "
      ]
     },
     "execution_count": 103,
     "metadata": {},
     "output_type": "execute_result"
    }
   ],
   "source": [
    "# Now let us calculate the lead score\n",
    "\n",
    "y_train_pred_final['lead_score'] = y_train_pred_final.Converted_Prob.map(lambda x: round(x*100))\n",
    "y_train_pred_final.head(10)"
   ]
  },
  {
   "cell_type": "code",
   "execution_count": 104,
   "id": "42d86a34",
   "metadata": {},
   "outputs": [
    {
     "data": {
      "text/plain": [
       "1    1951\n",
       "0     460\n",
       "Name: final_predicted, dtype: int64"
      ]
     },
     "execution_count": 104,
     "metadata": {},
     "output_type": "execute_result"
    }
   ],
   "source": [
    "# checking if 80% cases are correctly predicted based on the converted column.\n",
    "# get the total of final predicted conversion / non conversion counts from the actual converted rates\n",
    "\n",
    "checking_df = y_train_pred_final.loc[y_train_pred_final['Converted']==1,['Converted','final_predicted']]\n",
    "checking_df['final_predicted'].value_counts()"
   ]
  },
  {
   "cell_type": "code",
   "execution_count": 105,
   "id": "a1addfb3",
   "metadata": {},
   "outputs": [
    {
     "data": {
      "text/plain": [
       "0.8092077975943592"
      ]
     },
     "execution_count": 105,
     "metadata": {},
     "output_type": "execute_result"
    }
   ],
   "source": [
    "# check the precentage of final_predicted conversions\n",
    "\n",
    "1951/float(1951+460)"
   ]
  },
  {
   "cell_type": "markdown",
   "id": "db0974c0",
   "metadata": {},
   "source": [
    "Hence we can see that the final prediction of conversions have a target of 80.92% conversion as per the X Educations CEO's requirement . Hence this is a good model."
   ]
  },
  {
   "cell_type": "code",
   "execution_count": 106,
   "id": "23ab28cf",
   "metadata": {},
   "outputs": [
    {
     "name": "stdout",
     "output_type": "stream",
     "text": [
      "0.8137658227848101\n"
     ]
    }
   ],
   "source": [
    "print(metrics.accuracy_score(y_train_pred_final.Converted, y_train_pred_final.predicted))"
   ]
  },
  {
   "cell_type": "code",
   "execution_count": 107,
   "id": "132780f7",
   "metadata": {},
   "outputs": [
    {
     "data": {
      "text/plain": [
       "array([[3459,  450],\n",
       "       [ 727, 1684]], dtype=int64)"
      ]
     },
     "execution_count": 107,
     "metadata": {},
     "output_type": "execute_result"
    }
   ],
   "source": [
    "confusion2 = metrics.confusion_matrix(y_train_pred_final.Converted, y_train_pred_final.predicted)\n",
    "confusion2"
   ]
  },
  {
   "cell_type": "code",
   "execution_count": 108,
   "id": "22a2c519",
   "metadata": {},
   "outputs": [],
   "source": [
    "TP=confusion2[1,1]\n",
    "TN=confusion2[0,0]\n",
    "FP=confusion2[0,1]\n",
    "FN=confusion2[1,0]"
   ]
  },
  {
   "cell_type": "code",
   "execution_count": 109,
   "id": "ed40b492",
   "metadata": {},
   "outputs": [
    {
     "data": {
      "text/plain": [
       "0.6984653670676068"
      ]
     },
     "execution_count": 109,
     "metadata": {},
     "output_type": "execute_result"
    }
   ],
   "source": [
    "# Sensitivity\n",
    "TP/float(TP+FN)"
   ]
  },
  {
   "cell_type": "code",
   "execution_count": 110,
   "id": "02d01b00",
   "metadata": {},
   "outputs": [
    {
     "data": {
      "text/plain": [
       "0.8848810437452034"
      ]
     },
     "execution_count": 110,
     "metadata": {},
     "output_type": "execute_result"
    }
   ],
   "source": [
    "# Specificity\n",
    "TN/float(TN+FP)"
   ]
  },
  {
   "cell_type": "code",
   "execution_count": 111,
   "id": "34d4083c",
   "metadata": {},
   "outputs": [
    {
     "data": {
      "text/plain": [
       "0.11511895625479662"
      ]
     },
     "execution_count": 111,
     "metadata": {},
     "output_type": "execute_result"
    }
   ],
   "source": [
    "# False Positive rate\n",
    "FP/float(TN+FP)"
   ]
  },
  {
   "cell_type": "code",
   "execution_count": 112,
   "id": "a726f86e",
   "metadata": {},
   "outputs": [
    {
     "data": {
      "text/plain": [
       "0.7891283973758201"
      ]
     },
     "execution_count": 112,
     "metadata": {},
     "output_type": "execute_result"
    }
   ],
   "source": [
    "# Positive predictive value\n",
    "TP/float(TP+FP)"
   ]
  },
  {
   "cell_type": "code",
   "execution_count": 113,
   "id": "a9f38aa4",
   "metadata": {},
   "outputs": [
    {
     "data": {
      "text/plain": [
       "0.8263258480649786"
      ]
     },
     "execution_count": 113,
     "metadata": {},
     "output_type": "execute_result"
    }
   ],
   "source": [
    "# Negative predictive value\n",
    "TN/float(TN+ FN)"
   ]
  },
  {
   "cell_type": "markdown",
   "id": "3723f745",
   "metadata": {},
   "source": [
    "#### Metrics-Precision and Recall"
   ]
  },
  {
   "cell_type": "code",
   "execution_count": 114,
   "id": "11071bac",
   "metadata": {},
   "outputs": [
    {
     "data": {
      "text/plain": [
       "array([[3459,  450],\n",
       "       [ 727, 1684]], dtype=int64)"
      ]
     },
     "execution_count": 114,
     "metadata": {},
     "output_type": "execute_result"
    }
   ],
   "source": [
    "confusion = metrics.confusion_matrix(y_train_pred_final.Converted, y_train_pred_final.predicted )\n",
    "confusion"
   ]
  },
  {
   "cell_type": "code",
   "execution_count": 115,
   "id": "4563a3f7",
   "metadata": {},
   "outputs": [],
   "source": [
    "from sklearn.metrics import precision_score, recall_score"
   ]
  },
  {
   "cell_type": "code",
   "execution_count": 116,
   "id": "f031dd57",
   "metadata": {},
   "outputs": [
    {
     "data": {
      "text/plain": [
       "0.7891283973758201"
      ]
     },
     "execution_count": 116,
     "metadata": {},
     "output_type": "execute_result"
    }
   ],
   "source": [
    "# Precision\n",
    "precision_score(y_train_pred_final.Converted, y_train_pred_final.predicted)"
   ]
  },
  {
   "cell_type": "code",
   "execution_count": 117,
   "id": "5437cea3",
   "metadata": {},
   "outputs": [
    {
     "data": {
      "text/plain": [
       "0.6984653670676068"
      ]
     },
     "execution_count": 117,
     "metadata": {},
     "output_type": "execute_result"
    }
   ],
   "source": [
    "# Recall\n",
    "recall_score(y_train_pred_final.Converted, y_train_pred_final.predicted)"
   ]
  },
  {
   "cell_type": "markdown",
   "id": "94c41241",
   "metadata": {},
   "source": [
    "#### Precision-Recall Tradeoff"
   ]
  },
  {
   "cell_type": "code",
   "execution_count": 118,
   "id": "13b4d6b1",
   "metadata": {},
   "outputs": [],
   "source": [
    "from sklearn.metrics import precision_recall_curve"
   ]
  },
  {
   "cell_type": "code",
   "execution_count": 119,
   "id": "caf36b98",
   "metadata": {},
   "outputs": [
    {
     "data": {
      "text/plain": [
       "(0       0\n",
       " 1       0\n",
       " 2       0\n",
       " 3       0\n",
       " 4       1\n",
       "        ..\n",
       " 6315    0\n",
       " 6316    1\n",
       " 6317    1\n",
       " 6318    1\n",
       " 6319    0\n",
       " Name: Converted, Length: 6320, dtype: int64,\n",
       " 0       0\n",
       " 1       0\n",
       " 2       0\n",
       " 3       0\n",
       " 4       0\n",
       "        ..\n",
       " 6315    0\n",
       " 6316    1\n",
       " 6317    1\n",
       " 6318    1\n",
       " 6319    0\n",
       " Name: predicted, Length: 6320, dtype: int64)"
      ]
     },
     "execution_count": 119,
     "metadata": {},
     "output_type": "execute_result"
    }
   ],
   "source": [
    "y_train_pred_final.Converted, y_train_pred_final.predicted"
   ]
  },
  {
   "cell_type": "code",
   "execution_count": 120,
   "id": "74d2f6be",
   "metadata": {},
   "outputs": [],
   "source": [
    "p, r, thresholds = precision_recall_curve(y_train_pred_final.Converted, y_train_pred_final.Converted_Prob)"
   ]
  },
  {
   "cell_type": "code",
   "execution_count": 121,
   "id": "e817ded7",
   "metadata": {},
   "outputs": [
    {
     "data": {
      "image/png": "[encoded data removed]",
      "text/plain": [
       "<Figure size 432x288 with 1 Axes>"
      ]
     },
     "metadata": {
      "needs_background": "light"
     },
     "output_type": "display_data"
    }
   ],
   "source": [
    "plt.plot(thresholds, p[:-1], \"g-\")\n",
    "plt.plot(thresholds, r[:-1], \"r-\")\n",
    "plt.show()"
   ]
  },
  {
   "cell_type": "markdown",
   "id": "e3145f91",
   "metadata": {},
   "source": [
    "The graph described an optimal cut off of 0.42 based on Precision and Recall. "
   ]
  },
  {
   "cell_type": "markdown",
   "id": "ba2a1522",
   "metadata": {},
   "source": [
    "### Make Predictions on Test set"
   ]
  },
  {
   "cell_type": "code",
   "execution_count": 122,
   "id": "0d8dfb5d",
   "metadata": {},
   "outputs": [],
   "source": [
    "X_test[['TotalVisits','Total Time Spent on Website','Page Views Per Visit']] = scaler.transform(X_test[['TotalVisits',\n",
    "                                                                        'Total Time Spent on Website','Page Views Per Visit']])"
   ]
  },
  {
   "cell_type": "code",
   "execution_count": 123,
   "id": "899cdc58",
   "metadata": {},
   "outputs": [
    {
     "data": {
      "text/html": [
       "<div>\n",
       "<style scoped>\n",
       "    .dataframe tbody tr th:only-of-type {\n",
       "        vertical-align: middle;\n",
       "    }\n",
       "\n",
       "    .dataframe tbody tr th {\n",
       "        vertical-align: top;\n",
       "    }\n",
       "\n",
       "    .dataframe thead th {\n",
       "        text-align: right;\n",
       "    }\n",
       "</style>\n",
       "<table border=\"1\" class=\"dataframe\">\n",
       "  <thead>\n",
       "    <tr style=\"text-align: right;\">\n",
       "      <th></th>\n",
       "      <th>Do Not Email</th>\n",
       "      <th>Total Time Spent on Website</th>\n",
       "      <th>LeadOrigin_Lead Add Form</th>\n",
       "      <th>LeadSource_Olark Chat</th>\n",
       "      <th>LeadSource_Welingak Website</th>\n",
       "      <th>LastActivity_Not sure</th>\n",
       "      <th>LastActivity_Olark Chat Conversation</th>\n",
       "      <th>CurrentOccupation_No Information</th>\n",
       "      <th>CurrentOccupation_Working Professional</th>\n",
       "      <th>LastNotableActivity_Email Link Clicked</th>\n",
       "      <th>LastNotableActivity_Email Opened</th>\n",
       "      <th>LastNotableActivity_Modified</th>\n",
       "      <th>LastNotableActivity_Olark Chat Conversation</th>\n",
       "      <th>LastNotableActivity_Page Visited on Website</th>\n",
       "    </tr>\n",
       "  </thead>\n",
       "  <tbody>\n",
       "    <tr>\n",
       "      <th>4664</th>\n",
       "      <td>0</td>\n",
       "      <td>-0.884316</td>\n",
       "      <td>0</td>\n",
       "      <td>1</td>\n",
       "      <td>0</td>\n",
       "      <td>0</td>\n",
       "      <td>0</td>\n",
       "      <td>0</td>\n",
       "      <td>0</td>\n",
       "      <td>0</td>\n",
       "      <td>1</td>\n",
       "      <td>0</td>\n",
       "      <td>0</td>\n",
       "      <td>0</td>\n",
       "    </tr>\n",
       "    <tr>\n",
       "      <th>5394</th>\n",
       "      <td>0</td>\n",
       "      <td>-0.583371</td>\n",
       "      <td>0</td>\n",
       "      <td>1</td>\n",
       "      <td>0</td>\n",
       "      <td>0</td>\n",
       "      <td>0</td>\n",
       "      <td>1</td>\n",
       "      <td>0</td>\n",
       "      <td>0</td>\n",
       "      <td>0</td>\n",
       "      <td>1</td>\n",
       "      <td>0</td>\n",
       "      <td>0</td>\n",
       "    </tr>\n",
       "    <tr>\n",
       "      <th>1595</th>\n",
       "      <td>0</td>\n",
       "      <td>1.264507</td>\n",
       "      <td>0</td>\n",
       "      <td>0</td>\n",
       "      <td>0</td>\n",
       "      <td>0</td>\n",
       "      <td>0</td>\n",
       "      <td>0</td>\n",
       "      <td>1</td>\n",
       "      <td>0</td>\n",
       "      <td>0</td>\n",
       "      <td>1</td>\n",
       "      <td>0</td>\n",
       "      <td>0</td>\n",
       "    </tr>\n",
       "    <tr>\n",
       "      <th>2111</th>\n",
       "      <td>0</td>\n",
       "      <td>0.073571</td>\n",
       "      <td>0</td>\n",
       "      <td>0</td>\n",
       "      <td>0</td>\n",
       "      <td>0</td>\n",
       "      <td>0</td>\n",
       "      <td>1</td>\n",
       "      <td>0</td>\n",
       "      <td>0</td>\n",
       "      <td>1</td>\n",
       "      <td>0</td>\n",
       "      <td>0</td>\n",
       "      <td>0</td>\n",
       "    </tr>\n",
       "    <tr>\n",
       "      <th>9182</th>\n",
       "      <td>0</td>\n",
       "      <td>-0.884316</td>\n",
       "      <td>0</td>\n",
       "      <td>1</td>\n",
       "      <td>0</td>\n",
       "      <td>0</td>\n",
       "      <td>0</td>\n",
       "      <td>0</td>\n",
       "      <td>0</td>\n",
       "      <td>0</td>\n",
       "      <td>0</td>\n",
       "      <td>1</td>\n",
       "      <td>0</td>\n",
       "      <td>0</td>\n",
       "    </tr>\n",
       "  </tbody>\n",
       "</table>\n",
       "</div>"
      ],
      "text/plain": [
       "      Do Not Email  Total Time Spent on Website  LeadOrigin_Lead Add Form  \\\n",
       "4664             0                    -0.884316                         0   \n",
       "5394             0                    -0.583371                         0   \n",
       "1595             0                     1.264507                         0   \n",
       "2111             0                     0.073571                         0   \n",
       "9182             0                    -0.884316                         0   \n",
       "\n",
       "      LeadSource_Olark Chat  LeadSource_Welingak Website  \\\n",
       "4664                      1                            0   \n",
       "5394                      1                            0   \n",
       "1595                      0                            0   \n",
       "2111                      0                            0   \n",
       "9182                      1                            0   \n",
       "\n",
       "      LastActivity_Not sure  LastActivity_Olark Chat Conversation  \\\n",
       "4664                      0                                     0   \n",
       "5394                      0                                     0   \n",
       "1595                      0                                     0   \n",
       "2111                      0                                     0   \n",
       "9182                      0                                     0   \n",
       "\n",
       "      CurrentOccupation_No Information  \\\n",
       "4664                                 0   \n",
       "5394                                 1   \n",
       "1595                                 0   \n",
       "2111                                 1   \n",
       "9182                                 0   \n",
       "\n",
       "      CurrentOccupation_Working Professional  \\\n",
       "4664                                       0   \n",
       "5394                                       0   \n",
       "1595                                       1   \n",
       "2111                                       0   \n",
       "9182                                       0   \n",
       "\n",
       "      LastNotableActivity_Email Link Clicked  \\\n",
       "4664                                       0   \n",
       "5394                                       0   \n",
       "1595                                       0   \n",
       "2111                                       0   \n",
       "9182                                       0   \n",
       "\n",
       "      LastNotableActivity_Email Opened  LastNotableActivity_Modified  \\\n",
       "4664                                 1                             0   \n",
       "5394                                 0                             1   \n",
       "1595                                 0                             1   \n",
       "2111                                 1                             0   \n",
       "9182                                 0                             1   \n",
       "\n",
       "      LastNotableActivity_Olark Chat Conversation  \\\n",
       "4664                                            0   \n",
       "5394                                            0   \n",
       "1595                                            0   \n",
       "2111                                            0   \n",
       "9182                                            0   \n",
       "\n",
       "      LastNotableActivity_Page Visited on Website  \n",
       "4664                                            0  \n",
       "5394                                            0  \n",
       "1595                                            0  \n",
       "2111                                            0  \n",
       "9182                                            0  "
      ]
     },
     "execution_count": 123,
     "metadata": {},
     "output_type": "execute_result"
    }
   ],
   "source": [
    "X_test = X_test[col]\n",
    "X_test.head()"
   ]
  },
  {
   "cell_type": "code",
   "execution_count": 124,
   "id": "7aa4df26",
   "metadata": {},
   "outputs": [],
   "source": [
    "X_test_sm = sm.add_constant(X_test)"
   ]
  },
  {
   "cell_type": "code",
   "execution_count": 125,
   "id": "4b5985b1",
   "metadata": {},
   "outputs": [
    {
     "data": {
      "text/plain": [
       "4664    0.355272\n",
       "5394    0.135943\n",
       "1595    0.907962\n",
       "2111    0.116577\n",
       "9182    0.258764\n",
       "1055    0.473122\n",
       "541     0.074195\n",
       "446     0.972897\n",
       "3728    0.030314\n",
       "4249    0.005946\n",
       "dtype: float64"
      ]
     },
     "execution_count": 125,
     "metadata": {},
     "output_type": "execute_result"
    }
   ],
   "source": [
    "y_test_pred = res.predict(X_test_sm)\n",
    "y_test_pred[:10]"
   ]
  },
  {
   "cell_type": "code",
   "execution_count": 126,
   "id": "ab9eff8a",
   "metadata": {},
   "outputs": [
    {
     "data": {
      "text/html": [
       "<div>\n",
       "<style scoped>\n",
       "    .dataframe tbody tr th:only-of-type {\n",
       "        vertical-align: middle;\n",
       "    }\n",
       "\n",
       "    .dataframe tbody tr th {\n",
       "        vertical-align: top;\n",
       "    }\n",
       "\n",
       "    .dataframe thead th {\n",
       "        text-align: right;\n",
       "    }\n",
       "</style>\n",
       "<table border=\"1\" class=\"dataframe\">\n",
       "  <thead>\n",
       "    <tr style=\"text-align: right;\">\n",
       "      <th></th>\n",
       "      <th>0</th>\n",
       "    </tr>\n",
       "  </thead>\n",
       "  <tbody>\n",
       "    <tr>\n",
       "      <th>4664</th>\n",
       "      <td>0.355272</td>\n",
       "    </tr>\n",
       "    <tr>\n",
       "      <th>5394</th>\n",
       "      <td>0.135943</td>\n",
       "    </tr>\n",
       "    <tr>\n",
       "      <th>1595</th>\n",
       "      <td>0.907962</td>\n",
       "    </tr>\n",
       "    <tr>\n",
       "      <th>2111</th>\n",
       "      <td>0.116577</td>\n",
       "    </tr>\n",
       "    <tr>\n",
       "      <th>9182</th>\n",
       "      <td>0.258764</td>\n",
       "    </tr>\n",
       "  </tbody>\n",
       "</table>\n",
       "</div>"
      ],
      "text/plain": [
       "             0\n",
       "4664  0.355272\n",
       "5394  0.135943\n",
       "1595  0.907962\n",
       "2111  0.116577\n",
       "9182  0.258764"
      ]
     },
     "execution_count": 126,
     "metadata": {},
     "output_type": "execute_result"
    }
   ],
   "source": [
    "# Converting y_pred to a dataframe which is an array\n",
    "y_pred_1 = pd.DataFrame(y_test_pred)\n",
    "y_pred_1.head()"
   ]
  },
  {
   "cell_type": "code",
   "execution_count": 127,
   "id": "577fe70a",
   "metadata": {},
   "outputs": [],
   "source": [
    "# Converting y_test to dataframe\n",
    "y_test_df = pd.DataFrame(y_test)"
   ]
  },
  {
   "cell_type": "code",
   "execution_count": 128,
   "id": "254ce252",
   "metadata": {},
   "outputs": [],
   "source": [
    "# Putting LeadId to index\n",
    "y_test_df['Prospect Id'] = y_test_df.index"
   ]
  },
  {
   "cell_type": "code",
   "execution_count": 129,
   "id": "4409936d",
   "metadata": {},
   "outputs": [],
   "source": [
    "# Removing index for both dataframes to append them side by side \n",
    "\n",
    "y_pred_1.reset_index(drop=True, inplace=True)\n",
    "y_test_df.reset_index(drop=True, inplace=True)"
   ]
  },
  {
   "cell_type": "code",
   "execution_count": 130,
   "id": "27a7b303",
   "metadata": {},
   "outputs": [
    {
     "data": {
      "text/html": [
       "<div>\n",
       "<style scoped>\n",
       "    .dataframe tbody tr th:only-of-type {\n",
       "        vertical-align: middle;\n",
       "    }\n",
       "\n",
       "    .dataframe tbody tr th {\n",
       "        vertical-align: top;\n",
       "    }\n",
       "\n",
       "    .dataframe thead th {\n",
       "        text-align: right;\n",
       "    }\n",
       "</style>\n",
       "<table border=\"1\" class=\"dataframe\">\n",
       "  <thead>\n",
       "    <tr style=\"text-align: right;\">\n",
       "      <th></th>\n",
       "      <th>Converted</th>\n",
       "      <th>Prospect Id</th>\n",
       "      <th>0</th>\n",
       "    </tr>\n",
       "  </thead>\n",
       "  <tbody>\n",
       "    <tr>\n",
       "      <th>0</th>\n",
       "      <td>0</td>\n",
       "      <td>4664</td>\n",
       "      <td>0.355272</td>\n",
       "    </tr>\n",
       "    <tr>\n",
       "      <th>1</th>\n",
       "      <td>0</td>\n",
       "      <td>5394</td>\n",
       "      <td>0.135943</td>\n",
       "    </tr>\n",
       "    <tr>\n",
       "      <th>2</th>\n",
       "      <td>1</td>\n",
       "      <td>1595</td>\n",
       "      <td>0.907962</td>\n",
       "    </tr>\n",
       "    <tr>\n",
       "      <th>3</th>\n",
       "      <td>0</td>\n",
       "      <td>2111</td>\n",
       "      <td>0.116577</td>\n",
       "    </tr>\n",
       "    <tr>\n",
       "      <th>4</th>\n",
       "      <td>0</td>\n",
       "      <td>9182</td>\n",
       "      <td>0.258764</td>\n",
       "    </tr>\n",
       "  </tbody>\n",
       "</table>\n",
       "</div>"
      ],
      "text/plain": [
       "   Converted  Prospect Id         0\n",
       "0          0         4664  0.355272\n",
       "1          0         5394  0.135943\n",
       "2          1         1595  0.907962\n",
       "3          0         2111  0.116577\n",
       "4          0         9182  0.258764"
      ]
     },
     "execution_count": 130,
     "metadata": {},
     "output_type": "execute_result"
    }
   ],
   "source": [
    "# Appending y_test_df and y_pred_1\n",
    "y_pred_final = pd.concat([y_test_df, y_pred_1],axis=1)\n",
    "y_pred_final.head()"
   ]
  },
  {
   "cell_type": "code",
   "execution_count": 131,
   "id": "a915fe69",
   "metadata": {},
   "outputs": [],
   "source": [
    "# Renaming the column \n",
    "y_pred_final= y_pred_final.rename(columns={ 0 : 'Converted_Prob'})"
   ]
  },
  {
   "cell_type": "code",
   "execution_count": 132,
   "id": "096f87eb",
   "metadata": {},
   "outputs": [
    {
     "data": {
      "text/html": [
       "<div>\n",
       "<style scoped>\n",
       "    .dataframe tbody tr th:only-of-type {\n",
       "        vertical-align: middle;\n",
       "    }\n",
       "\n",
       "    .dataframe tbody tr th {\n",
       "        vertical-align: top;\n",
       "    }\n",
       "\n",
       "    .dataframe thead th {\n",
       "        text-align: right;\n",
       "    }\n",
       "</style>\n",
       "<table border=\"1\" class=\"dataframe\">\n",
       "  <thead>\n",
       "    <tr style=\"text-align: right;\">\n",
       "      <th></th>\n",
       "      <th>Prospect Id</th>\n",
       "      <th>Converted</th>\n",
       "      <th>Converted_Prob</th>\n",
       "    </tr>\n",
       "  </thead>\n",
       "  <tbody>\n",
       "    <tr>\n",
       "      <th>0</th>\n",
       "      <td>4664</td>\n",
       "      <td>0</td>\n",
       "      <td>0.355272</td>\n",
       "    </tr>\n",
       "    <tr>\n",
       "      <th>1</th>\n",
       "      <td>5394</td>\n",
       "      <td>0</td>\n",
       "      <td>0.135943</td>\n",
       "    </tr>\n",
       "    <tr>\n",
       "      <th>2</th>\n",
       "      <td>1595</td>\n",
       "      <td>1</td>\n",
       "      <td>0.907962</td>\n",
       "    </tr>\n",
       "    <tr>\n",
       "      <th>3</th>\n",
       "      <td>2111</td>\n",
       "      <td>0</td>\n",
       "      <td>0.116577</td>\n",
       "    </tr>\n",
       "    <tr>\n",
       "      <th>4</th>\n",
       "      <td>9182</td>\n",
       "      <td>0</td>\n",
       "      <td>0.258764</td>\n",
       "    </tr>\n",
       "  </tbody>\n",
       "</table>\n",
       "</div>"
      ],
      "text/plain": [
       "   Prospect Id  Converted  Converted_Prob\n",
       "0         4664          0        0.355272\n",
       "1         5394          0        0.135943\n",
       "2         1595          1        0.907962\n",
       "3         2111          0        0.116577\n",
       "4         9182          0        0.258764"
      ]
     },
     "execution_count": 132,
     "metadata": {},
     "output_type": "execute_result"
    }
   ],
   "source": [
    "# Rearranging the columns\n",
    "y_pred_final = y_pred_final[['Prospect Id','Converted','Converted_Prob']]\n",
    "y_pred_final.head()"
   ]
  },
  {
   "cell_type": "code",
   "execution_count": 133,
   "id": "1ce573a7",
   "metadata": {},
   "outputs": [
    {
     "data": {
      "text/html": [
       "<div>\n",
       "<style scoped>\n",
       "    .dataframe tbody tr th:only-of-type {\n",
       "        vertical-align: middle;\n",
       "    }\n",
       "\n",
       "    .dataframe tbody tr th {\n",
       "        vertical-align: top;\n",
       "    }\n",
       "\n",
       "    .dataframe thead th {\n",
       "        text-align: right;\n",
       "    }\n",
       "</style>\n",
       "<table border=\"1\" class=\"dataframe\">\n",
       "  <thead>\n",
       "    <tr style=\"text-align: right;\">\n",
       "      <th></th>\n",
       "      <th>Prospect Id</th>\n",
       "      <th>Converted</th>\n",
       "      <th>Converted_Prob</th>\n",
       "      <th>final_predicted</th>\n",
       "    </tr>\n",
       "  </thead>\n",
       "  <tbody>\n",
       "    <tr>\n",
       "      <th>0</th>\n",
       "      <td>4664</td>\n",
       "      <td>0</td>\n",
       "      <td>0.355272</td>\n",
       "      <td>0</td>\n",
       "    </tr>\n",
       "    <tr>\n",
       "      <th>1</th>\n",
       "      <td>5394</td>\n",
       "      <td>0</td>\n",
       "      <td>0.135943</td>\n",
       "      <td>0</td>\n",
       "    </tr>\n",
       "    <tr>\n",
       "      <th>2</th>\n",
       "      <td>1595</td>\n",
       "      <td>1</td>\n",
       "      <td>0.907962</td>\n",
       "      <td>1</td>\n",
       "    </tr>\n",
       "    <tr>\n",
       "      <th>3</th>\n",
       "      <td>2111</td>\n",
       "      <td>0</td>\n",
       "      <td>0.116577</td>\n",
       "      <td>0</td>\n",
       "    </tr>\n",
       "    <tr>\n",
       "      <th>4</th>\n",
       "      <td>9182</td>\n",
       "      <td>0</td>\n",
       "      <td>0.258764</td>\n",
       "      <td>0</td>\n",
       "    </tr>\n",
       "  </tbody>\n",
       "</table>\n",
       "</div>"
      ],
      "text/plain": [
       "   Prospect Id  Converted  Converted_Prob  final_predicted\n",
       "0         4664          0        0.355272                0\n",
       "1         5394          0        0.135943                0\n",
       "2         1595          1        0.907962                1\n",
       "3         2111          0        0.116577                0\n",
       "4         9182          0        0.258764                0"
      ]
     },
     "execution_count": 133,
     "metadata": {},
     "output_type": "execute_result"
    }
   ],
   "source": [
    "y_pred_final['final_predicted'] = y_pred_final.Converted_Prob.map(lambda x: 1 if x > 0.37 else 0)\n",
    "y_pred_final.head()"
   ]
  },
  {
   "cell_type": "code",
   "execution_count": 134,
   "id": "8b99bc27",
   "metadata": {},
   "outputs": [
    {
     "data": {
      "text/html": [
       "<div>\n",
       "<style scoped>\n",
       "    .dataframe tbody tr th:only-of-type {\n",
       "        vertical-align: middle;\n",
       "    }\n",
       "\n",
       "    .dataframe tbody tr th {\n",
       "        vertical-align: top;\n",
       "    }\n",
       "\n",
       "    .dataframe thead th {\n",
       "        text-align: right;\n",
       "    }\n",
       "</style>\n",
       "<table border=\"1\" class=\"dataframe\">\n",
       "  <thead>\n",
       "    <tr style=\"text-align: right;\">\n",
       "      <th></th>\n",
       "      <th>Prospect Id</th>\n",
       "      <th>Converted</th>\n",
       "      <th>Converted_Prob</th>\n",
       "      <th>final_predicted</th>\n",
       "      <th>lead_score</th>\n",
       "    </tr>\n",
       "  </thead>\n",
       "  <tbody>\n",
       "    <tr>\n",
       "      <th>0</th>\n",
       "      <td>4664</td>\n",
       "      <td>0</td>\n",
       "      <td>0.355272</td>\n",
       "      <td>0</td>\n",
       "      <td>36</td>\n",
       "    </tr>\n",
       "    <tr>\n",
       "      <th>1</th>\n",
       "      <td>5394</td>\n",
       "      <td>0</td>\n",
       "      <td>0.135943</td>\n",
       "      <td>0</td>\n",
       "      <td>14</td>\n",
       "    </tr>\n",
       "    <tr>\n",
       "      <th>2</th>\n",
       "      <td>1595</td>\n",
       "      <td>1</td>\n",
       "      <td>0.907962</td>\n",
       "      <td>1</td>\n",
       "      <td>91</td>\n",
       "    </tr>\n",
       "    <tr>\n",
       "      <th>3</th>\n",
       "      <td>2111</td>\n",
       "      <td>0</td>\n",
       "      <td>0.116577</td>\n",
       "      <td>0</td>\n",
       "      <td>12</td>\n",
       "    </tr>\n",
       "    <tr>\n",
       "      <th>4</th>\n",
       "      <td>9182</td>\n",
       "      <td>0</td>\n",
       "      <td>0.258764</td>\n",
       "      <td>0</td>\n",
       "      <td>26</td>\n",
       "    </tr>\n",
       "  </tbody>\n",
       "</table>\n",
       "</div>"
      ],
      "text/plain": [
       "   Prospect Id  Converted  Converted_Prob  final_predicted  lead_score\n",
       "0         4664          0        0.355272                0          36\n",
       "1         5394          0        0.135943                0          14\n",
       "2         1595          1        0.907962                1          91\n",
       "3         2111          0        0.116577                0          12\n",
       "4         9182          0        0.258764                0          26"
      ]
     },
     "execution_count": 134,
     "metadata": {},
     "output_type": "execute_result"
    }
   ],
   "source": [
    "y_pred_final['lead_score'] = y_pred_final.Converted_Prob.map(lambda x: round(x*100))\n",
    "y_pred_final.head()"
   ]
  },
  {
   "cell_type": "code",
   "execution_count": 135,
   "id": "0b735e54",
   "metadata": {},
   "outputs": [
    {
     "data": {
      "text/plain": [
       "1    866\n",
       "0    200\n",
       "Name: final_predicted, dtype: int64"
      ]
     },
     "execution_count": 135,
     "metadata": {},
     "output_type": "execute_result"
    }
   ],
   "source": [
    "# checking if 80% cases are correctly predicted based on the converted column.\n",
    "# get the total of final predicted conversion or non conversion counts from the actual converted rates\n",
    "\n",
    "checking_test_df = y_pred_final.loc[y_pred_final['Converted']==1,['Converted','final_predicted']]\n",
    "checking_test_df['final_predicted'].value_counts()"
   ]
  },
  {
   "cell_type": "code",
   "execution_count": 136,
   "id": "3985ba1d",
   "metadata": {},
   "outputs": [
    {
     "data": {
      "text/plain": [
       "0.8123827392120075"
      ]
     },
     "execution_count": 136,
     "metadata": {},
     "output_type": "execute_result"
    }
   ],
   "source": [
    "# check the precentage of final_predicted conversions on test data\n",
    "866/float(866+200)"
   ]
  },
  {
   "cell_type": "markdown",
   "id": "c0155f8d",
   "metadata": {},
   "source": [
    "Hence we can see that the final prediction of conversions have a target rate of 81%."
   ]
  },
  {
   "cell_type": "code",
   "execution_count": 137,
   "id": "9d399c13",
   "metadata": {},
   "outputs": [
    {
     "data": {
      "text/plain": [
       "0.8106312292358804"
      ]
     },
     "execution_count": 137,
     "metadata": {},
     "output_type": "execute_result"
    }
   ],
   "source": [
    "# Let's check the accuracy.\n",
    "metrics.accuracy_score(y_pred_final.Converted, y_pred_final.final_predicted)"
   ]
  },
  {
   "cell_type": "code",
   "execution_count": 138,
   "id": "2c3efc03",
   "metadata": {},
   "outputs": [
    {
     "data": {
      "text/plain": [
       "array([[1330,  313],\n",
       "       [ 200,  866]], dtype=int64)"
      ]
     },
     "execution_count": 138,
     "metadata": {},
     "output_type": "execute_result"
    }
   ],
   "source": [
    "confusion2 = metrics.confusion_matrix(y_pred_final.Converted, y_pred_final.final_predicted )\n",
    "confusion2"
   ]
  },
  {
   "cell_type": "code",
   "execution_count": 139,
   "id": "d18c84f2",
   "metadata": {},
   "outputs": [],
   "source": [
    "TP = confusion2[1,1] \n",
    "TN = confusion2[0,0] \n",
    "FP = confusion2[0,1] \n",
    "FN = confusion2[1,0]"
   ]
  },
  {
   "cell_type": "code",
   "execution_count": 140,
   "id": "92b4e05c",
   "metadata": {},
   "outputs": [
    {
     "data": {
      "text/plain": [
       "0.8123827392120075"
      ]
     },
     "execution_count": 140,
     "metadata": {},
     "output_type": "execute_result"
    }
   ],
   "source": [
    "# Let's see the sensitivity of our logistic regression model\n",
    "TP/float(TP+FN)"
   ]
  },
  {
   "cell_type": "code",
   "execution_count": 141,
   "id": "f3eb6663",
   "metadata": {},
   "outputs": [
    {
     "data": {
      "text/plain": [
       "0.8094948265368229"
      ]
     },
     "execution_count": 141,
     "metadata": {},
     "output_type": "execute_result"
    }
   ],
   "source": [
    "# Specificity\n",
    "TN/float(TN+FP)"
   ]
  },
  {
   "cell_type": "code",
   "execution_count": 142,
   "id": "26661fc6",
   "metadata": {},
   "outputs": [
    {
     "data": {
      "text/plain": [
       "0.1905051734631771"
      ]
     },
     "execution_count": 142,
     "metadata": {},
     "output_type": "execute_result"
    }
   ],
   "source": [
    "# False Positive Rate\n",
    "FP/float(TN+FP)"
   ]
  },
  {
   "cell_type": "code",
   "execution_count": 143,
   "id": "e095dd5f",
   "metadata": {},
   "outputs": [
    {
     "data": {
      "text/plain": [
       "0.734520780322307"
      ]
     },
     "execution_count": 143,
     "metadata": {},
     "output_type": "execute_result"
    }
   ],
   "source": [
    "# Positive Predictive Value\n",
    "TP/float(TP+FP)"
   ]
  },
  {
   "cell_type": "code",
   "execution_count": 144,
   "id": "b2e7f435",
   "metadata": {},
   "outputs": [
    {
     "data": {
      "text/plain": [
       "0.869281045751634"
      ]
     },
     "execution_count": 144,
     "metadata": {},
     "output_type": "execute_result"
    }
   ],
   "source": [
    "# Negative Predictive Value\n",
    "TN/float(TN+ FN)"
   ]
  },
  {
   "cell_type": "markdown",
   "id": "8a149b7e",
   "metadata": {},
   "source": [
    "#### Precision and Recall metrics for the test set"
   ]
  },
  {
   "cell_type": "code",
   "execution_count": 145,
   "id": "da8fc736",
   "metadata": {},
   "outputs": [
    {
     "name": "stdout",
     "output_type": "stream",
     "text": [
      "precision  0.734520780322307\n"
     ]
    }
   ],
   "source": [
    "# precision\n",
    "print('precision ',precision_score(y_pred_final.Converted, y_pred_final.final_predicted))"
   ]
  },
  {
   "cell_type": "code",
   "execution_count": 146,
   "id": "18a59b00",
   "metadata": {},
   "outputs": [
    {
     "name": "stdout",
     "output_type": "stream",
     "text": [
      "recall  0.8123827392120075\n"
     ]
    }
   ],
   "source": [
    "# recall\n",
    "print('recall ',recall_score(y_pred_final.Converted, y_pred_final.final_predicted))"
   ]
  },
  {
   "cell_type": "code",
   "execution_count": 147,
   "id": "3a6f348c",
   "metadata": {},
   "outputs": [
    {
     "data": {
      "image/png": "[encoded data removed]",
      "text/plain": [
       "<Figure size 432x288 with 1 Axes>"
      ]
     },
     "metadata": {
      "needs_background": "light"
     },
     "output_type": "display_data"
    }
   ],
   "source": [
    "p, r, thresholds = precision_recall_curve(y_pred_final.Converted, y_pred_final.Converted_Prob)\n",
    "\n",
    "plt.plot(thresholds, p[:-1], \"g-\")\n",
    "plt.plot(thresholds, r[:-1], \"r-\")\n",
    "plt.show()"
   ]
  },
  {
   "cell_type": "markdown",
   "id": "533b8efb",
   "metadata": {},
   "source": [
    "The graph described an optimal cut off of 0.42 based on Precision and Recall. "
   ]
  },
  {
   "cell_type": "markdown",
   "id": "ee2e89d9",
   "metadata": {},
   "source": [
    "#### Conclusion :"
   ]
  },
  {
   "cell_type": "markdown",
   "id": "1d3ffb27",
   "metadata": {},
   "source": [
    "- While we have checked both Sensitivity-Specificity as well as Precision and Recall Metrics, we have considered the\n",
    "  optimal cut off based on Sensitivity and Specificity for calculating the final prediction.\n",
    "- Accuracy, Sensitivity and Specificity values of test set are around 81%, 81% and 80% which are approximately closer to \n",
    "  the respective values calculated using trained set.\n",
    "- Also the lead score calculated in the trained set of data shows the conversion rate on the final predicted model is \n",
    "  around 80%.\n",
    "- Hence overall this model seems to be good. "
   ]
  },
  {
   "cell_type": "code",
   "execution_count": null,
   "id": "8e353da5",
   "metadata": {},
   "outputs": [],
   "source": []
  }
 ],
 "metadata": {
  "kernelspec": {
   "display_name": "Python 3 (ipykernel)",
   "language": "python",
   "name": "python3"
  },
  "language_info": {
   "codemirror_mode": {
    "name": "ipython",
    "version": 3
   },
   "file_extension": ".py",
   "mimetype": "text/x-python",
   "name": "python",
   "nbconvert_exporter": "python",
   "pygments_lexer": "ipython3",
   "version": "3.9.12"
  }
 },
 "nbformat": 4,
 "nbformat_minor": 5
}
